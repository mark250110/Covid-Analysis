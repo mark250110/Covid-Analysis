{
 "cells": [
  {
   "cell_type": "markdown",
   "metadata": {},
   "source": [
    "# Task: Covid-19 Data Analysis\n",
    "### This notebook is used to understand the comprehension of Data Analysis techniques using Pandas library."
   ]
  },
  {
   "cell_type": "markdown",
   "metadata": {},
   "source": [
    "### Data Source: \n",
    "https://github.com/CSSEGISandData/COVID-19/tree/master/csse_covid_19_data/csse_covid_19_daily_reports\n",
    "\n",
    "### File naming convention\n",
    "\n",
    "MM-DD-YYYY.csv in UTC.\n",
    "\n",
    "### Field description\n",
    "\n",
    "- Province_State: China - province name; US/Canada/Australia/ - city name, state/province name; Others - name of the event (e.g., \"Diamond Princess\" cruise ship); other countries - blank.\n",
    "\n",
    "- Country_Region: country/region name conforming to WHO (will be updated).\n",
    "\n",
    "- Last_Update: MM/DD/YYYY HH:mm (24 hour format, in UTC).\n",
    "\n",
    "- Confirmed: the number of confirmed cases. For Hubei Province: from Feb 13 (GMT +8), we report both clinically diagnosed and lab-confirmed cases. For lab-confirmed cases only (Before Feb 17), please refer to who_covid_19_situation_reports. For Italy, diagnosis standard might be changed since Feb 27 to \"slow the growth of new case numbers.\" (Source)\n",
    "\n",
    "- Deaths: the number of deaths.\n",
    "\n",
    "- Recovered: the number of recovered cases."
   ]
  },
  {
   "cell_type": "markdown",
   "metadata": {},
   "source": [
    "### Question 1"
   ]
  },
  {
   "cell_type": "markdown",
   "metadata": {},
   "source": [
    "#### Read the dataset"
   ]
  },
  {
   "cell_type": "code",
   "execution_count": 1,
   "metadata": {},
   "outputs": [
    {
     "data": {
      "text/html": [
       "<div>\n",
       "<style scoped>\n",
       "    .dataframe tbody tr th:only-of-type {\n",
       "        vertical-align: middle;\n",
       "    }\n",
       "\n",
       "    .dataframe tbody tr th {\n",
       "        vertical-align: top;\n",
       "    }\n",
       "\n",
       "    .dataframe thead th {\n",
       "        text-align: right;\n",
       "    }\n",
       "</style>\n",
       "<table border=\"1\" class=\"dataframe\">\n",
       "  <thead>\n",
       "    <tr style=\"text-align: right;\">\n",
       "      <th></th>\n",
       "      <th>FIPS</th>\n",
       "      <th>Admin2</th>\n",
       "      <th>Province_State</th>\n",
       "      <th>Country_Region</th>\n",
       "      <th>Last_Update</th>\n",
       "      <th>Lat</th>\n",
       "      <th>Long_</th>\n",
       "      <th>Confirmed</th>\n",
       "      <th>Deaths</th>\n",
       "      <th>Recovered</th>\n",
       "      <th>Active</th>\n",
       "      <th>Combined_Key</th>\n",
       "      <th>Incident_Rate</th>\n",
       "      <th>Case_Fatality_Ratio</th>\n",
       "    </tr>\n",
       "  </thead>\n",
       "  <tbody>\n",
       "    <tr>\n",
       "      <th>0</th>\n",
       "      <td>NaN</td>\n",
       "      <td>NaN</td>\n",
       "      <td>NaN</td>\n",
       "      <td>Afghanistan</td>\n",
       "      <td>2021-05-31 03:08:59</td>\n",
       "      <td>33.93911</td>\n",
       "      <td>67.709953</td>\n",
       "      <td>70761</td>\n",
       "      <td>2919</td>\n",
       "      <td>57450.0</td>\n",
       "      <td>10392.0</td>\n",
       "      <td>Afghanistan</td>\n",
       "      <td>181.772452</td>\n",
       "      <td>4.125154</td>\n",
       "    </tr>\n",
       "    <tr>\n",
       "      <th>1</th>\n",
       "      <td>NaN</td>\n",
       "      <td>NaN</td>\n",
       "      <td>NaN</td>\n",
       "      <td>Albania</td>\n",
       "      <td>2021-05-31 03:08:59</td>\n",
       "      <td>41.15330</td>\n",
       "      <td>20.168300</td>\n",
       "      <td>132309</td>\n",
       "      <td>2450</td>\n",
       "      <td>129308.0</td>\n",
       "      <td>551.0</td>\n",
       "      <td>Albania</td>\n",
       "      <td>4597.574536</td>\n",
       "      <td>1.851726</td>\n",
       "    </tr>\n",
       "    <tr>\n",
       "      <th>2</th>\n",
       "      <td>NaN</td>\n",
       "      <td>NaN</td>\n",
       "      <td>NaN</td>\n",
       "      <td>Algeria</td>\n",
       "      <td>2021-05-31 03:08:59</td>\n",
       "      <td>28.03390</td>\n",
       "      <td>1.659600</td>\n",
       "      <td>128725</td>\n",
       "      <td>3465</td>\n",
       "      <td>89625.0</td>\n",
       "      <td>35635.0</td>\n",
       "      <td>Algeria</td>\n",
       "      <td>293.550600</td>\n",
       "      <td>2.691785</td>\n",
       "    </tr>\n",
       "    <tr>\n",
       "      <th>3</th>\n",
       "      <td>NaN</td>\n",
       "      <td>NaN</td>\n",
       "      <td>NaN</td>\n",
       "      <td>Andorra</td>\n",
       "      <td>2021-05-31 03:08:59</td>\n",
       "      <td>42.50630</td>\n",
       "      <td>1.521800</td>\n",
       "      <td>13693</td>\n",
       "      <td>127</td>\n",
       "      <td>13416.0</td>\n",
       "      <td>150.0</td>\n",
       "      <td>Andorra</td>\n",
       "      <td>17722.125154</td>\n",
       "      <td>0.927481</td>\n",
       "    </tr>\n",
       "    <tr>\n",
       "      <th>4</th>\n",
       "      <td>NaN</td>\n",
       "      <td>NaN</td>\n",
       "      <td>NaN</td>\n",
       "      <td>Angola</td>\n",
       "      <td>2021-05-31 03:08:59</td>\n",
       "      <td>-11.20270</td>\n",
       "      <td>17.873900</td>\n",
       "      <td>34366</td>\n",
       "      <td>764</td>\n",
       "      <td>27766.0</td>\n",
       "      <td>5836.0</td>\n",
       "      <td>Angola</td>\n",
       "      <td>104.563134</td>\n",
       "      <td>2.223128</td>\n",
       "    </tr>\n",
       "    <tr>\n",
       "      <th>...</th>\n",
       "      <td>...</td>\n",
       "      <td>...</td>\n",
       "      <td>...</td>\n",
       "      <td>...</td>\n",
       "      <td>...</td>\n",
       "      <td>...</td>\n",
       "      <td>...</td>\n",
       "      <td>...</td>\n",
       "      <td>...</td>\n",
       "      <td>...</td>\n",
       "      <td>...</td>\n",
       "      <td>...</td>\n",
       "      <td>...</td>\n",
       "      <td>...</td>\n",
       "    </tr>\n",
       "    <tr>\n",
       "      <th>4009</th>\n",
       "      <td>NaN</td>\n",
       "      <td>NaN</td>\n",
       "      <td>Unknown</td>\n",
       "      <td>Ukraine</td>\n",
       "      <td>2021-05-31 03:08:59</td>\n",
       "      <td>NaN</td>\n",
       "      <td>NaN</td>\n",
       "      <td>0</td>\n",
       "      <td>0</td>\n",
       "      <td>0.0</td>\n",
       "      <td>0.0</td>\n",
       "      <td>Unknown, Ukraine</td>\n",
       "      <td>0.000000</td>\n",
       "      <td>0.000000</td>\n",
       "    </tr>\n",
       "    <tr>\n",
       "      <th>4010</th>\n",
       "      <td>NaN</td>\n",
       "      <td>NaN</td>\n",
       "      <td>NaN</td>\n",
       "      <td>Nauru</td>\n",
       "      <td>2021-05-31 03:08:59</td>\n",
       "      <td>-0.52280</td>\n",
       "      <td>166.931500</td>\n",
       "      <td>0</td>\n",
       "      <td>0</td>\n",
       "      <td>0.0</td>\n",
       "      <td>0.0</td>\n",
       "      <td>Nauru</td>\n",
       "      <td>0.000000</td>\n",
       "      <td>0.000000</td>\n",
       "    </tr>\n",
       "    <tr>\n",
       "      <th>4011</th>\n",
       "      <td>NaN</td>\n",
       "      <td>NaN</td>\n",
       "      <td>Niue</td>\n",
       "      <td>New Zealand</td>\n",
       "      <td>2021-05-31 03:08:59</td>\n",
       "      <td>-19.05440</td>\n",
       "      <td>-169.867200</td>\n",
       "      <td>0</td>\n",
       "      <td>0</td>\n",
       "      <td>0.0</td>\n",
       "      <td>0.0</td>\n",
       "      <td>Niue, New Zealand</td>\n",
       "      <td>0.000000</td>\n",
       "      <td>0.000000</td>\n",
       "    </tr>\n",
       "    <tr>\n",
       "      <th>4012</th>\n",
       "      <td>NaN</td>\n",
       "      <td>NaN</td>\n",
       "      <td>NaN</td>\n",
       "      <td>Tuvalu</td>\n",
       "      <td>2021-05-31 03:08:59</td>\n",
       "      <td>-7.10950</td>\n",
       "      <td>177.649300</td>\n",
       "      <td>0</td>\n",
       "      <td>0</td>\n",
       "      <td>0.0</td>\n",
       "      <td>0.0</td>\n",
       "      <td>Tuvalu</td>\n",
       "      <td>0.000000</td>\n",
       "      <td>0.000000</td>\n",
       "    </tr>\n",
       "    <tr>\n",
       "      <th>4013</th>\n",
       "      <td>NaN</td>\n",
       "      <td>NaN</td>\n",
       "      <td>Pitcairn Islands</td>\n",
       "      <td>United Kingdom</td>\n",
       "      <td>2021-05-31 03:08:59</td>\n",
       "      <td>-24.37680</td>\n",
       "      <td>-128.324200</td>\n",
       "      <td>0</td>\n",
       "      <td>0</td>\n",
       "      <td>0.0</td>\n",
       "      <td>0.0</td>\n",
       "      <td>Pitcairn Islands, United Kingdom</td>\n",
       "      <td>0.000000</td>\n",
       "      <td>0.000000</td>\n",
       "    </tr>\n",
       "  </tbody>\n",
       "</table>\n",
       "<p>4014 rows × 14 columns</p>\n",
       "</div>"
      ],
      "text/plain": [
       "      FIPS Admin2    Province_State  Country_Region          Last_Update  \\\n",
       "0      NaN    NaN               NaN     Afghanistan  2021-05-31 03:08:59   \n",
       "1      NaN    NaN               NaN         Albania  2021-05-31 03:08:59   \n",
       "2      NaN    NaN               NaN         Algeria  2021-05-31 03:08:59   \n",
       "3      NaN    NaN               NaN         Andorra  2021-05-31 03:08:59   \n",
       "4      NaN    NaN               NaN          Angola  2021-05-31 03:08:59   \n",
       "...    ...    ...               ...             ...                  ...   \n",
       "4009   NaN    NaN           Unknown         Ukraine  2021-05-31 03:08:59   \n",
       "4010   NaN    NaN               NaN           Nauru  2021-05-31 03:08:59   \n",
       "4011   NaN    NaN              Niue     New Zealand  2021-05-31 03:08:59   \n",
       "4012   NaN    NaN               NaN          Tuvalu  2021-05-31 03:08:59   \n",
       "4013   NaN    NaN  Pitcairn Islands  United Kingdom  2021-05-31 03:08:59   \n",
       "\n",
       "           Lat       Long_  Confirmed  Deaths  Recovered   Active  \\\n",
       "0     33.93911   67.709953      70761    2919    57450.0  10392.0   \n",
       "1     41.15330   20.168300     132309    2450   129308.0    551.0   \n",
       "2     28.03390    1.659600     128725    3465    89625.0  35635.0   \n",
       "3     42.50630    1.521800      13693     127    13416.0    150.0   \n",
       "4    -11.20270   17.873900      34366     764    27766.0   5836.0   \n",
       "...        ...         ...        ...     ...        ...      ...   \n",
       "4009       NaN         NaN          0       0        0.0      0.0   \n",
       "4010  -0.52280  166.931500          0       0        0.0      0.0   \n",
       "4011 -19.05440 -169.867200          0       0        0.0      0.0   \n",
       "4012  -7.10950  177.649300          0       0        0.0      0.0   \n",
       "4013 -24.37680 -128.324200          0       0        0.0      0.0   \n",
       "\n",
       "                          Combined_Key  Incident_Rate  Case_Fatality_Ratio  \n",
       "0                          Afghanistan     181.772452             4.125154  \n",
       "1                              Albania    4597.574536             1.851726  \n",
       "2                              Algeria     293.550600             2.691785  \n",
       "3                              Andorra   17722.125154             0.927481  \n",
       "4                               Angola     104.563134             2.223128  \n",
       "...                                ...            ...                  ...  \n",
       "4009                  Unknown, Ukraine       0.000000             0.000000  \n",
       "4010                             Nauru       0.000000             0.000000  \n",
       "4011                 Niue, New Zealand       0.000000             0.000000  \n",
       "4012                            Tuvalu       0.000000             0.000000  \n",
       "4013  Pitcairn Islands, United Kingdom       0.000000             0.000000  \n",
       "\n",
       "[4014 rows x 14 columns]"
      ]
     },
     "execution_count": 1,
     "metadata": {},
     "output_type": "execute_result"
    }
   ],
   "source": [
    "import pandas as pd\n",
    "import numpy as np\n",
    "import matplotlib.pyplot as plt\n",
    "from collections import Counter\n",
    "\n",
    "#ReadCSV\n",
    "covid_df=pd.read_csv('https://raw.githubusercontent.com/CSSEGISandData/COVID-19/master/csse_covid_19_data/csse_covid_19_daily_reports/05-30-2021.csv')\n",
    "covid_df"
   ]
  },
  {
   "cell_type": "markdown",
   "metadata": {},
   "source": [
    "#### Display the top 5 rows in the data"
   ]
  },
  {
   "cell_type": "code",
   "execution_count": 2,
   "metadata": {},
   "outputs": [
    {
     "data": {
      "text/html": [
       "<div>\n",
       "<style scoped>\n",
       "    .dataframe tbody tr th:only-of-type {\n",
       "        vertical-align: middle;\n",
       "    }\n",
       "\n",
       "    .dataframe tbody tr th {\n",
       "        vertical-align: top;\n",
       "    }\n",
       "\n",
       "    .dataframe thead th {\n",
       "        text-align: right;\n",
       "    }\n",
       "</style>\n",
       "<table border=\"1\" class=\"dataframe\">\n",
       "  <thead>\n",
       "    <tr style=\"text-align: right;\">\n",
       "      <th></th>\n",
       "      <th>FIPS</th>\n",
       "      <th>Admin2</th>\n",
       "      <th>Province_State</th>\n",
       "      <th>Country_Region</th>\n",
       "      <th>Last_Update</th>\n",
       "      <th>Lat</th>\n",
       "      <th>Long_</th>\n",
       "      <th>Confirmed</th>\n",
       "      <th>Deaths</th>\n",
       "      <th>Recovered</th>\n",
       "      <th>Active</th>\n",
       "      <th>Combined_Key</th>\n",
       "      <th>Incident_Rate</th>\n",
       "      <th>Case_Fatality_Ratio</th>\n",
       "    </tr>\n",
       "  </thead>\n",
       "  <tbody>\n",
       "    <tr>\n",
       "      <th>0</th>\n",
       "      <td>NaN</td>\n",
       "      <td>NaN</td>\n",
       "      <td>NaN</td>\n",
       "      <td>Afghanistan</td>\n",
       "      <td>2021-05-31 03:08:59</td>\n",
       "      <td>33.93911</td>\n",
       "      <td>67.709953</td>\n",
       "      <td>70761</td>\n",
       "      <td>2919</td>\n",
       "      <td>57450.0</td>\n",
       "      <td>10392.0</td>\n",
       "      <td>Afghanistan</td>\n",
       "      <td>181.772452</td>\n",
       "      <td>4.125154</td>\n",
       "    </tr>\n",
       "    <tr>\n",
       "      <th>1</th>\n",
       "      <td>NaN</td>\n",
       "      <td>NaN</td>\n",
       "      <td>NaN</td>\n",
       "      <td>Albania</td>\n",
       "      <td>2021-05-31 03:08:59</td>\n",
       "      <td>41.15330</td>\n",
       "      <td>20.168300</td>\n",
       "      <td>132309</td>\n",
       "      <td>2450</td>\n",
       "      <td>129308.0</td>\n",
       "      <td>551.0</td>\n",
       "      <td>Albania</td>\n",
       "      <td>4597.574536</td>\n",
       "      <td>1.851726</td>\n",
       "    </tr>\n",
       "    <tr>\n",
       "      <th>2</th>\n",
       "      <td>NaN</td>\n",
       "      <td>NaN</td>\n",
       "      <td>NaN</td>\n",
       "      <td>Algeria</td>\n",
       "      <td>2021-05-31 03:08:59</td>\n",
       "      <td>28.03390</td>\n",
       "      <td>1.659600</td>\n",
       "      <td>128725</td>\n",
       "      <td>3465</td>\n",
       "      <td>89625.0</td>\n",
       "      <td>35635.0</td>\n",
       "      <td>Algeria</td>\n",
       "      <td>293.550600</td>\n",
       "      <td>2.691785</td>\n",
       "    </tr>\n",
       "    <tr>\n",
       "      <th>3</th>\n",
       "      <td>NaN</td>\n",
       "      <td>NaN</td>\n",
       "      <td>NaN</td>\n",
       "      <td>Andorra</td>\n",
       "      <td>2021-05-31 03:08:59</td>\n",
       "      <td>42.50630</td>\n",
       "      <td>1.521800</td>\n",
       "      <td>13693</td>\n",
       "      <td>127</td>\n",
       "      <td>13416.0</td>\n",
       "      <td>150.0</td>\n",
       "      <td>Andorra</td>\n",
       "      <td>17722.125154</td>\n",
       "      <td>0.927481</td>\n",
       "    </tr>\n",
       "    <tr>\n",
       "      <th>4</th>\n",
       "      <td>NaN</td>\n",
       "      <td>NaN</td>\n",
       "      <td>NaN</td>\n",
       "      <td>Angola</td>\n",
       "      <td>2021-05-31 03:08:59</td>\n",
       "      <td>-11.20270</td>\n",
       "      <td>17.873900</td>\n",
       "      <td>34366</td>\n",
       "      <td>764</td>\n",
       "      <td>27766.0</td>\n",
       "      <td>5836.0</td>\n",
       "      <td>Angola</td>\n",
       "      <td>104.563134</td>\n",
       "      <td>2.223128</td>\n",
       "    </tr>\n",
       "  </tbody>\n",
       "</table>\n",
       "</div>"
      ],
      "text/plain": [
       "   FIPS Admin2 Province_State Country_Region          Last_Update       Lat  \\\n",
       "0   NaN    NaN            NaN    Afghanistan  2021-05-31 03:08:59  33.93911   \n",
       "1   NaN    NaN            NaN        Albania  2021-05-31 03:08:59  41.15330   \n",
       "2   NaN    NaN            NaN        Algeria  2021-05-31 03:08:59  28.03390   \n",
       "3   NaN    NaN            NaN        Andorra  2021-05-31 03:08:59  42.50630   \n",
       "4   NaN    NaN            NaN         Angola  2021-05-31 03:08:59 -11.20270   \n",
       "\n",
       "       Long_  Confirmed  Deaths  Recovered   Active Combined_Key  \\\n",
       "0  67.709953      70761    2919    57450.0  10392.0  Afghanistan   \n",
       "1  20.168300     132309    2450   129308.0    551.0      Albania   \n",
       "2   1.659600     128725    3465    89625.0  35635.0      Algeria   \n",
       "3   1.521800      13693     127    13416.0    150.0      Andorra   \n",
       "4  17.873900      34366     764    27766.0   5836.0       Angola   \n",
       "\n",
       "   Incident_Rate  Case_Fatality_Ratio  \n",
       "0     181.772452             4.125154  \n",
       "1    4597.574536             1.851726  \n",
       "2     293.550600             2.691785  \n",
       "3   17722.125154             0.927481  \n",
       "4     104.563134             2.223128  "
      ]
     },
     "execution_count": 2,
     "metadata": {},
     "output_type": "execute_result"
    }
   ],
   "source": [
    "covid_df.head()"
   ]
  },
  {
   "cell_type": "markdown",
   "metadata": {},
   "source": [
    "#### Show the information of the dataset"
   ]
  },
  {
   "cell_type": "code",
   "execution_count": 3,
   "metadata": {},
   "outputs": [
    {
     "name": "stdout",
     "output_type": "stream",
     "text": [
      "<class 'pandas.core.frame.DataFrame'>\n",
      "RangeIndex: 4014 entries, 0 to 4013\n",
      "Data columns (total 14 columns):\n",
      " #   Column               Non-Null Count  Dtype  \n",
      "---  ------               --------------  -----  \n",
      " 0   FIPS                 3266 non-null   float64\n",
      " 1   Admin2               3271 non-null   object \n",
      " 2   Province_State       3835 non-null   object \n",
      " 3   Country_Region       4014 non-null   object \n",
      " 4   Last_Update          4014 non-null   object \n",
      " 5   Lat                  3924 non-null   float64\n",
      " 6   Long_                3924 non-null   float64\n",
      " 7   Confirmed            4014 non-null   int64  \n",
      " 8   Deaths               4014 non-null   int64  \n",
      " 9   Recovered            737 non-null    float64\n",
      " 10  Active               737 non-null    float64\n",
      " 11  Combined_Key         4014 non-null   object \n",
      " 12  Incident_Rate        3924 non-null   float64\n",
      " 13  Case_Fatality_Ratio  3970 non-null   float64\n",
      "dtypes: float64(7), int64(2), object(5)\n",
      "memory usage: 439.2+ KB\n"
     ]
    }
   ],
   "source": [
    "covid_df.info()"
   ]
  },
  {
   "cell_type": "markdown",
   "metadata": {},
   "source": [
    "#### Show the sum of missing values of features in the dataset"
   ]
  },
  {
   "cell_type": "code",
   "execution_count": 4,
   "metadata": {},
   "outputs": [
    {
     "data": {
      "text/plain": [
       "FIPS                    748\n",
       "Admin2                  743\n",
       "Province_State          179\n",
       "Country_Region            0\n",
       "Last_Update               0\n",
       "Lat                      90\n",
       "Long_                    90\n",
       "Confirmed                 0\n",
       "Deaths                    0\n",
       "Recovered              3277\n",
       "Active                 3277\n",
       "Combined_Key              0\n",
       "Incident_Rate            90\n",
       "Case_Fatality_Ratio      44\n",
       "dtype: int64"
      ]
     },
     "execution_count": 4,
     "metadata": {},
     "output_type": "execute_result"
    }
   ],
   "source": [
    "covid_df.isnull().sum()"
   ]
  },
  {
   "cell_type": "markdown",
   "metadata": {},
   "source": [
    "### Question 2"
   ]
  },
  {
   "cell_type": "markdown",
   "metadata": {},
   "source": [
    "#### Show the number of Confirmed cases by Country"
   ]
  },
  {
   "cell_type": "code",
   "execution_count": 5,
   "metadata": {},
   "outputs": [
    {
     "data": {
      "text/html": [
       "<div>\n",
       "<style scoped>\n",
       "    .dataframe tbody tr th:only-of-type {\n",
       "        vertical-align: middle;\n",
       "    }\n",
       "\n",
       "    .dataframe tbody tr th {\n",
       "        vertical-align: top;\n",
       "    }\n",
       "\n",
       "    .dataframe thead th {\n",
       "        text-align: right;\n",
       "    }\n",
       "</style>\n",
       "<table border=\"1\" class=\"dataframe\">\n",
       "  <thead>\n",
       "    <tr style=\"text-align: right;\">\n",
       "      <th></th>\n",
       "      <th>Confirmed</th>\n",
       "    </tr>\n",
       "    <tr>\n",
       "      <th>Country_Region</th>\n",
       "      <th></th>\n",
       "    </tr>\n",
       "  </thead>\n",
       "  <tbody>\n",
       "    <tr>\n",
       "      <th>Afghanistan</th>\n",
       "      <td>70761</td>\n",
       "    </tr>\n",
       "    <tr>\n",
       "      <th>Albania</th>\n",
       "      <td>132309</td>\n",
       "    </tr>\n",
       "    <tr>\n",
       "      <th>Algeria</th>\n",
       "      <td>128725</td>\n",
       "    </tr>\n",
       "    <tr>\n",
       "      <th>Andorra</th>\n",
       "      <td>13693</td>\n",
       "    </tr>\n",
       "    <tr>\n",
       "      <th>Angola</th>\n",
       "      <td>34366</td>\n",
       "    </tr>\n",
       "    <tr>\n",
       "      <th>...</th>\n",
       "      <td>...</td>\n",
       "    </tr>\n",
       "    <tr>\n",
       "      <th>West Bank and Gaza</th>\n",
       "      <td>308048</td>\n",
       "    </tr>\n",
       "    <tr>\n",
       "      <th>Winter Olympics 2022</th>\n",
       "      <td>0</td>\n",
       "    </tr>\n",
       "    <tr>\n",
       "      <th>Yemen</th>\n",
       "      <td>6737</td>\n",
       "    </tr>\n",
       "    <tr>\n",
       "      <th>Zambia</th>\n",
       "      <td>95050</td>\n",
       "    </tr>\n",
       "    <tr>\n",
       "      <th>Zimbabwe</th>\n",
       "      <td>38944</td>\n",
       "    </tr>\n",
       "  </tbody>\n",
       "</table>\n",
       "<p>201 rows × 1 columns</p>\n",
       "</div>"
      ],
      "text/plain": [
       "                      Confirmed\n",
       "Country_Region                 \n",
       "Afghanistan               70761\n",
       "Albania                  132309\n",
       "Algeria                  128725\n",
       "Andorra                   13693\n",
       "Angola                    34366\n",
       "...                         ...\n",
       "West Bank and Gaza       308048\n",
       "Winter Olympics 2022          0\n",
       "Yemen                      6737\n",
       "Zambia                    95050\n",
       "Zimbabwe                  38944\n",
       "\n",
       "[201 rows x 1 columns]"
      ]
     },
     "execution_count": 5,
     "metadata": {},
     "output_type": "execute_result"
    }
   ],
   "source": [
    "covid_df.groupby('Country_Region')[['Confirmed']].sum()"
   ]
  },
  {
   "cell_type": "markdown",
   "metadata": {},
   "source": [
    "#### Show the number of Deaths by Country"
   ]
  },
  {
   "cell_type": "code",
   "execution_count": 6,
   "metadata": {},
   "outputs": [
    {
     "data": {
      "text/html": [
       "<div>\n",
       "<style scoped>\n",
       "    .dataframe tbody tr th:only-of-type {\n",
       "        vertical-align: middle;\n",
       "    }\n",
       "\n",
       "    .dataframe tbody tr th {\n",
       "        vertical-align: top;\n",
       "    }\n",
       "\n",
       "    .dataframe thead th {\n",
       "        text-align: right;\n",
       "    }\n",
       "</style>\n",
       "<table border=\"1\" class=\"dataframe\">\n",
       "  <thead>\n",
       "    <tr style=\"text-align: right;\">\n",
       "      <th></th>\n",
       "      <th>Deaths</th>\n",
       "    </tr>\n",
       "    <tr>\n",
       "      <th>Country_Region</th>\n",
       "      <th></th>\n",
       "    </tr>\n",
       "  </thead>\n",
       "  <tbody>\n",
       "    <tr>\n",
       "      <th>Afghanistan</th>\n",
       "      <td>2919</td>\n",
       "    </tr>\n",
       "    <tr>\n",
       "      <th>Albania</th>\n",
       "      <td>2450</td>\n",
       "    </tr>\n",
       "    <tr>\n",
       "      <th>Algeria</th>\n",
       "      <td>3465</td>\n",
       "    </tr>\n",
       "    <tr>\n",
       "      <th>Andorra</th>\n",
       "      <td>127</td>\n",
       "    </tr>\n",
       "    <tr>\n",
       "      <th>Angola</th>\n",
       "      <td>764</td>\n",
       "    </tr>\n",
       "    <tr>\n",
       "      <th>...</th>\n",
       "      <td>...</td>\n",
       "    </tr>\n",
       "    <tr>\n",
       "      <th>West Bank and Gaza</th>\n",
       "      <td>3495</td>\n",
       "    </tr>\n",
       "    <tr>\n",
       "      <th>Winter Olympics 2022</th>\n",
       "      <td>0</td>\n",
       "    </tr>\n",
       "    <tr>\n",
       "      <th>Yemen</th>\n",
       "      <td>1320</td>\n",
       "    </tr>\n",
       "    <tr>\n",
       "      <th>Zambia</th>\n",
       "      <td>1278</td>\n",
       "    </tr>\n",
       "    <tr>\n",
       "      <th>Zimbabwe</th>\n",
       "      <td>1594</td>\n",
       "    </tr>\n",
       "  </tbody>\n",
       "</table>\n",
       "<p>201 rows × 1 columns</p>\n",
       "</div>"
      ],
      "text/plain": [
       "                      Deaths\n",
       "Country_Region              \n",
       "Afghanistan             2919\n",
       "Albania                 2450\n",
       "Algeria                 3465\n",
       "Andorra                  127\n",
       "Angola                   764\n",
       "...                      ...\n",
       "West Bank and Gaza      3495\n",
       "Winter Olympics 2022       0\n",
       "Yemen                   1320\n",
       "Zambia                  1278\n",
       "Zimbabwe                1594\n",
       "\n",
       "[201 rows x 1 columns]"
      ]
     },
     "execution_count": 6,
     "metadata": {},
     "output_type": "execute_result"
    }
   ],
   "source": [
    "covid_df.groupby('Country_Region')[['Deaths']].sum()"
   ]
  },
  {
   "cell_type": "markdown",
   "metadata": {},
   "source": [
    "#### Show the number of Recovered cases by Country"
   ]
  },
  {
   "cell_type": "code",
   "execution_count": 7,
   "metadata": {},
   "outputs": [
    {
     "data": {
      "text/html": [
       "<div>\n",
       "<style scoped>\n",
       "    .dataframe tbody tr th:only-of-type {\n",
       "        vertical-align: middle;\n",
       "    }\n",
       "\n",
       "    .dataframe tbody tr th {\n",
       "        vertical-align: top;\n",
       "    }\n",
       "\n",
       "    .dataframe thead th {\n",
       "        text-align: right;\n",
       "    }\n",
       "</style>\n",
       "<table border=\"1\" class=\"dataframe\">\n",
       "  <thead>\n",
       "    <tr style=\"text-align: right;\">\n",
       "      <th></th>\n",
       "      <th>Recovered</th>\n",
       "    </tr>\n",
       "    <tr>\n",
       "      <th>Country_Region</th>\n",
       "      <th></th>\n",
       "    </tr>\n",
       "  </thead>\n",
       "  <tbody>\n",
       "    <tr>\n",
       "      <th>Afghanistan</th>\n",
       "      <td>57450.0</td>\n",
       "    </tr>\n",
       "    <tr>\n",
       "      <th>Albania</th>\n",
       "      <td>129308.0</td>\n",
       "    </tr>\n",
       "    <tr>\n",
       "      <th>Algeria</th>\n",
       "      <td>89625.0</td>\n",
       "    </tr>\n",
       "    <tr>\n",
       "      <th>Andorra</th>\n",
       "      <td>13416.0</td>\n",
       "    </tr>\n",
       "    <tr>\n",
       "      <th>Angola</th>\n",
       "      <td>27766.0</td>\n",
       "    </tr>\n",
       "    <tr>\n",
       "      <th>...</th>\n",
       "      <td>...</td>\n",
       "    </tr>\n",
       "    <tr>\n",
       "      <th>West Bank and Gaza</th>\n",
       "      <td>300661.0</td>\n",
       "    </tr>\n",
       "    <tr>\n",
       "      <th>Winter Olympics 2022</th>\n",
       "      <td>0.0</td>\n",
       "    </tr>\n",
       "    <tr>\n",
       "      <th>Yemen</th>\n",
       "      <td>3427.0</td>\n",
       "    </tr>\n",
       "    <tr>\n",
       "      <th>Zambia</th>\n",
       "      <td>91752.0</td>\n",
       "    </tr>\n",
       "    <tr>\n",
       "      <th>Zimbabwe</th>\n",
       "      <td>36591.0</td>\n",
       "    </tr>\n",
       "  </tbody>\n",
       "</table>\n",
       "<p>201 rows × 1 columns</p>\n",
       "</div>"
      ],
      "text/plain": [
       "                      Recovered\n",
       "Country_Region                 \n",
       "Afghanistan             57450.0\n",
       "Albania                129308.0\n",
       "Algeria                 89625.0\n",
       "Andorra                 13416.0\n",
       "Angola                  27766.0\n",
       "...                         ...\n",
       "West Bank and Gaza     300661.0\n",
       "Winter Olympics 2022        0.0\n",
       "Yemen                    3427.0\n",
       "Zambia                  91752.0\n",
       "Zimbabwe                36591.0\n",
       "\n",
       "[201 rows x 1 columns]"
      ]
     },
     "execution_count": 7,
     "metadata": {},
     "output_type": "execute_result"
    }
   ],
   "source": [
    "covid_df.groupby('Country_Region')[['Recovered']].sum()"
   ]
  },
  {
   "cell_type": "markdown",
   "metadata": {},
   "source": [
    "#### Show the number of Active Cases by Country"
   ]
  },
  {
   "cell_type": "code",
   "execution_count": 8,
   "metadata": {},
   "outputs": [
    {
     "data": {
      "text/html": [
       "<div>\n",
       "<style scoped>\n",
       "    .dataframe tbody tr th:only-of-type {\n",
       "        vertical-align: middle;\n",
       "    }\n",
       "\n",
       "    .dataframe tbody tr th {\n",
       "        vertical-align: top;\n",
       "    }\n",
       "\n",
       "    .dataframe thead th {\n",
       "        text-align: right;\n",
       "    }\n",
       "</style>\n",
       "<table border=\"1\" class=\"dataframe\">\n",
       "  <thead>\n",
       "    <tr style=\"text-align: right;\">\n",
       "      <th></th>\n",
       "      <th>Active</th>\n",
       "    </tr>\n",
       "    <tr>\n",
       "      <th>Country_Region</th>\n",
       "      <th></th>\n",
       "    </tr>\n",
       "  </thead>\n",
       "  <tbody>\n",
       "    <tr>\n",
       "      <th>Afghanistan</th>\n",
       "      <td>10392.0</td>\n",
       "    </tr>\n",
       "    <tr>\n",
       "      <th>Albania</th>\n",
       "      <td>551.0</td>\n",
       "    </tr>\n",
       "    <tr>\n",
       "      <th>Algeria</th>\n",
       "      <td>35635.0</td>\n",
       "    </tr>\n",
       "    <tr>\n",
       "      <th>Andorra</th>\n",
       "      <td>150.0</td>\n",
       "    </tr>\n",
       "    <tr>\n",
       "      <th>Angola</th>\n",
       "      <td>5836.0</td>\n",
       "    </tr>\n",
       "    <tr>\n",
       "      <th>...</th>\n",
       "      <td>...</td>\n",
       "    </tr>\n",
       "    <tr>\n",
       "      <th>West Bank and Gaza</th>\n",
       "      <td>3892.0</td>\n",
       "    </tr>\n",
       "    <tr>\n",
       "      <th>Winter Olympics 2022</th>\n",
       "      <td>0.0</td>\n",
       "    </tr>\n",
       "    <tr>\n",
       "      <th>Yemen</th>\n",
       "      <td>1990.0</td>\n",
       "    </tr>\n",
       "    <tr>\n",
       "      <th>Zambia</th>\n",
       "      <td>2020.0</td>\n",
       "    </tr>\n",
       "    <tr>\n",
       "      <th>Zimbabwe</th>\n",
       "      <td>759.0</td>\n",
       "    </tr>\n",
       "  </tbody>\n",
       "</table>\n",
       "<p>201 rows × 1 columns</p>\n",
       "</div>"
      ],
      "text/plain": [
       "                       Active\n",
       "Country_Region               \n",
       "Afghanistan           10392.0\n",
       "Albania                 551.0\n",
       "Algeria               35635.0\n",
       "Andorra                 150.0\n",
       "Angola                 5836.0\n",
       "...                       ...\n",
       "West Bank and Gaza     3892.0\n",
       "Winter Olympics 2022      0.0\n",
       "Yemen                  1990.0\n",
       "Zambia                 2020.0\n",
       "Zimbabwe                759.0\n",
       "\n",
       "[201 rows x 1 columns]"
      ]
     },
     "execution_count": 8,
     "metadata": {},
     "output_type": "execute_result"
    }
   ],
   "source": [
    "covid_df.groupby(['Country_Region'])[['Active']].sum()"
   ]
  },
  {
   "cell_type": "markdown",
   "metadata": {},
   "source": [
    "#### Show the latest number of Confirmed, Deaths, Recovered and Active cases Country-wise"
   ]
  },
  {
   "cell_type": "code",
   "execution_count": 9,
   "metadata": {},
   "outputs": [
    {
     "data": {
      "text/html": [
       "<div>\n",
       "<style scoped>\n",
       "    .dataframe tbody tr th:only-of-type {\n",
       "        vertical-align: middle;\n",
       "    }\n",
       "\n",
       "    .dataframe tbody tr th {\n",
       "        vertical-align: top;\n",
       "    }\n",
       "\n",
       "    .dataframe thead th {\n",
       "        text-align: right;\n",
       "    }\n",
       "</style>\n",
       "<table border=\"1\" class=\"dataframe\">\n",
       "  <thead>\n",
       "    <tr style=\"text-align: right;\">\n",
       "      <th></th>\n",
       "      <th>Confirmed</th>\n",
       "      <th>Deaths</th>\n",
       "      <th>Recovered</th>\n",
       "      <th>Active</th>\n",
       "    </tr>\n",
       "    <tr>\n",
       "      <th>Country_Region</th>\n",
       "      <th></th>\n",
       "      <th></th>\n",
       "      <th></th>\n",
       "      <th></th>\n",
       "    </tr>\n",
       "  </thead>\n",
       "  <tbody>\n",
       "    <tr>\n",
       "      <th>Afghanistan</th>\n",
       "      <td>70761</td>\n",
       "      <td>2919</td>\n",
       "      <td>57450.0</td>\n",
       "      <td>10392.0</td>\n",
       "    </tr>\n",
       "    <tr>\n",
       "      <th>Albania</th>\n",
       "      <td>132309</td>\n",
       "      <td>2450</td>\n",
       "      <td>129308.0</td>\n",
       "      <td>551.0</td>\n",
       "    </tr>\n",
       "    <tr>\n",
       "      <th>Algeria</th>\n",
       "      <td>128725</td>\n",
       "      <td>3465</td>\n",
       "      <td>89625.0</td>\n",
       "      <td>35635.0</td>\n",
       "    </tr>\n",
       "    <tr>\n",
       "      <th>Andorra</th>\n",
       "      <td>13693</td>\n",
       "      <td>127</td>\n",
       "      <td>13416.0</td>\n",
       "      <td>150.0</td>\n",
       "    </tr>\n",
       "    <tr>\n",
       "      <th>Angola</th>\n",
       "      <td>34366</td>\n",
       "      <td>764</td>\n",
       "      <td>27766.0</td>\n",
       "      <td>5836.0</td>\n",
       "    </tr>\n",
       "    <tr>\n",
       "      <th>...</th>\n",
       "      <td>...</td>\n",
       "      <td>...</td>\n",
       "      <td>...</td>\n",
       "      <td>...</td>\n",
       "    </tr>\n",
       "    <tr>\n",
       "      <th>West Bank and Gaza</th>\n",
       "      <td>308048</td>\n",
       "      <td>3495</td>\n",
       "      <td>300661.0</td>\n",
       "      <td>3892.0</td>\n",
       "    </tr>\n",
       "    <tr>\n",
       "      <th>Winter Olympics 2022</th>\n",
       "      <td>0</td>\n",
       "      <td>0</td>\n",
       "      <td>0.0</td>\n",
       "      <td>0.0</td>\n",
       "    </tr>\n",
       "    <tr>\n",
       "      <th>Yemen</th>\n",
       "      <td>6737</td>\n",
       "      <td>1320</td>\n",
       "      <td>3427.0</td>\n",
       "      <td>1990.0</td>\n",
       "    </tr>\n",
       "    <tr>\n",
       "      <th>Zambia</th>\n",
       "      <td>95050</td>\n",
       "      <td>1278</td>\n",
       "      <td>91752.0</td>\n",
       "      <td>2020.0</td>\n",
       "    </tr>\n",
       "    <tr>\n",
       "      <th>Zimbabwe</th>\n",
       "      <td>38944</td>\n",
       "      <td>1594</td>\n",
       "      <td>36591.0</td>\n",
       "      <td>759.0</td>\n",
       "    </tr>\n",
       "  </tbody>\n",
       "</table>\n",
       "<p>201 rows × 4 columns</p>\n",
       "</div>"
      ],
      "text/plain": [
       "                      Confirmed  Deaths  Recovered   Active\n",
       "Country_Region                                             \n",
       "Afghanistan               70761    2919    57450.0  10392.0\n",
       "Albania                  132309    2450   129308.0    551.0\n",
       "Algeria                  128725    3465    89625.0  35635.0\n",
       "Andorra                   13693     127    13416.0    150.0\n",
       "Angola                    34366     764    27766.0   5836.0\n",
       "...                         ...     ...        ...      ...\n",
       "West Bank and Gaza       308048    3495   300661.0   3892.0\n",
       "Winter Olympics 2022          0       0        0.0      0.0\n",
       "Yemen                      6737    1320     3427.0   1990.0\n",
       "Zambia                    95050    1278    91752.0   2020.0\n",
       "Zimbabwe                  38944    1594    36591.0    759.0\n",
       "\n",
       "[201 rows x 4 columns]"
      ]
     },
     "execution_count": 9,
     "metadata": {},
     "output_type": "execute_result"
    }
   ],
   "source": [
    "covid_df.groupby(['Country_Region'])[['Confirmed','Deaths','Recovered','Active']].sum()"
   ]
  },
  {
   "cell_type": "markdown",
   "metadata": {},
   "source": [
    "### Question 3"
   ]
  },
  {
   "cell_type": "markdown",
   "metadata": {},
   "source": [
    "### Show the countries with no recovered cases"
   ]
  },
  {
   "cell_type": "code",
   "execution_count": 10,
   "metadata": {},
   "outputs": [
    {
     "data": {
      "text/html": [
       "<div>\n",
       "<style scoped>\n",
       "    .dataframe tbody tr th:only-of-type {\n",
       "        vertical-align: middle;\n",
       "    }\n",
       "\n",
       "    .dataframe tbody tr th {\n",
       "        vertical-align: top;\n",
       "    }\n",
       "\n",
       "    .dataframe thead th {\n",
       "        text-align: right;\n",
       "    }\n",
       "</style>\n",
       "<table border=\"1\" class=\"dataframe\">\n",
       "  <thead>\n",
       "    <tr style=\"text-align: right;\">\n",
       "      <th></th>\n",
       "      <th>Country_Region</th>\n",
       "      <th>Recovered</th>\n",
       "    </tr>\n",
       "  </thead>\n",
       "  <tbody>\n",
       "    <tr>\n",
       "      <th>9</th>\n",
       "      <td>Australia</td>\n",
       "      <td>0.0</td>\n",
       "    </tr>\n",
       "    <tr>\n",
       "      <th>23</th>\n",
       "      <td>Belgium</td>\n",
       "      <td>0.0</td>\n",
       "    </tr>\n",
       "    <tr>\n",
       "      <th>24</th>\n",
       "      <td>Belgium</td>\n",
       "      <td>0.0</td>\n",
       "    </tr>\n",
       "    <tr>\n",
       "      <th>25</th>\n",
       "      <td>Belgium</td>\n",
       "      <td>0.0</td>\n",
       "    </tr>\n",
       "    <tr>\n",
       "      <th>26</th>\n",
       "      <td>Belgium</td>\n",
       "      <td>0.0</td>\n",
       "    </tr>\n",
       "    <tr>\n",
       "      <th>...</th>\n",
       "      <td>...</td>\n",
       "      <td>...</td>\n",
       "    </tr>\n",
       "    <tr>\n",
       "      <th>4009</th>\n",
       "      <td>Ukraine</td>\n",
       "      <td>0.0</td>\n",
       "    </tr>\n",
       "    <tr>\n",
       "      <th>4010</th>\n",
       "      <td>Nauru</td>\n",
       "      <td>0.0</td>\n",
       "    </tr>\n",
       "    <tr>\n",
       "      <th>4011</th>\n",
       "      <td>New Zealand</td>\n",
       "      <td>0.0</td>\n",
       "    </tr>\n",
       "    <tr>\n",
       "      <th>4012</th>\n",
       "      <td>Tuvalu</td>\n",
       "      <td>0.0</td>\n",
       "    </tr>\n",
       "    <tr>\n",
       "      <th>4013</th>\n",
       "      <td>United Kingdom</td>\n",
       "      <td>0.0</td>\n",
       "    </tr>\n",
       "  </tbody>\n",
       "</table>\n",
       "<p>131 rows × 2 columns</p>\n",
       "</div>"
      ],
      "text/plain": [
       "      Country_Region  Recovered\n",
       "9          Australia        0.0\n",
       "23           Belgium        0.0\n",
       "24           Belgium        0.0\n",
       "25           Belgium        0.0\n",
       "26           Belgium        0.0\n",
       "...              ...        ...\n",
       "4009         Ukraine        0.0\n",
       "4010           Nauru        0.0\n",
       "4011     New Zealand        0.0\n",
       "4012          Tuvalu        0.0\n",
       "4013  United Kingdom        0.0\n",
       "\n",
       "[131 rows x 2 columns]"
      ]
     },
     "execution_count": 10,
     "metadata": {},
     "output_type": "execute_result"
    }
   ],
   "source": [
    "no_recovered=covid_df[covid_df['Recovered']==0][['Country_Region','Recovered']]\n",
    "no_recovered"
   ]
  },
  {
   "cell_type": "markdown",
   "metadata": {},
   "source": [
    "#### Show the countries with no confirmed cases"
   ]
  },
  {
   "cell_type": "code",
   "execution_count": 11,
   "metadata": {},
   "outputs": [
    {
     "data": {
      "text/html": [
       "<div>\n",
       "<style scoped>\n",
       "    .dataframe tbody tr th:only-of-type {\n",
       "        vertical-align: middle;\n",
       "    }\n",
       "\n",
       "    .dataframe tbody tr th {\n",
       "        vertical-align: top;\n",
       "    }\n",
       "\n",
       "    .dataframe thead th {\n",
       "        text-align: right;\n",
       "    }\n",
       "</style>\n",
       "<table border=\"1\" class=\"dataframe\">\n",
       "  <thead>\n",
       "    <tr style=\"text-align: right;\">\n",
       "      <th></th>\n",
       "      <th>Country_Region</th>\n",
       "      <th>Confirmed</th>\n",
       "    </tr>\n",
       "  </thead>\n",
       "  <tbody>\n",
       "    <tr>\n",
       "      <th>78</th>\n",
       "      <td>Canada</td>\n",
       "      <td>0</td>\n",
       "    </tr>\n",
       "    <tr>\n",
       "      <th>175</th>\n",
       "      <td>Colombia</td>\n",
       "      <td>0</td>\n",
       "    </tr>\n",
       "    <tr>\n",
       "      <th>282</th>\n",
       "      <td>India</td>\n",
       "      <td>0</td>\n",
       "    </tr>\n",
       "    <tr>\n",
       "      <th>417</th>\n",
       "      <td>Mexico</td>\n",
       "      <td>0</td>\n",
       "    </tr>\n",
       "    <tr>\n",
       "      <th>489</th>\n",
       "      <td>Peru</td>\n",
       "      <td>0</td>\n",
       "    </tr>\n",
       "    <tr>\n",
       "      <th>616</th>\n",
       "      <td>Spain</td>\n",
       "      <td>0</td>\n",
       "    </tr>\n",
       "    <tr>\n",
       "      <th>704</th>\n",
       "      <td>US</td>\n",
       "      <td>0</td>\n",
       "    </tr>\n",
       "    <tr>\n",
       "      <th>716</th>\n",
       "      <td>US</td>\n",
       "      <td>0</td>\n",
       "    </tr>\n",
       "    <tr>\n",
       "      <th>725</th>\n",
       "      <td>US</td>\n",
       "      <td>0</td>\n",
       "    </tr>\n",
       "    <tr>\n",
       "      <th>748</th>\n",
       "      <td>US</td>\n",
       "      <td>0</td>\n",
       "    </tr>\n",
       "    <tr>\n",
       "      <th>762</th>\n",
       "      <td>US</td>\n",
       "      <td>0</td>\n",
       "    </tr>\n",
       "    <tr>\n",
       "      <th>951</th>\n",
       "      <td>US</td>\n",
       "      <td>0</td>\n",
       "    </tr>\n",
       "    <tr>\n",
       "      <th>1221</th>\n",
       "      <td>US</td>\n",
       "      <td>0</td>\n",
       "    </tr>\n",
       "    <tr>\n",
       "      <th>1264</th>\n",
       "      <td>US</td>\n",
       "      <td>0</td>\n",
       "    </tr>\n",
       "    <tr>\n",
       "      <th>1451</th>\n",
       "      <td>US</td>\n",
       "      <td>0</td>\n",
       "    </tr>\n",
       "    <tr>\n",
       "      <th>1636</th>\n",
       "      <td>US</td>\n",
       "      <td>0</td>\n",
       "    </tr>\n",
       "    <tr>\n",
       "      <th>1663</th>\n",
       "      <td>US</td>\n",
       "      <td>0</td>\n",
       "    </tr>\n",
       "    <tr>\n",
       "      <th>1829</th>\n",
       "      <td>US</td>\n",
       "      <td>0</td>\n",
       "    </tr>\n",
       "    <tr>\n",
       "      <th>1866</th>\n",
       "      <td>US</td>\n",
       "      <td>0</td>\n",
       "    </tr>\n",
       "    <tr>\n",
       "      <th>1897</th>\n",
       "      <td>US</td>\n",
       "      <td>0</td>\n",
       "    </tr>\n",
       "    <tr>\n",
       "      <th>2162</th>\n",
       "      <td>US</td>\n",
       "      <td>0</td>\n",
       "    </tr>\n",
       "    <tr>\n",
       "      <th>2282</th>\n",
       "      <td>US</td>\n",
       "      <td>0</td>\n",
       "    </tr>\n",
       "    <tr>\n",
       "      <th>2342</th>\n",
       "      <td>US</td>\n",
       "      <td>0</td>\n",
       "    </tr>\n",
       "    <tr>\n",
       "      <th>2456</th>\n",
       "      <td>US</td>\n",
       "      <td>0</td>\n",
       "    </tr>\n",
       "    <tr>\n",
       "      <th>2565</th>\n",
       "      <td>US</td>\n",
       "      <td>0</td>\n",
       "    </tr>\n",
       "    <tr>\n",
       "      <th>2740</th>\n",
       "      <td>US</td>\n",
       "      <td>0</td>\n",
       "    </tr>\n",
       "    <tr>\n",
       "      <th>2825</th>\n",
       "      <td>US</td>\n",
       "      <td>0</td>\n",
       "    </tr>\n",
       "    <tr>\n",
       "      <th>2893</th>\n",
       "      <td>US</td>\n",
       "      <td>0</td>\n",
       "    </tr>\n",
       "    <tr>\n",
       "      <th>2944</th>\n",
       "      <td>US</td>\n",
       "      <td>0</td>\n",
       "    </tr>\n",
       "    <tr>\n",
       "      <th>3010</th>\n",
       "      <td>US</td>\n",
       "      <td>0</td>\n",
       "    </tr>\n",
       "    <tr>\n",
       "      <th>3099</th>\n",
       "      <td>US</td>\n",
       "      <td>0</td>\n",
       "    </tr>\n",
       "    <tr>\n",
       "      <th>3149</th>\n",
       "      <td>US</td>\n",
       "      <td>0</td>\n",
       "    </tr>\n",
       "    <tr>\n",
       "      <th>3215</th>\n",
       "      <td>US</td>\n",
       "      <td>0</td>\n",
       "    </tr>\n",
       "    <tr>\n",
       "      <th>3725</th>\n",
       "      <td>US</td>\n",
       "      <td>0</td>\n",
       "    </tr>\n",
       "    <tr>\n",
       "      <th>3824</th>\n",
       "      <td>US</td>\n",
       "      <td>0</td>\n",
       "    </tr>\n",
       "    <tr>\n",
       "      <th>3894</th>\n",
       "      <td>US</td>\n",
       "      <td>0</td>\n",
       "    </tr>\n",
       "    <tr>\n",
       "      <th>3926</th>\n",
       "      <td>US</td>\n",
       "      <td>0</td>\n",
       "    </tr>\n",
       "    <tr>\n",
       "      <th>3962</th>\n",
       "      <td>United Kingdom</td>\n",
       "      <td>0</td>\n",
       "    </tr>\n",
       "    <tr>\n",
       "      <th>3972</th>\n",
       "      <td>United Kingdom</td>\n",
       "      <td>0</td>\n",
       "    </tr>\n",
       "    <tr>\n",
       "      <th>3983</th>\n",
       "      <td>Palau</td>\n",
       "      <td>0</td>\n",
       "    </tr>\n",
       "    <tr>\n",
       "      <th>3985</th>\n",
       "      <td>Summer Olympics 2020</td>\n",
       "      <td>0</td>\n",
       "    </tr>\n",
       "    <tr>\n",
       "      <th>4002</th>\n",
       "      <td>Malaysia</td>\n",
       "      <td>0</td>\n",
       "    </tr>\n",
       "    <tr>\n",
       "      <th>4003</th>\n",
       "      <td>Tonga</td>\n",
       "      <td>0</td>\n",
       "    </tr>\n",
       "    <tr>\n",
       "      <th>4004</th>\n",
       "      <td>Winter Olympics 2022</td>\n",
       "      <td>0</td>\n",
       "    </tr>\n",
       "    <tr>\n",
       "      <th>4005</th>\n",
       "      <td>Antarctica</td>\n",
       "      <td>0</td>\n",
       "    </tr>\n",
       "    <tr>\n",
       "      <th>4008</th>\n",
       "      <td>Korea, North</td>\n",
       "      <td>0</td>\n",
       "    </tr>\n",
       "    <tr>\n",
       "      <th>4009</th>\n",
       "      <td>Ukraine</td>\n",
       "      <td>0</td>\n",
       "    </tr>\n",
       "    <tr>\n",
       "      <th>4010</th>\n",
       "      <td>Nauru</td>\n",
       "      <td>0</td>\n",
       "    </tr>\n",
       "    <tr>\n",
       "      <th>4011</th>\n",
       "      <td>New Zealand</td>\n",
       "      <td>0</td>\n",
       "    </tr>\n",
       "    <tr>\n",
       "      <th>4012</th>\n",
       "      <td>Tuvalu</td>\n",
       "      <td>0</td>\n",
       "    </tr>\n",
       "    <tr>\n",
       "      <th>4013</th>\n",
       "      <td>United Kingdom</td>\n",
       "      <td>0</td>\n",
       "    </tr>\n",
       "  </tbody>\n",
       "</table>\n",
       "</div>"
      ],
      "text/plain": [
       "            Country_Region  Confirmed\n",
       "78                  Canada          0\n",
       "175               Colombia          0\n",
       "282                  India          0\n",
       "417                 Mexico          0\n",
       "489                   Peru          0\n",
       "616                  Spain          0\n",
       "704                     US          0\n",
       "716                     US          0\n",
       "725                     US          0\n",
       "748                     US          0\n",
       "762                     US          0\n",
       "951                     US          0\n",
       "1221                    US          0\n",
       "1264                    US          0\n",
       "1451                    US          0\n",
       "1636                    US          0\n",
       "1663                    US          0\n",
       "1829                    US          0\n",
       "1866                    US          0\n",
       "1897                    US          0\n",
       "2162                    US          0\n",
       "2282                    US          0\n",
       "2342                    US          0\n",
       "2456                    US          0\n",
       "2565                    US          0\n",
       "2740                    US          0\n",
       "2825                    US          0\n",
       "2893                    US          0\n",
       "2944                    US          0\n",
       "3010                    US          0\n",
       "3099                    US          0\n",
       "3149                    US          0\n",
       "3215                    US          0\n",
       "3725                    US          0\n",
       "3824                    US          0\n",
       "3894                    US          0\n",
       "3926                    US          0\n",
       "3962        United Kingdom          0\n",
       "3972        United Kingdom          0\n",
       "3983                 Palau          0\n",
       "3985  Summer Olympics 2020          0\n",
       "4002              Malaysia          0\n",
       "4003                 Tonga          0\n",
       "4004  Winter Olympics 2022          0\n",
       "4005            Antarctica          0\n",
       "4008          Korea, North          0\n",
       "4009               Ukraine          0\n",
       "4010                 Nauru          0\n",
       "4011           New Zealand          0\n",
       "4012                Tuvalu          0\n",
       "4013        United Kingdom          0"
      ]
     },
     "execution_count": 11,
     "metadata": {},
     "output_type": "execute_result"
    }
   ],
   "source": [
    "no_confirmed=covid_df[covid_df['Confirmed']==0][['Country_Region','Confirmed']]\n",
    "no_confirmed"
   ]
  },
  {
   "cell_type": "markdown",
   "metadata": {},
   "source": [
    "#### Show the countries with no deaths"
   ]
  },
  {
   "cell_type": "code",
   "execution_count": 12,
   "metadata": {},
   "outputs": [
    {
     "data": {
      "text/html": [
       "<div>\n",
       "<style scoped>\n",
       "    .dataframe tbody tr th:only-of-type {\n",
       "        vertical-align: middle;\n",
       "    }\n",
       "\n",
       "    .dataframe tbody tr th {\n",
       "        vertical-align: top;\n",
       "    }\n",
       "\n",
       "    .dataframe thead th {\n",
       "        text-align: right;\n",
       "    }\n",
       "</style>\n",
       "<table border=\"1\" class=\"dataframe\">\n",
       "  <thead>\n",
       "    <tr style=\"text-align: right;\">\n",
       "      <th></th>\n",
       "      <th>Country_Region</th>\n",
       "      <th>Deaths</th>\n",
       "    </tr>\n",
       "  </thead>\n",
       "  <tbody>\n",
       "    <tr>\n",
       "      <th>10</th>\n",
       "      <td>Australia</td>\n",
       "      <td>0</td>\n",
       "    </tr>\n",
       "    <tr>\n",
       "      <th>23</th>\n",
       "      <td>Belgium</td>\n",
       "      <td>0</td>\n",
       "    </tr>\n",
       "    <tr>\n",
       "      <th>24</th>\n",
       "      <td>Belgium</td>\n",
       "      <td>0</td>\n",
       "    </tr>\n",
       "    <tr>\n",
       "      <th>25</th>\n",
       "      <td>Belgium</td>\n",
       "      <td>0</td>\n",
       "    </tr>\n",
       "    <tr>\n",
       "      <th>26</th>\n",
       "      <td>Belgium</td>\n",
       "      <td>0</td>\n",
       "    </tr>\n",
       "    <tr>\n",
       "      <th>...</th>\n",
       "      <td>...</td>\n",
       "      <td>...</td>\n",
       "    </tr>\n",
       "    <tr>\n",
       "      <th>4009</th>\n",
       "      <td>Ukraine</td>\n",
       "      <td>0</td>\n",
       "    </tr>\n",
       "    <tr>\n",
       "      <th>4010</th>\n",
       "      <td>Nauru</td>\n",
       "      <td>0</td>\n",
       "    </tr>\n",
       "    <tr>\n",
       "      <th>4011</th>\n",
       "      <td>New Zealand</td>\n",
       "      <td>0</td>\n",
       "    </tr>\n",
       "    <tr>\n",
       "      <th>4012</th>\n",
       "      <td>Tuvalu</td>\n",
       "      <td>0</td>\n",
       "    </tr>\n",
       "    <tr>\n",
       "      <th>4013</th>\n",
       "      <td>United Kingdom</td>\n",
       "      <td>0</td>\n",
       "    </tr>\n",
       "  </tbody>\n",
       "</table>\n",
       "<p>220 rows × 2 columns</p>\n",
       "</div>"
      ],
      "text/plain": [
       "      Country_Region  Deaths\n",
       "10         Australia       0\n",
       "23           Belgium       0\n",
       "24           Belgium       0\n",
       "25           Belgium       0\n",
       "26           Belgium       0\n",
       "...              ...     ...\n",
       "4009         Ukraine       0\n",
       "4010           Nauru       0\n",
       "4011     New Zealand       0\n",
       "4012          Tuvalu       0\n",
       "4013  United Kingdom       0\n",
       "\n",
       "[220 rows x 2 columns]"
      ]
     },
     "execution_count": 12,
     "metadata": {},
     "output_type": "execute_result"
    }
   ],
   "source": [
    "no_deaths=covid_df[covid_df['Deaths']==0][['Country_Region','Deaths']]\n",
    "no_deaths"
   ]
  },
  {
   "cell_type": "code",
   "execution_count": 13,
   "metadata": {},
   "outputs": [
    {
     "data": {
      "text/html": [
       "<div>\n",
       "<style scoped>\n",
       "    .dataframe tbody tr th:only-of-type {\n",
       "        vertical-align: middle;\n",
       "    }\n",
       "\n",
       "    .dataframe tbody tr th {\n",
       "        vertical-align: top;\n",
       "    }\n",
       "\n",
       "    .dataframe thead th {\n",
       "        text-align: right;\n",
       "    }\n",
       "</style>\n",
       "<table border=\"1\" class=\"dataframe\">\n",
       "  <thead>\n",
       "    <tr style=\"text-align: right;\">\n",
       "      <th></th>\n",
       "      <th>Country_Region</th>\n",
       "      <th>Confirmed</th>\n",
       "      <th>Deaths</th>\n",
       "      <th>Recovered</th>\n",
       "    </tr>\n",
       "  </thead>\n",
       "  <tbody>\n",
       "    <tr>\n",
       "      <th>10</th>\n",
       "      <td>Australia</td>\n",
       "      <td>173</td>\n",
       "      <td>0</td>\n",
       "      <td>170.0</td>\n",
       "    </tr>\n",
       "    <tr>\n",
       "      <th>23</th>\n",
       "      <td>Belgium</td>\n",
       "      <td>137602</td>\n",
       "      <td>0</td>\n",
       "      <td>0.0</td>\n",
       "    </tr>\n",
       "    <tr>\n",
       "      <th>24</th>\n",
       "      <td>Belgium</td>\n",
       "      <td>130186</td>\n",
       "      <td>0</td>\n",
       "      <td>0.0</td>\n",
       "    </tr>\n",
       "    <tr>\n",
       "      <th>25</th>\n",
       "      <td>Belgium</td>\n",
       "      <td>121794</td>\n",
       "      <td>0</td>\n",
       "      <td>0.0</td>\n",
       "    </tr>\n",
       "    <tr>\n",
       "      <th>26</th>\n",
       "      <td>Belgium</td>\n",
       "      <td>80738</td>\n",
       "      <td>0</td>\n",
       "      <td>0.0</td>\n",
       "    </tr>\n",
       "    <tr>\n",
       "      <th>...</th>\n",
       "      <td>...</td>\n",
       "      <td>...</td>\n",
       "      <td>...</td>\n",
       "      <td>...</td>\n",
       "    </tr>\n",
       "    <tr>\n",
       "      <th>4009</th>\n",
       "      <td>Ukraine</td>\n",
       "      <td>0</td>\n",
       "      <td>0</td>\n",
       "      <td>0.0</td>\n",
       "    </tr>\n",
       "    <tr>\n",
       "      <th>4010</th>\n",
       "      <td>Nauru</td>\n",
       "      <td>0</td>\n",
       "      <td>0</td>\n",
       "      <td>0.0</td>\n",
       "    </tr>\n",
       "    <tr>\n",
       "      <th>4011</th>\n",
       "      <td>New Zealand</td>\n",
       "      <td>0</td>\n",
       "      <td>0</td>\n",
       "      <td>0.0</td>\n",
       "    </tr>\n",
       "    <tr>\n",
       "      <th>4012</th>\n",
       "      <td>Tuvalu</td>\n",
       "      <td>0</td>\n",
       "      <td>0</td>\n",
       "      <td>0.0</td>\n",
       "    </tr>\n",
       "    <tr>\n",
       "      <th>4013</th>\n",
       "      <td>United Kingdom</td>\n",
       "      <td>0</td>\n",
       "      <td>0</td>\n",
       "      <td>0.0</td>\n",
       "    </tr>\n",
       "  </tbody>\n",
       "</table>\n",
       "<p>220 rows × 4 columns</p>\n",
       "</div>"
      ],
      "text/plain": [
       "      Country_Region  Confirmed  Deaths  Recovered\n",
       "10         Australia        173       0      170.0\n",
       "23           Belgium     137602       0        0.0\n",
       "24           Belgium     130186       0        0.0\n",
       "25           Belgium     121794       0        0.0\n",
       "26           Belgium      80738       0        0.0\n",
       "...              ...        ...     ...        ...\n",
       "4009         Ukraine          0       0        0.0\n",
       "4010           Nauru          0       0        0.0\n",
       "4011     New Zealand          0       0        0.0\n",
       "4012          Tuvalu          0       0        0.0\n",
       "4013  United Kingdom          0       0        0.0\n",
       "\n",
       "[220 rows x 4 columns]"
      ]
     },
     "execution_count": 13,
     "metadata": {},
     "output_type": "execute_result"
    }
   ],
   "source": [
    "no_deaths_stat=covid_df[covid_df['Deaths']==0][['Country_Region','Confirmed','Deaths','Recovered']]\n",
    "no_deaths_stat"
   ]
  },
  {
   "cell_type": "markdown",
   "metadata": {},
   "source": [
    "### Question 4"
   ]
  },
  {
   "cell_type": "markdown",
   "metadata": {},
   "source": [
    "#### Show the Top 10 countries with Confirmed cases"
   ]
  },
  {
   "cell_type": "code",
   "execution_count": 14,
   "metadata": {},
   "outputs": [
    {
     "data": {
      "text/html": [
       "<div>\n",
       "<style scoped>\n",
       "    .dataframe tbody tr th:only-of-type {\n",
       "        vertical-align: middle;\n",
       "    }\n",
       "\n",
       "    .dataframe tbody tr th {\n",
       "        vertical-align: top;\n",
       "    }\n",
       "\n",
       "    .dataframe thead th {\n",
       "        text-align: right;\n",
       "    }\n",
       "</style>\n",
       "<table border=\"1\" class=\"dataframe\">\n",
       "  <thead>\n",
       "    <tr style=\"text-align: right;\">\n",
       "      <th></th>\n",
       "      <th>Last_Update</th>\n",
       "      <th>Country_Region</th>\n",
       "      <th>Confirmed</th>\n",
       "      <th>Deaths</th>\n",
       "      <th>Recovered</th>\n",
       "      <th>Active</th>\n",
       "    </tr>\n",
       "  </thead>\n",
       "  <tbody>\n",
       "    <tr>\n",
       "      <th>269</th>\n",
       "      <td>2021-05-31 03:08:59</td>\n",
       "      <td>India</td>\n",
       "      <td>5731815</td>\n",
       "      <td>94844</td>\n",
       "      <td>5362370.0</td>\n",
       "      <td>274601.0</td>\n",
       "    </tr>\n",
       "    <tr>\n",
       "      <th>216</th>\n",
       "      <td>2021-05-31 03:08:59</td>\n",
       "      <td>France</td>\n",
       "      <td>5608347</td>\n",
       "      <td>108576</td>\n",
       "      <td>331911.0</td>\n",
       "      <td>5167860.0</td>\n",
       "    </tr>\n",
       "    <tr>\n",
       "      <th>651</th>\n",
       "      <td>2021-05-31 03:08:59</td>\n",
       "      <td>Turkey</td>\n",
       "      <td>5242911</td>\n",
       "      <td>47405</td>\n",
       "      <td>5105042.0</td>\n",
       "      <td>90464.0</td>\n",
       "    </tr>\n",
       "    <tr>\n",
       "      <th>3963</th>\n",
       "      <td>2021-05-31 03:08:59</td>\n",
       "      <td>United Kingdom</td>\n",
       "      <td>3913295</td>\n",
       "      <td>132984</td>\n",
       "      <td>0.0</td>\n",
       "      <td>3800904.0</td>\n",
       "    </tr>\n",
       "    <tr>\n",
       "      <th>6</th>\n",
       "      <td>2021-05-31 03:08:59</td>\n",
       "      <td>Argentina</td>\n",
       "      <td>3753609</td>\n",
       "      <td>77456</td>\n",
       "      <td>3319068.0</td>\n",
       "      <td>357085.0</td>\n",
       "    </tr>\n",
       "    <tr>\n",
       "      <th>65</th>\n",
       "      <td>2021-05-31 03:08:59</td>\n",
       "      <td>Brazil</td>\n",
       "      <td>3265930</td>\n",
       "      <td>111304</td>\n",
       "      <td>2911445.0</td>\n",
       "      <td>243181.0</td>\n",
       "    </tr>\n",
       "    <tr>\n",
       "      <th>287</th>\n",
       "      <td>2021-05-31 03:08:59</td>\n",
       "      <td>Iran</td>\n",
       "      <td>2902094</td>\n",
       "      <td>79939</td>\n",
       "      <td>2441528.0</td>\n",
       "      <td>380627.0</td>\n",
       "    </tr>\n",
       "    <tr>\n",
       "      <th>491</th>\n",
       "      <td>2021-05-31 03:08:59</td>\n",
       "      <td>Poland</td>\n",
       "      <td>2871950</td>\n",
       "      <td>73738</td>\n",
       "      <td>2638222.0</td>\n",
       "      <td>159990.0</td>\n",
       "    </tr>\n",
       "    <tr>\n",
       "      <th>264</th>\n",
       "      <td>2021-05-31 03:08:59</td>\n",
       "      <td>India</td>\n",
       "      <td>2587827</td>\n",
       "      <td>28679</td>\n",
       "      <td>2217117.0</td>\n",
       "      <td>342031.0</td>\n",
       "    </tr>\n",
       "    <tr>\n",
       "      <th>265</th>\n",
       "      <td>2021-05-31 03:08:59</td>\n",
       "      <td>India</td>\n",
       "      <td>2514279</td>\n",
       "      <td>8641</td>\n",
       "      <td>2281518.0</td>\n",
       "      <td>224120.0</td>\n",
       "    </tr>\n",
       "  </tbody>\n",
       "</table>\n",
       "</div>"
      ],
      "text/plain": [
       "              Last_Update  Country_Region  Confirmed  Deaths  Recovered  \\\n",
       "269   2021-05-31 03:08:59           India    5731815   94844  5362370.0   \n",
       "216   2021-05-31 03:08:59          France    5608347  108576   331911.0   \n",
       "651   2021-05-31 03:08:59          Turkey    5242911   47405  5105042.0   \n",
       "3963  2021-05-31 03:08:59  United Kingdom    3913295  132984        0.0   \n",
       "6     2021-05-31 03:08:59       Argentina    3753609   77456  3319068.0   \n",
       "65    2021-05-31 03:08:59          Brazil    3265930  111304  2911445.0   \n",
       "287   2021-05-31 03:08:59            Iran    2902094   79939  2441528.0   \n",
       "491   2021-05-31 03:08:59          Poland    2871950   73738  2638222.0   \n",
       "264   2021-05-31 03:08:59           India    2587827   28679  2217117.0   \n",
       "265   2021-05-31 03:08:59           India    2514279    8641  2281518.0   \n",
       "\n",
       "         Active  \n",
       "269    274601.0  \n",
       "216   5167860.0  \n",
       "651     90464.0  \n",
       "3963  3800904.0  \n",
       "6      357085.0  \n",
       "65     243181.0  \n",
       "287    380627.0  \n",
       "491    159990.0  \n",
       "264    342031.0  \n",
       "265    224120.0  "
      ]
     },
     "execution_count": 14,
     "metadata": {},
     "output_type": "execute_result"
    }
   ],
   "source": [
    "covid_df[['Last_Update','Country_Region','Confirmed','Deaths','Recovered','Active']].sort_values(by=['Confirmed'],ascending=[False]).head(10)"
   ]
  },
  {
   "cell_type": "markdown",
   "metadata": {},
   "source": [
    "#### Show the Top 10 Countries with Active cases"
   ]
  },
  {
   "cell_type": "code",
   "execution_count": 15,
   "metadata": {},
   "outputs": [
    {
     "data": {
      "text/html": [
       "<div>\n",
       "<style scoped>\n",
       "    .dataframe tbody tr th:only-of-type {\n",
       "        vertical-align: middle;\n",
       "    }\n",
       "\n",
       "    .dataframe tbody tr th {\n",
       "        vertical-align: top;\n",
       "    }\n",
       "\n",
       "    .dataframe thead th {\n",
       "        text-align: right;\n",
       "    }\n",
       "</style>\n",
       "<table border=\"1\" class=\"dataframe\">\n",
       "  <thead>\n",
       "    <tr style=\"text-align: right;\">\n",
       "      <th></th>\n",
       "      <th>Last_Update</th>\n",
       "      <th>Country_Region</th>\n",
       "      <th>Confirmed</th>\n",
       "      <th>Deaths</th>\n",
       "      <th>Recovered</th>\n",
       "      <th>Active</th>\n",
       "    </tr>\n",
       "  </thead>\n",
       "  <tbody>\n",
       "    <tr>\n",
       "      <th>216</th>\n",
       "      <td>2021-05-31 03:08:59</td>\n",
       "      <td>France</td>\n",
       "      <td>5608347</td>\n",
       "      <td>108576</td>\n",
       "      <td>331911.0</td>\n",
       "      <td>5167860.0</td>\n",
       "    </tr>\n",
       "    <tr>\n",
       "      <th>3963</th>\n",
       "      <td>2021-05-31 03:08:59</td>\n",
       "      <td>United Kingdom</td>\n",
       "      <td>3913295</td>\n",
       "      <td>132984</td>\n",
       "      <td>0.0</td>\n",
       "      <td>3800904.0</td>\n",
       "    </tr>\n",
       "    <tr>\n",
       "      <th>478</th>\n",
       "      <td>2021-05-31 03:08:59</td>\n",
       "      <td>Peru</td>\n",
       "      <td>878346</td>\n",
       "      <td>84066</td>\n",
       "      <td>0.0</td>\n",
       "      <td>794280.0</td>\n",
       "    </tr>\n",
       "    <tr>\n",
       "      <th>587</th>\n",
       "      <td>2021-05-31 03:08:59</td>\n",
       "      <td>Serbia</td>\n",
       "      <td>712224</td>\n",
       "      <td>6854</td>\n",
       "      <td>0.0</td>\n",
       "      <td>705370.0</td>\n",
       "    </tr>\n",
       "    <tr>\n",
       "      <th>611</th>\n",
       "      <td>2021-05-31 03:08:59</td>\n",
       "      <td>Spain</td>\n",
       "      <td>714616</td>\n",
       "      <td>15285</td>\n",
       "      <td>40736.0</td>\n",
       "      <td>658595.0</td>\n",
       "    </tr>\n",
       "    <tr>\n",
       "      <th>394</th>\n",
       "      <td>2021-05-31 03:08:59</td>\n",
       "      <td>Mexico</td>\n",
       "      <td>658113</td>\n",
       "      <td>33200</td>\n",
       "      <td>0.0</td>\n",
       "      <td>624913.0</td>\n",
       "    </tr>\n",
       "    <tr>\n",
       "      <th>606</th>\n",
       "      <td>2021-05-31 03:08:59</td>\n",
       "      <td>Spain</td>\n",
       "      <td>611008</td>\n",
       "      <td>14531</td>\n",
       "      <td>26203.0</td>\n",
       "      <td>570274.0</td>\n",
       "    </tr>\n",
       "    <tr>\n",
       "      <th>597</th>\n",
       "      <td>2021-05-31 03:08:59</td>\n",
       "      <td>Spain</td>\n",
       "      <td>581880</td>\n",
       "      <td>9880</td>\n",
       "      <td>10671.0</td>\n",
       "      <td>561329.0</td>\n",
       "    </tr>\n",
       "    <tr>\n",
       "      <th>591</th>\n",
       "      <td>2021-05-31 03:08:59</td>\n",
       "      <td>Slovakia</td>\n",
       "      <td>770851</td>\n",
       "      <td>12339</td>\n",
       "      <td>255300.0</td>\n",
       "      <td>503212.0</td>\n",
       "    </tr>\n",
       "    <tr>\n",
       "      <th>446</th>\n",
       "      <td>2021-05-31 03:08:59</td>\n",
       "      <td>Netherlands</td>\n",
       "      <td>394601</td>\n",
       "      <td>4268</td>\n",
       "      <td>0.0</td>\n",
       "      <td>388008.0</td>\n",
       "    </tr>\n",
       "  </tbody>\n",
       "</table>\n",
       "</div>"
      ],
      "text/plain": [
       "              Last_Update  Country_Region  Confirmed  Deaths  Recovered  \\\n",
       "216   2021-05-31 03:08:59          France    5608347  108576   331911.0   \n",
       "3963  2021-05-31 03:08:59  United Kingdom    3913295  132984        0.0   \n",
       "478   2021-05-31 03:08:59            Peru     878346   84066        0.0   \n",
       "587   2021-05-31 03:08:59          Serbia     712224    6854        0.0   \n",
       "611   2021-05-31 03:08:59           Spain     714616   15285    40736.0   \n",
       "394   2021-05-31 03:08:59          Mexico     658113   33200        0.0   \n",
       "606   2021-05-31 03:08:59           Spain     611008   14531    26203.0   \n",
       "597   2021-05-31 03:08:59           Spain     581880    9880    10671.0   \n",
       "591   2021-05-31 03:08:59        Slovakia     770851   12339   255300.0   \n",
       "446   2021-05-31 03:08:59     Netherlands     394601    4268        0.0   \n",
       "\n",
       "         Active  \n",
       "216   5167860.0  \n",
       "3963  3800904.0  \n",
       "478    794280.0  \n",
       "587    705370.0  \n",
       "611    658595.0  \n",
       "394    624913.0  \n",
       "606    570274.0  \n",
       "597    561329.0  \n",
       "591    503212.0  \n",
       "446    388008.0  "
      ]
     },
     "execution_count": 15,
     "metadata": {},
     "output_type": "execute_result"
    }
   ],
   "source": [
    "covid_df[['Last_Update','Country_Region','Confirmed','Deaths','Recovered','Active']].sort_values(by=['Active'],ascending=[False]).head(10)"
   ]
  },
  {
   "cell_type": "markdown",
   "metadata": {},
   "source": [
    "### Question 5"
   ]
  },
  {
   "cell_type": "markdown",
   "metadata": {},
   "source": [
    "#### Plot Country-wise Total deaths, confirmed, recovered and active casaes where total deaths have exceeded 50,000"
   ]
  },
  {
   "cell_type": "code",
   "execution_count": 16,
   "metadata": {},
   "outputs": [],
   "source": [
    "import matplotlib.pyplot as plt"
   ]
  },
  {
   "cell_type": "code",
   "execution_count": 39,
   "metadata": {},
   "outputs": [
    {
     "data": {
      "text/plain": [
       "Text(0.5, 1.0, 'Country-wise Deaths, Confirmed, Recovered and Active Casaes where Total Deaths is more than 50,000')"
      ]
     },
     "execution_count": 39,
     "metadata": {},
     "output_type": "execute_result"
    },
    {
     "data": {
      "image/png": "[encoded data removed]",
      "text/plain": [
       "<Figure size 1440x360 with 1 Axes>"
      ]
     },
     "metadata": {
      "needs_background": "light"
     },
     "output_type": "display_data"
    }
   ],
   "source": [
    "countrywise=covid_df.groupby(\"Country_Region\")[['Confirmed','Deaths','Recovered','Active']].sum()\n",
    "countrywise=countrywise[countrywise['Deaths']>50000]\n",
    "countrywise.plot(kind='line',figsize=(20,5))\n",
    "plt.ylabel(\"Total Cases\")\n",
    "plt.title(\"Country-Wise Deaths, Confirmed, Recovered and Active Casaes where Total Deaths is more than 50,000\")"
   ]
  },
  {
   "cell_type": "markdown",
   "metadata": {},
   "source": [
    "### Question 6"
   ]
  },
  {
   "cell_type": "markdown",
   "metadata": {},
   "source": [
    "### Plot Province/State wise Deaths in USA"
   ]
  },
  {
   "cell_type": "code",
   "execution_count": 48,
   "metadata": {},
   "outputs": [],
   "source": [
    "import plotly.express as px"
   ]
  },
  {
   "cell_type": "code",
   "execution_count": 49,
   "metadata": {},
   "outputs": [],
   "source": [
    "covid_data= pd.read_csv('https://raw.githubusercontent.com/CSSEGISandData/COVID-19/master/csse_covid_19_data/csse_covid_19_daily_reports/05-30-2021.csv')"
   ]
  },
  {
   "cell_type": "code",
   "execution_count": 50,
   "metadata": {},
   "outputs": [
    {
     "data": {
      "text/plain": [
       "Index(['FIPS', 'Admin2', 'Province_State', 'Country_Region', 'Last_Update',\n",
       "       'Lat', 'Long_', 'Confirmed', 'Deaths', 'Recovered', 'Active',\n",
       "       'Combined_Key', 'Incident_Rate', 'Case_Fatality_Ratio'],\n",
       "      dtype='object')"
      ]
     },
     "execution_count": 50,
     "metadata": {},
     "output_type": "execute_result"
    }
   ],
   "source": [
    "covid_data.columns"
   ]
  },
  {
   "cell_type": "code",
   "execution_count": 63,
   "metadata": {},
   "outputs": [
    {
     "data": {
      "application/vnd.plotly.v1+json": {
       "config": {
        "plotlyServerURL": "https://plot.ly"
       },
       "data": [
        {
         "alignmentgroup": "True",
         "hovertemplate": "Province_State=%{x}<br>Deaths=%{text}<extra></extra>",
         "legendgroup": "",
         "marker": {
          "color": "#636efa",
          "pattern": {
           "shape": ""
          }
         },
         "name": "",
         "offsetgroup": "",
         "orientation": "v",
         "showlegend": false,
         "text": [
          62125,
          53080,
          51507,
          36774,
          27209,
          26207,
          25185,
          20837,
          20376,
          20295
         ],
         "textposition": "auto",
         "type": "bar",
         "x": [
          "California",
          "New York",
          "Texas",
          "Florida",
          "Pennsylvania",
          "New Jersey",
          "Illinois",
          "Georgia",
          "Michigan",
          "Ohio"
         ],
         "xaxis": "x",
         "y": [
          62125,
          53080,
          51507,
          36774,
          27209,
          26207,
          25185,
          20837,
          20376,
          20295
         ],
         "yaxis": "y"
        }
       ],
       "layout": {
        "barmode": "relative",
        "legend": {
         "tracegroupgap": 0
        },
        "template": {
         "data": {
          "bar": [
           {
            "error_x": {
             "color": "#2a3f5f"
            },
            "error_y": {
             "color": "#2a3f5f"
            },
            "marker": {
             "line": {
              "color": "#E5ECF6",
              "width": 0.5
             },
             "pattern": {
              "fillmode": "overlay",
              "size": 10,
              "solidity": 0.2
             }
            },
            "type": "bar"
           }
          ],
          "barpolar": [
           {
            "marker": {
             "line": {
              "color": "#E5ECF6",
              "width": 0.5
             },
             "pattern": {
              "fillmode": "overlay",
              "size": 10,
              "solidity": 0.2
             }
            },
            "type": "barpolar"
           }
          ],
          "carpet": [
           {
            "aaxis": {
             "endlinecolor": "#2a3f5f",
             "gridcolor": "white",
             "linecolor": "white",
             "minorgridcolor": "white",
             "startlinecolor": "#2a3f5f"
            },
            "baxis": {
             "endlinecolor": "#2a3f5f",
             "gridcolor": "white",
             "linecolor": "white",
             "minorgridcolor": "white",
             "startlinecolor": "#2a3f5f"
            },
            "type": "carpet"
           }
          ],
          "choropleth": [
           {
            "colorbar": {
             "outlinewidth": 0,
             "ticks": ""
            },
            "type": "choropleth"
           }
          ],
          "contour": [
           {
            "colorbar": {
             "outlinewidth": 0,
             "ticks": ""
            },
            "colorscale": [
             [
              0,
              "#0d0887"
             ],
             [
              0.1111111111111111,
              "#46039f"
             ],
             [
              0.2222222222222222,
              "#7201a8"
             ],
             [
              0.3333333333333333,
              "#9c179e"
             ],
             [
              0.4444444444444444,
              "#bd3786"
             ],
             [
              0.5555555555555556,
              "#d8576b"
             ],
             [
              0.6666666666666666,
              "#ed7953"
             ],
             [
              0.7777777777777778,
              "#fb9f3a"
             ],
             [
              0.8888888888888888,
              "#fdca26"
             ],
             [
              1,
              "#f0f921"
             ]
            ],
            "type": "contour"
           }
          ],
          "contourcarpet": [
           {
            "colorbar": {
             "outlinewidth": 0,
             "ticks": ""
            },
            "type": "contourcarpet"
           }
          ],
          "heatmap": [
           {
            "colorbar": {
             "outlinewidth": 0,
             "ticks": ""
            },
            "colorscale": [
             [
              0,
              "#0d0887"
             ],
             [
              0.1111111111111111,
              "#46039f"
             ],
             [
              0.2222222222222222,
              "#7201a8"
             ],
             [
              0.3333333333333333,
              "#9c179e"
             ],
             [
              0.4444444444444444,
              "#bd3786"
             ],
             [
              0.5555555555555556,
              "#d8576b"
             ],
             [
              0.6666666666666666,
              "#ed7953"
             ],
             [
              0.7777777777777778,
              "#fb9f3a"
             ],
             [
              0.8888888888888888,
              "#fdca26"
             ],
             [
              1,
              "#f0f921"
             ]
            ],
            "type": "heatmap"
           }
          ],
          "heatmapgl": [
           {
            "colorbar": {
             "outlinewidth": 0,
             "ticks": ""
            },
            "colorscale": [
             [
              0,
              "#0d0887"
             ],
             [
              0.1111111111111111,
              "#46039f"
             ],
             [
              0.2222222222222222,
              "#7201a8"
             ],
             [
              0.3333333333333333,
              "#9c179e"
             ],
             [
              0.4444444444444444,
              "#bd3786"
             ],
             [
              0.5555555555555556,
              "#d8576b"
             ],
             [
              0.6666666666666666,
              "#ed7953"
             ],
             [
              0.7777777777777778,
              "#fb9f3a"
             ],
             [
              0.8888888888888888,
              "#fdca26"
             ],
             [
              1,
              "#f0f921"
             ]
            ],
            "type": "heatmapgl"
           }
          ],
          "histogram": [
           {
            "marker": {
             "pattern": {
              "fillmode": "overlay",
              "size": 10,
              "solidity": 0.2
             }
            },
            "type": "histogram"
           }
          ],
          "histogram2d": [
           {
            "colorbar": {
             "outlinewidth": 0,
             "ticks": ""
            },
            "colorscale": [
             [
              0,
              "#0d0887"
             ],
             [
              0.1111111111111111,
              "#46039f"
             ],
             [
              0.2222222222222222,
              "#7201a8"
             ],
             [
              0.3333333333333333,
              "#9c179e"
             ],
             [
              0.4444444444444444,
              "#bd3786"
             ],
             [
              0.5555555555555556,
              "#d8576b"
             ],
             [
              0.6666666666666666,
              "#ed7953"
             ],
             [
              0.7777777777777778,
              "#fb9f3a"
             ],
             [
              0.8888888888888888,
              "#fdca26"
             ],
             [
              1,
              "#f0f921"
             ]
            ],
            "type": "histogram2d"
           }
          ],
          "histogram2dcontour": [
           {
            "colorbar": {
             "outlinewidth": 0,
             "ticks": ""
            },
            "colorscale": [
             [
              0,
              "#0d0887"
             ],
             [
              0.1111111111111111,
              "#46039f"
             ],
             [
              0.2222222222222222,
              "#7201a8"
             ],
             [
              0.3333333333333333,
              "#9c179e"
             ],
             [
              0.4444444444444444,
              "#bd3786"
             ],
             [
              0.5555555555555556,
              "#d8576b"
             ],
             [
              0.6666666666666666,
              "#ed7953"
             ],
             [
              0.7777777777777778,
              "#fb9f3a"
             ],
             [
              0.8888888888888888,
              "#fdca26"
             ],
             [
              1,
              "#f0f921"
             ]
            ],
            "type": "histogram2dcontour"
           }
          ],
          "mesh3d": [
           {
            "colorbar": {
             "outlinewidth": 0,
             "ticks": ""
            },
            "type": "mesh3d"
           }
          ],
          "parcoords": [
           {
            "line": {
             "colorbar": {
              "outlinewidth": 0,
              "ticks": ""
             }
            },
            "type": "parcoords"
           }
          ],
          "pie": [
           {
            "automargin": true,
            "type": "pie"
           }
          ],
          "scatter": [
           {
            "marker": {
             "colorbar": {
              "outlinewidth": 0,
              "ticks": ""
             }
            },
            "type": "scatter"
           }
          ],
          "scatter3d": [
           {
            "line": {
             "colorbar": {
              "outlinewidth": 0,
              "ticks": ""
             }
            },
            "marker": {
             "colorbar": {
              "outlinewidth": 0,
              "ticks": ""
             }
            },
            "type": "scatter3d"
           }
          ],
          "scattercarpet": [
           {
            "marker": {
             "colorbar": {
              "outlinewidth": 0,
              "ticks": ""
             }
            },
            "type": "scattercarpet"
           }
          ],
          "scattergeo": [
           {
            "marker": {
             "colorbar": {
              "outlinewidth": 0,
              "ticks": ""
             }
            },
            "type": "scattergeo"
           }
          ],
          "scattergl": [
           {
            "marker": {
             "colorbar": {
              "outlinewidth": 0,
              "ticks": ""
             }
            },
            "type": "scattergl"
           }
          ],
          "scattermapbox": [
           {
            "marker": {
             "colorbar": {
              "outlinewidth": 0,
              "ticks": ""
             }
            },
            "type": "scattermapbox"
           }
          ],
          "scatterpolar": [
           {
            "marker": {
             "colorbar": {
              "outlinewidth": 0,
              "ticks": ""
             }
            },
            "type": "scatterpolar"
           }
          ],
          "scatterpolargl": [
           {
            "marker": {
             "colorbar": {
              "outlinewidth": 0,
              "ticks": ""
             }
            },
            "type": "scatterpolargl"
           }
          ],
          "scatterternary": [
           {
            "marker": {
             "colorbar": {
              "outlinewidth": 0,
              "ticks": ""
             }
            },
            "type": "scatterternary"
           }
          ],
          "surface": [
           {
            "colorbar": {
             "outlinewidth": 0,
             "ticks": ""
            },
            "colorscale": [
             [
              0,
              "#0d0887"
             ],
             [
              0.1111111111111111,
              "#46039f"
             ],
             [
              0.2222222222222222,
              "#7201a8"
             ],
             [
              0.3333333333333333,
              "#9c179e"
             ],
             [
              0.4444444444444444,
              "#bd3786"
             ],
             [
              0.5555555555555556,
              "#d8576b"
             ],
             [
              0.6666666666666666,
              "#ed7953"
             ],
             [
              0.7777777777777778,
              "#fb9f3a"
             ],
             [
              0.8888888888888888,
              "#fdca26"
             ],
             [
              1,
              "#f0f921"
             ]
            ],
            "type": "surface"
           }
          ],
          "table": [
           {
            "cells": {
             "fill": {
              "color": "#EBF0F8"
             },
             "line": {
              "color": "white"
             }
            },
            "header": {
             "fill": {
              "color": "#C8D4E3"
             },
             "line": {
              "color": "white"
             }
            },
            "type": "table"
           }
          ]
         },
         "layout": {
          "annotationdefaults": {
           "arrowcolor": "#2a3f5f",
           "arrowhead": 0,
           "arrowwidth": 1
          },
          "autotypenumbers": "strict",
          "coloraxis": {
           "colorbar": {
            "outlinewidth": 0,
            "ticks": ""
           }
          },
          "colorscale": {
           "diverging": [
            [
             0,
             "#8e0152"
            ],
            [
             0.1,
             "#c51b7d"
            ],
            [
             0.2,
             "#de77ae"
            ],
            [
             0.3,
             "#f1b6da"
            ],
            [
             0.4,
             "#fde0ef"
            ],
            [
             0.5,
             "#f7f7f7"
            ],
            [
             0.6,
             "#e6f5d0"
            ],
            [
             0.7,
             "#b8e186"
            ],
            [
             0.8,
             "#7fbc41"
            ],
            [
             0.9,
             "#4d9221"
            ],
            [
             1,
             "#276419"
            ]
           ],
           "sequential": [
            [
             0,
             "#0d0887"
            ],
            [
             0.1111111111111111,
             "#46039f"
            ],
            [
             0.2222222222222222,
             "#7201a8"
            ],
            [
             0.3333333333333333,
             "#9c179e"
            ],
            [
             0.4444444444444444,
             "#bd3786"
            ],
            [
             0.5555555555555556,
             "#d8576b"
            ],
            [
             0.6666666666666666,
             "#ed7953"
            ],
            [
             0.7777777777777778,
             "#fb9f3a"
            ],
            [
             0.8888888888888888,
             "#fdca26"
            ],
            [
             1,
             "#f0f921"
            ]
           ],
           "sequentialminus": [
            [
             0,
             "#0d0887"
            ],
            [
             0.1111111111111111,
             "#46039f"
            ],
            [
             0.2222222222222222,
             "#7201a8"
            ],
            [
             0.3333333333333333,
             "#9c179e"
            ],
            [
             0.4444444444444444,
             "#bd3786"
            ],
            [
             0.5555555555555556,
             "#d8576b"
            ],
            [
             0.6666666666666666,
             "#ed7953"
            ],
            [
             0.7777777777777778,
             "#fb9f3a"
            ],
            [
             0.8888888888888888,
             "#fdca26"
            ],
            [
             1,
             "#f0f921"
            ]
           ]
          },
          "colorway": [
           "#636efa",
           "#EF553B",
           "#00cc96",
           "#ab63fa",
           "#FFA15A",
           "#19d3f3",
           "#FF6692",
           "#B6E880",
           "#FF97FF",
           "#FECB52"
          ],
          "font": {
           "color": "#2a3f5f"
          },
          "geo": {
           "bgcolor": "white",
           "lakecolor": "white",
           "landcolor": "#E5ECF6",
           "showlakes": true,
           "showland": true,
           "subunitcolor": "white"
          },
          "hoverlabel": {
           "align": "left"
          },
          "hovermode": "closest",
          "mapbox": {
           "style": "light"
          },
          "paper_bgcolor": "white",
          "plot_bgcolor": "#E5ECF6",
          "polar": {
           "angularaxis": {
            "gridcolor": "white",
            "linecolor": "white",
            "ticks": ""
           },
           "bgcolor": "#E5ECF6",
           "radialaxis": {
            "gridcolor": "white",
            "linecolor": "white",
            "ticks": ""
           }
          },
          "scene": {
           "xaxis": {
            "backgroundcolor": "#E5ECF6",
            "gridcolor": "white",
            "gridwidth": 2,
            "linecolor": "white",
            "showbackground": true,
            "ticks": "",
            "zerolinecolor": "white"
           },
           "yaxis": {
            "backgroundcolor": "#E5ECF6",
            "gridcolor": "white",
            "gridwidth": 2,
            "linecolor": "white",
            "showbackground": true,
            "ticks": "",
            "zerolinecolor": "white"
           },
           "zaxis": {
            "backgroundcolor": "#E5ECF6",
            "gridcolor": "white",
            "gridwidth": 2,
            "linecolor": "white",
            "showbackground": true,
            "ticks": "",
            "zerolinecolor": "white"
           }
          },
          "shapedefaults": {
           "line": {
            "color": "#2a3f5f"
           }
          },
          "ternary": {
           "aaxis": {
            "gridcolor": "white",
            "linecolor": "white",
            "ticks": ""
           },
           "baxis": {
            "gridcolor": "white",
            "linecolor": "white",
            "ticks": ""
           },
           "bgcolor": "#E5ECF6",
           "caxis": {
            "gridcolor": "white",
            "linecolor": "white",
            "ticks": ""
           }
          },
          "title": {
           "x": 0.05
          },
          "xaxis": {
           "automargin": true,
           "gridcolor": "white",
           "linecolor": "white",
           "ticks": "",
           "title": {
            "standoff": 15
           },
           "zerolinecolor": "white",
           "zerolinewidth": 2
          },
          "yaxis": {
           "automargin": true,
           "gridcolor": "white",
           "linecolor": "white",
           "ticks": "",
           "title": {
            "standoff": 15
           },
           "zerolinecolor": "white",
           "zerolinewidth": 2
          }
         }
        },
        "title": {
         "text": "Province/State wise Deaths reported of COVID-19 in USA"
        },
        "xaxis": {
         "anchor": "y",
         "domain": [
          0,
          1
         ],
         "title": {
          "text": "Province_State"
         }
        },
        "yaxis": {
         "anchor": "x",
         "domain": [
          0,
          1
         ],
         "title": {
          "text": "Deaths"
         }
        }
       }
      },
      "text/html": [
       "<div>                            <div id=\"686204c0-dded-403a-bfa3-cca1b463d6cc\" class=\"plotly-graph-div\" style=\"height:525px; width:100%;\"></div>            <script type=\"text/javascript\">                require([\"plotly\"], function(Plotly) {                    window.PLOTLYENV=window.PLOTLYENV || {};                                    if (document.getElementById(\"686204c0-dded-403a-bfa3-cca1b463d6cc\")) {                    Plotly.newPlot(                        \"686204c0-dded-403a-bfa3-cca1b463d6cc\",                        [{\"alignmentgroup\":\"True\",\"hovertemplate\":\"Province_State=%{x}<br>Deaths=%{text}<extra></extra>\",\"legendgroup\":\"\",\"marker\":{\"color\":\"#636efa\",\"pattern\":{\"shape\":\"\"}},\"name\":\"\",\"offsetgroup\":\"\",\"orientation\":\"v\",\"showlegend\":false,\"text\":[62125.0,53080.0,51507.0,36774.0,27209.0,26207.0,25185.0,20837.0,20376.0,20295.0],\"textposition\":\"auto\",\"x\":[\"California\",\"New York\",\"Texas\",\"Florida\",\"Pennsylvania\",\"New Jersey\",\"Illinois\",\"Georgia\",\"Michigan\",\"Ohio\"],\"xaxis\":\"x\",\"y\":[62125,53080,51507,36774,27209,26207,25185,20837,20376,20295],\"yaxis\":\"y\",\"type\":\"bar\"}],                        {\"template\":{\"data\":{\"bar\":[{\"error_x\":{\"color\":\"#2a3f5f\"},\"error_y\":{\"color\":\"#2a3f5f\"},\"marker\":{\"line\":{\"color\":\"#E5ECF6\",\"width\":0.5},\"pattern\":{\"fillmode\":\"overlay\",\"size\":10,\"solidity\":0.2}},\"type\":\"bar\"}],\"barpolar\":[{\"marker\":{\"line\":{\"color\":\"#E5ECF6\",\"width\":0.5},\"pattern\":{\"fillmode\":\"overlay\",\"size\":10,\"solidity\":0.2}},\"type\":\"barpolar\"}],\"carpet\":[{\"aaxis\":{\"endlinecolor\":\"#2a3f5f\",\"gridcolor\":\"white\",\"linecolor\":\"white\",\"minorgridcolor\":\"white\",\"startlinecolor\":\"#2a3f5f\"},\"baxis\":{\"endlinecolor\":\"#2a3f5f\",\"gridcolor\":\"white\",\"linecolor\":\"white\",\"minorgridcolor\":\"white\",\"startlinecolor\":\"#2a3f5f\"},\"type\":\"carpet\"}],\"choropleth\":[{\"colorbar\":{\"outlinewidth\":0,\"ticks\":\"\"},\"type\":\"choropleth\"}],\"contour\":[{\"colorbar\":{\"outlinewidth\":0,\"ticks\":\"\"},\"colorscale\":[[0.0,\"#0d0887\"],[0.1111111111111111,\"#46039f\"],[0.2222222222222222,\"#7201a8\"],[0.3333333333333333,\"#9c179e\"],[0.4444444444444444,\"#bd3786\"],[0.5555555555555556,\"#d8576b\"],[0.6666666666666666,\"#ed7953\"],[0.7777777777777778,\"#fb9f3a\"],[0.8888888888888888,\"#fdca26\"],[1.0,\"#f0f921\"]],\"type\":\"contour\"}],\"contourcarpet\":[{\"colorbar\":{\"outlinewidth\":0,\"ticks\":\"\"},\"type\":\"contourcarpet\"}],\"heatmap\":[{\"colorbar\":{\"outlinewidth\":0,\"ticks\":\"\"},\"colorscale\":[[0.0,\"#0d0887\"],[0.1111111111111111,\"#46039f\"],[0.2222222222222222,\"#7201a8\"],[0.3333333333333333,\"#9c179e\"],[0.4444444444444444,\"#bd3786\"],[0.5555555555555556,\"#d8576b\"],[0.6666666666666666,\"#ed7953\"],[0.7777777777777778,\"#fb9f3a\"],[0.8888888888888888,\"#fdca26\"],[1.0,\"#f0f921\"]],\"type\":\"heatmap\"}],\"heatmapgl\":[{\"colorbar\":{\"outlinewidth\":0,\"ticks\":\"\"},\"colorscale\":[[0.0,\"#0d0887\"],[0.1111111111111111,\"#46039f\"],[0.2222222222222222,\"#7201a8\"],[0.3333333333333333,\"#9c179e\"],[0.4444444444444444,\"#bd3786\"],[0.5555555555555556,\"#d8576b\"],[0.6666666666666666,\"#ed7953\"],[0.7777777777777778,\"#fb9f3a\"],[0.8888888888888888,\"#fdca26\"],[1.0,\"#f0f921\"]],\"type\":\"heatmapgl\"}],\"histogram\":[{\"marker\":{\"pattern\":{\"fillmode\":\"overlay\",\"size\":10,\"solidity\":0.2}},\"type\":\"histogram\"}],\"histogram2d\":[{\"colorbar\":{\"outlinewidth\":0,\"ticks\":\"\"},\"colorscale\":[[0.0,\"#0d0887\"],[0.1111111111111111,\"#46039f\"],[0.2222222222222222,\"#7201a8\"],[0.3333333333333333,\"#9c179e\"],[0.4444444444444444,\"#bd3786\"],[0.5555555555555556,\"#d8576b\"],[0.6666666666666666,\"#ed7953\"],[0.7777777777777778,\"#fb9f3a\"],[0.8888888888888888,\"#fdca26\"],[1.0,\"#f0f921\"]],\"type\":\"histogram2d\"}],\"histogram2dcontour\":[{\"colorbar\":{\"outlinewidth\":0,\"ticks\":\"\"},\"colorscale\":[[0.0,\"#0d0887\"],[0.1111111111111111,\"#46039f\"],[0.2222222222222222,\"#7201a8\"],[0.3333333333333333,\"#9c179e\"],[0.4444444444444444,\"#bd3786\"],[0.5555555555555556,\"#d8576b\"],[0.6666666666666666,\"#ed7953\"],[0.7777777777777778,\"#fb9f3a\"],[0.8888888888888888,\"#fdca26\"],[1.0,\"#f0f921\"]],\"type\":\"histogram2dcontour\"}],\"mesh3d\":[{\"colorbar\":{\"outlinewidth\":0,\"ticks\":\"\"},\"type\":\"mesh3d\"}],\"parcoords\":[{\"line\":{\"colorbar\":{\"outlinewidth\":0,\"ticks\":\"\"}},\"type\":\"parcoords\"}],\"pie\":[{\"automargin\":true,\"type\":\"pie\"}],\"scatter\":[{\"marker\":{\"colorbar\":{\"outlinewidth\":0,\"ticks\":\"\"}},\"type\":\"scatter\"}],\"scatter3d\":[{\"line\":{\"colorbar\":{\"outlinewidth\":0,\"ticks\":\"\"}},\"marker\":{\"colorbar\":{\"outlinewidth\":0,\"ticks\":\"\"}},\"type\":\"scatter3d\"}],\"scattercarpet\":[{\"marker\":{\"colorbar\":{\"outlinewidth\":0,\"ticks\":\"\"}},\"type\":\"scattercarpet\"}],\"scattergeo\":[{\"marker\":{\"colorbar\":{\"outlinewidth\":0,\"ticks\":\"\"}},\"type\":\"scattergeo\"}],\"scattergl\":[{\"marker\":{\"colorbar\":{\"outlinewidth\":0,\"ticks\":\"\"}},\"type\":\"scattergl\"}],\"scattermapbox\":[{\"marker\":{\"colorbar\":{\"outlinewidth\":0,\"ticks\":\"\"}},\"type\":\"scattermapbox\"}],\"scatterpolar\":[{\"marker\":{\"colorbar\":{\"outlinewidth\":0,\"ticks\":\"\"}},\"type\":\"scatterpolar\"}],\"scatterpolargl\":[{\"marker\":{\"colorbar\":{\"outlinewidth\":0,\"ticks\":\"\"}},\"type\":\"scatterpolargl\"}],\"scatterternary\":[{\"marker\":{\"colorbar\":{\"outlinewidth\":0,\"ticks\":\"\"}},\"type\":\"scatterternary\"}],\"surface\":[{\"colorbar\":{\"outlinewidth\":0,\"ticks\":\"\"},\"colorscale\":[[0.0,\"#0d0887\"],[0.1111111111111111,\"#46039f\"],[0.2222222222222222,\"#7201a8\"],[0.3333333333333333,\"#9c179e\"],[0.4444444444444444,\"#bd3786\"],[0.5555555555555556,\"#d8576b\"],[0.6666666666666666,\"#ed7953\"],[0.7777777777777778,\"#fb9f3a\"],[0.8888888888888888,\"#fdca26\"],[1.0,\"#f0f921\"]],\"type\":\"surface\"}],\"table\":[{\"cells\":{\"fill\":{\"color\":\"#EBF0F8\"},\"line\":{\"color\":\"white\"}},\"header\":{\"fill\":{\"color\":\"#C8D4E3\"},\"line\":{\"color\":\"white\"}},\"type\":\"table\"}]},\"layout\":{\"annotationdefaults\":{\"arrowcolor\":\"#2a3f5f\",\"arrowhead\":0,\"arrowwidth\":1},\"autotypenumbers\":\"strict\",\"coloraxis\":{\"colorbar\":{\"outlinewidth\":0,\"ticks\":\"\"}},\"colorscale\":{\"diverging\":[[0,\"#8e0152\"],[0.1,\"#c51b7d\"],[0.2,\"#de77ae\"],[0.3,\"#f1b6da\"],[0.4,\"#fde0ef\"],[0.5,\"#f7f7f7\"],[0.6,\"#e6f5d0\"],[0.7,\"#b8e186\"],[0.8,\"#7fbc41\"],[0.9,\"#4d9221\"],[1,\"#276419\"]],\"sequential\":[[0.0,\"#0d0887\"],[0.1111111111111111,\"#46039f\"],[0.2222222222222222,\"#7201a8\"],[0.3333333333333333,\"#9c179e\"],[0.4444444444444444,\"#bd3786\"],[0.5555555555555556,\"#d8576b\"],[0.6666666666666666,\"#ed7953\"],[0.7777777777777778,\"#fb9f3a\"],[0.8888888888888888,\"#fdca26\"],[1.0,\"#f0f921\"]],\"sequentialminus\":[[0.0,\"#0d0887\"],[0.1111111111111111,\"#46039f\"],[0.2222222222222222,\"#7201a8\"],[0.3333333333333333,\"#9c179e\"],[0.4444444444444444,\"#bd3786\"],[0.5555555555555556,\"#d8576b\"],[0.6666666666666666,\"#ed7953\"],[0.7777777777777778,\"#fb9f3a\"],[0.8888888888888888,\"#fdca26\"],[1.0,\"#f0f921\"]]},\"colorway\":[\"#636efa\",\"#EF553B\",\"#00cc96\",\"#ab63fa\",\"#FFA15A\",\"#19d3f3\",\"#FF6692\",\"#B6E880\",\"#FF97FF\",\"#FECB52\"],\"font\":{\"color\":\"#2a3f5f\"},\"geo\":{\"bgcolor\":\"white\",\"lakecolor\":\"white\",\"landcolor\":\"#E5ECF6\",\"showlakes\":true,\"showland\":true,\"subunitcolor\":\"white\"},\"hoverlabel\":{\"align\":\"left\"},\"hovermode\":\"closest\",\"mapbox\":{\"style\":\"light\"},\"paper_bgcolor\":\"white\",\"plot_bgcolor\":\"#E5ECF6\",\"polar\":{\"angularaxis\":{\"gridcolor\":\"white\",\"linecolor\":\"white\",\"ticks\":\"\"},\"bgcolor\":\"#E5ECF6\",\"radialaxis\":{\"gridcolor\":\"white\",\"linecolor\":\"white\",\"ticks\":\"\"}},\"scene\":{\"xaxis\":{\"backgroundcolor\":\"#E5ECF6\",\"gridcolor\":\"white\",\"gridwidth\":2,\"linecolor\":\"white\",\"showbackground\":true,\"ticks\":\"\",\"zerolinecolor\":\"white\"},\"yaxis\":{\"backgroundcolor\":\"#E5ECF6\",\"gridcolor\":\"white\",\"gridwidth\":2,\"linecolor\":\"white\",\"showbackground\":true,\"ticks\":\"\",\"zerolinecolor\":\"white\"},\"zaxis\":{\"backgroundcolor\":\"#E5ECF6\",\"gridcolor\":\"white\",\"gridwidth\":2,\"linecolor\":\"white\",\"showbackground\":true,\"ticks\":\"\",\"zerolinecolor\":\"white\"}},\"shapedefaults\":{\"line\":{\"color\":\"#2a3f5f\"}},\"ternary\":{\"aaxis\":{\"gridcolor\":\"white\",\"linecolor\":\"white\",\"ticks\":\"\"},\"baxis\":{\"gridcolor\":\"white\",\"linecolor\":\"white\",\"ticks\":\"\"},\"bgcolor\":\"#E5ECF6\",\"caxis\":{\"gridcolor\":\"white\",\"linecolor\":\"white\",\"ticks\":\"\"}},\"title\":{\"x\":0.05},\"xaxis\":{\"automargin\":true,\"gridcolor\":\"white\",\"linecolor\":\"white\",\"ticks\":\"\",\"title\":{\"standoff\":15},\"zerolinecolor\":\"white\",\"zerolinewidth\":2},\"yaxis\":{\"automargin\":true,\"gridcolor\":\"white\",\"linecolor\":\"white\",\"ticks\":\"\",\"title\":{\"standoff\":15},\"zerolinecolor\":\"white\",\"zerolinewidth\":2}}},\"xaxis\":{\"anchor\":\"y\",\"domain\":[0.0,1.0],\"title\":{\"text\":\"Province_State\"}},\"yaxis\":{\"anchor\":\"x\",\"domain\":[0.0,1.0],\"title\":{\"text\":\"Deaths\"}},\"legend\":{\"tracegroupgap\":0},\"title\":{\"text\":\"Province/State wise Deaths reported of COVID-19 in USA\"},\"barmode\":\"relative\"},                        {\"responsive\": true}                    ).then(function(){\n",
       "                            \n",
       "var gd = document.getElementById('686204c0-dded-403a-bfa3-cca1b463d6cc');\n",
       "var x = new MutationObserver(function (mutations, observer) {{\n",
       "        var display = window.getComputedStyle(gd).display;\n",
       "        if (!display || display === 'none') {{\n",
       "            console.log([gd, 'removed!']);\n",
       "            Plotly.purge(gd);\n",
       "            observer.disconnect();\n",
       "        }}\n",
       "}});\n",
       "\n",
       "// Listen for the removal of the full notebook cells\n",
       "var notebookContainer = gd.closest('#notebook-container');\n",
       "if (notebookContainer) {{\n",
       "    x.observe(notebookContainer, {childList: true});\n",
       "}}\n",
       "\n",
       "// Listen for the clearing of the current output cell\n",
       "var outputEl = gd.closest('.output');\n",
       "if (outputEl) {{\n",
       "    x.observe(outputEl, {childList: true});\n",
       "}}\n",
       "\n",
       "                        })                };                });            </script>        </div>"
      ]
     },
     "metadata": {},
     "output_type": "display_data"
    }
   ],
   "source": [
    "us_data = covid_data[covid_data['Country_Region']=='US'].drop(['Country_Region','Lat', 'Long_'], axis=1)\n",
    "us_data = us_data.groupby(['Province_State'])['Deaths'].sum().nlargest(10).reset_index()\n",
    "us_data_death = us_data[us_data['Deaths'] > 0]\n",
    "state_fig = px.bar(us_data_death, x='Province_State', y='Deaths', title='Province/State wise Deaths reported of COVID-19 in USA', text='Deaths')\n",
    "state_fig.show()"
   ]
  },
  {
   "cell_type": "markdown",
   "metadata": {},
   "source": [
    "### Question 7"
   ]
  },
  {
   "cell_type": "markdown",
   "metadata": {},
   "source": [
    "### Plot Province/State Wise Active Cases in USA"
   ]
  },
  {
   "cell_type": "code",
   "execution_count": 64,
   "metadata": {},
   "outputs": [
    {
     "data": {
      "application/vnd.plotly.v1+json": {
       "config": {
        "plotlyServerURL": "https://plot.ly"
       },
       "data": [
        {
         "alignmentgroup": "True",
         "hovertemplate": "Province_State=%{x}<br>Active=%{y}<extra></extra>",
         "legendgroup": "",
         "marker": {
          "color": "#636efa",
          "pattern": {
           "shape": ""
          }
         },
         "name": "",
         "offsetgroup": "",
         "orientation": "v",
         "showlegend": false,
         "textposition": "auto",
         "type": "bar",
         "x": [
          "Abruzzo",
          "Acre",
          "Adygea Republic",
          "Aguascalientes",
          "Aichi",
          "Akita",
          "Alabama",
          "Alagoas",
          "Alaska",
          "Alberta",
          "Altai Krai",
          "Altai Republic",
          "Amapa",
          "Amazonas",
          "Amur Oblast",
          "Ancash",
          "Andalusia",
          "Andaman and Nicobar Islands",
          "Andhra Pradesh",
          "Anguilla",
          "Anhui",
          "Antioquia",
          "Antofagasta",
          "Antwerp",
          "Aomori",
          "Apurimac",
          "Aragon",
          "Arauca",
          "Araucania",
          "Arequipa",
          "Arica y Parinacota",
          "Arizona",
          "Arkansas",
          "Arkhangelsk Oblast",
          "Aruba",
          "Arunachal Pradesh",
          "Assam",
          "Astrakhan Oblast",
          "Asturias",
          "Atacama",
          "Atlantico",
          "Australian Capital Territory",
          "Ayacucho",
          "Aysen",
          "Azad Jammu and Kashmir",
          "Baden-Wurttemberg",
          "Bahia",
          "Baja California",
          "Baja California Sur",
          "Baleares",
          "Balochistan",
          "Bashkortostan Republic",
          "Basilicata",
          "Bayern",
          "Beijing",
          "Belgorod Oblast",
          "Berlin",
          "Bermuda",
          "Bihar",
          "Biobio",
          "Blekinge",
          "Bolivar",
          "Bonaire, Sint Eustatius and Saba",
          "Boyaca",
          "Brandenburg",
          "Bremen",
          "British Columbia",
          "British Virgin Islands",
          "Brussels",
          "Bryansk Oblast",
          "Buryatia Republic",
          "C. Valenciana",
          "Cajamarca",
          "Calabria",
          "Caldas",
          "California",
          "Callao",
          "Campania",
          "Campeche",
          "Canarias",
          "Cantabria",
          "Capital District",
          "Caqueta",
          "Casanare",
          "Castilla - La Mancha",
          "Castilla y Leon",
          "Catalonia",
          "Cauca",
          "Cayman Islands",
          "Ceara",
          "Cesar",
          "Ceuta",
          "Chandigarh",
          "Channel Islands",
          "Chechen Republic",
          "Chelyabinsk Oblast",
          "Cherkasy Oblast",
          "Chernihiv Oblast",
          "Chernivtsi Oblast",
          "Chhattisgarh",
          "Chiapas",
          "Chiba",
          "Chihuahua",
          "Choco",
          "Chongqing",
          "Chukotka Autonomous Okrug",
          "Chuvashia Republic",
          "Ciudad de Mexico",
          "Coahuila",
          "Colima",
          "Colorado",
          "Connecticut",
          "Cook Islands",
          "Coquimbo",
          "Cordoba",
          "Crimea Republic*",
          "Cundinamarca",
          "Curacao",
          "Cusco",
          "Dadra and Nagar Haveli and Daman and Diu",
          "Dagestan Republic",
          "Dalarna",
          "Delaware",
          "Delhi",
          "Diamond Princess",
          "District of Columbia",
          "Distrito Federal",
          "Dnipropetrovsk Oblast",
          "Donetsk Oblast",
          "Drenthe",
          "Durango",
          "East Flanders",
          "Ehime",
          "Emilia-Romagna",
          "England",
          "Espirito Santo",
          "Extremadura",
          "Falkland Islands (Malvinas)",
          "Faroe Islands",
          "Flemish Brabant",
          "Flevoland",
          "Florida",
          "French Guiana",
          "French Polynesia",
          "Friesland",
          "Friuli Venezia Giulia",
          "Fujian",
          "Fukui",
          "Fukuoka",
          "Fukushima",
          "Galicia",
          "Gansu",
          "Gavleborg",
          "Gelderland",
          "Georgia",
          "Gibraltar",
          "Gifu",
          "Gilgit-Baltistan",
          "Goa",
          "Goias",
          "Gotland",
          "Grand Princess",
          "Greenland",
          "Groningen",
          "Guadeloupe",
          "Guainia",
          "Guam",
          "Guanajuato",
          "Guangdong",
          "Guangxi",
          "Guaviare",
          "Guernsey",
          "Guerrero",
          "Guizhou",
          "Gujarat",
          "Gunma",
          "Hainan",
          "Hainaut",
          "Halland",
          "Hamburg",
          "Haryana",
          "Hawaii",
          "Hebei",
          "Heilongjiang",
          "Henan",
          "Hessen",
          "Hidalgo",
          "Himachal Pradesh",
          "Hiroshima",
          "Hokkaido",
          "Hong Kong",
          "Huancavelica",
          "Huanuco",
          "Hubei",
          "Huila",
          "Hunan",
          "Hyogo",
          "Ibaraki",
          "Ica",
          "Idaho",
          "Illinois",
          "Indiana",
          "Ingushetia Republic",
          "Inner Mongolia",
          "Iowa",
          "Irkutsk Oblast",
          "Ishikawa",
          "Islamabad",
          "Isle of Man",
          "Ivano-Frankivsk Oblast",
          "Ivanovo Oblast",
          "Iwate",
          "Jalisco",
          "Jammu and Kashmir",
          "Jamtland Harjedalen",
          "Jersey",
          "Jewish Autonomous Okrug",
          "Jharkhand",
          "Jiangsu",
          "Jiangxi",
          "Jilin",
          "Johor",
          "Jonkoping",
          "Junin",
          "Kabardino-Balkarian Republic",
          "Kagawa",
          "Kagoshima",
          "Kaliningrad Oblast",
          "Kalmar",
          "Kalmykia Republic",
          "Kaluga Oblast",
          "Kamchatka Krai",
          "Kanagawa",
          "Kansas",
          "Karachay-Cherkess Republic",
          "Karelia Republic",
          "Karnataka",
          "Kedah",
          "Kelantan",
          "Kemerovo Oblast",
          "Kentucky",
          "Kerala",
          "Khabarovsk Krai",
          "Khakassia Republic",
          "Khanty-Mansi Autonomous Okrug",
          "Kharkiv Oblast",
          "Kherson Oblast",
          "Khmelnytskyi Oblast",
          "Khyber Pakhtunkhwa",
          "Kiev",
          "Kiev Oblast",
          "Kirov Oblast",
          "Kirovohrad Oblast",
          "Kochi",
          "Komi Republic",
          "Kostroma Oblast",
          "Krasnodar Krai",
          "Krasnoyarsk Krai",
          "Kronoberg",
          "Kumamoto",
          "Kurgan Oblast",
          "Kursk Oblast",
          "Kyoto",
          "La Guajira",
          "La Libertad",
          "La Rioja",
          "Ladakh",
          "Lakshadweep",
          "Lambayeque",
          "Lazio",
          "Leningrad Oblast",
          "Liaoning",
          "Liege",
          "Liguria",
          "Lima",
          "Limburg",
          "Lipetsk Oblast",
          "Lombardia",
          "Loreto",
          "Los Lagos",
          "Los Rios",
          "Louisiana",
          "Luhansk Oblast",
          "Luxembourg",
          "Lviv Oblast",
          "Macau",
          "Madhya Pradesh",
          "Madre de Dios",
          "Madrid",
          "Magadan Oblast",
          "Magallanes",
          "Magdalena",
          "Maharashtra",
          "Maine",
          "Manipur",
          "Manitoba",
          "Maranhao",
          "Marche",
          "Mari El Republic",
          "Martinique",
          "Maryland",
          "Massachusetts",
          "Mato Grosso",
          "Mato Grosso do Sul",
          "Maule",
          "Mayotte",
          "Mecklenburg-Vorpommern",
          "Meghalaya",
          "Melaka",
          "Melilla",
          "Meta",
          "Metropolitana",
          "Mexico",
          "Michigan",
          "Michoacan",
          "Mie",
          "Minas Gerais",
          "Minnesota",
          "Mississippi",
          "Missouri",
          "Miyagi",
          "Miyazaki",
          "Mizoram",
          "Molise",
          "Montana",
          "Montserrat",
          "Moquegua",
          "Mordovia Republic",
          "Morelos",
          "Moscow",
          "Moscow Oblast",
          "Murcia",
          "Murmansk Oblast",
          "Mykolaiv Oblast",
          "Nagaland",
          "Nagano",
          "Nagasaki",
          "Namur",
          "Nara",
          "Narino",
          "Navarra",
          "Nayarit",
          "Nebraska",
          "Negeri Sembilan",
          "Nenets Autonomous Okrug",
          "Nevada",
          "New Brunswick",
          "New Caledonia",
          "New Hampshire",
          "New Jersey",
          "New Mexico",
          "New South Wales",
          "New York",
          "Newfoundland and Labrador",
          "Niedersachsen",
          "Niigata",
          "Ningxia",
          "Niue",
          "Nizhny Novgorod Oblast",
          "Noord-Brabant",
          "Noord-Holland",
          "Nordrhein-Westfalen",
          "Norrbotten",
          "Norte de Santander",
          "North Carolina",
          "North Dakota",
          "North Ossetia - Alania Republic",
          "Northern Ireland",
          "Northern Mariana Islands",
          "Northern Territory",
          "Northwest Territories",
          "Nova Scotia",
          "Novgorod Oblast",
          "Novosibirsk Oblast",
          "Nuble",
          "Nuevo Leon",
          "Nunavut",
          "OHiggins",
          "Oaxaca",
          "Odessa Oblast",
          "Odisha",
          "Ohio",
          "Oita",
          "Okayama",
          "Okinawa",
          "Oklahoma",
          "Omsk Oblast",
          "Ontario",
          "Orebro",
          "Oregon",
          "Orel Oblast",
          "Orenburg Oblast",
          "Osaka",
          "Ostergotland",
          "Overijssel",
          "P.A. Bolzano",
          "P.A. Trento",
          "Pahang",
          "Pais Vasco",
          "Para",
          "Paraiba",
          "Parana",
          "Pasco",
          "Pennsylvania",
          "Penza Oblast",
          "Perak",
          "Perlis",
          "Perm Krai",
          "Pernambuco",
          "Piaui",
          "Piemonte",
          "Pitcairn Islands",
          "Piura",
          "Poltava Oblast",
          "Port Quarantine",
          "Primorsky Krai",
          "Prince Edward Island",
          "Pskov Oblast",
          "Puducherry",
          "Puebla",
          "Puerto Rico",
          "Puglia",
          "Pulau Pinang",
          "Punjab",
          "Puno",
          "Putumayo",
          "Qinghai",
          "Quebec",
          "Queensland",
          "Queretaro",
          "Quindio",
          "Quintana Roo",
          "Rajasthan",
          "Recovered",
          "Repatriated Travellers",
          "Reunion",
          "Rheinland-Pfalz",
          "Rhode Island",
          "Rio Grande do Norte",
          "Rio Grande do Sul",
          "Rio de Janeiro",
          "Risaralda",
          "Rivne Oblast",
          "Rondonia",
          "Roraima",
          "Rostov Oblast",
          "Ryazan Oblast",
          "Saarland",
          "Sabah",
          "Sachsen",
          "Sachsen-Anhalt",
          "Saga",
          "Saint Barthelemy",
          "Saint Helena, Ascension and Tristan da Cunha",
          "Saint Petersburg",
          "Saint Pierre and Miquelon",
          "Saitama",
          "Sakha (Yakutiya) Republic",
          "Sakhalin Oblast",
          "Samara Oblast",
          "San Andres y Providencia",
          "San Luis Potosi",
          "San Martin",
          "Santa Catarina",
          "Santander",
          "Sao Paulo",
          "Saratov Oblast",
          "Sarawak",
          "Sardegna",
          "Saskatchewan",
          "Schleswig-Holstein",
          "Scotland",
          "Selangor",
          "Sergipe",
          "Sevastopol*",
          "Shaanxi",
          "Shandong",
          "Shanghai",
          "Shanxi",
          "Shiga",
          "Shimane",
          "Shizuoka",
          "Sichuan",
          "Sicilia",
          "Sikkim",
          "Sinaloa",
          "Sindh",
          "Sint Maarten",
          "Skane",
          "Smolensk Oblast",
          "Sonora",
          "Sormland",
          "South Australia",
          "South Carolina",
          "South Dakota",
          "St Martin",
          "Stavropol Krai",
          "Stockholm",
          "Sucre",
          "Sumy Oblast",
          "Sverdlovsk Oblast",
          "Tabasco",
          "Tacna",
          "Tamaulipas",
          "Tambov Oblast",
          "Tamil Nadu",
          "Tarapaca",
          "Tasmania",
          "Tatarstan Republic",
          "Telangana",
          "Tennessee",
          "Terengganu",
          "Ternopil Oblast",
          "Texas",
          "Thuringen",
          "Tianjin",
          "Tibet",
          "Tlaxcala",
          "Tocantins",
          "Tochigi",
          "Tokushima",
          "Tokyo",
          "Tolima",
          "Tomsk Oblast",
          "Toscana",
          "Tottori",
          "Toyama",
          "Tripura",
          "Tula Oblast",
          "Tumbes",
          "Turks and Caicos Islands",
          "Tver Oblast",
          "Tyumen Oblast",
          "Tyva Republic",
          "Ucayali",
          "Udmurt Republic",
          "Ulyanovsk Oblast",
          "Umbria",
          "Unknown",
          "Uppsala",
          "Utah",
          "Utrecht",
          "Uttar Pradesh",
          "Uttarakhand",
          "Valle d'Aosta",
          "Valle del Cauca",
          "Valparaiso",
          "Varmland",
          "Vasterbotten",
          "Vasternorrland",
          "Vastmanland",
          "Vastra Gotaland",
          "Vaupes",
          "Veneto",
          "Veracruz",
          "Vermont",
          "Vichada",
          "Victoria",
          "Vinnytsia Oblast",
          "Virgin Islands",
          "Virginia",
          "Vladimir Oblast",
          "Volgograd Oblast",
          "Vologda Oblast",
          "Volyn Oblast",
          "Voronezh Oblast",
          "W.P. Kuala Lumpur",
          "W.P. Labuan",
          "W.P. Putrajaya",
          "Wakayama",
          "Wales",
          "Wallis and Futuna",
          "Walloon Brabant",
          "Washington",
          "West Bengal",
          "West Flanders",
          "West Virginia",
          "Western Australia",
          "Wisconsin",
          "Wyoming",
          "Xinjiang",
          "Yamagata",
          "Yamaguchi",
          "Yamalo-Nenets Autonomous Okrug",
          "Yamanashi",
          "Yaroslavl Oblast",
          "Yucatan",
          "Yukon",
          "Yunnan",
          "Zabaykalsky Krai",
          "Zacatecas",
          "Zakarpattia Oblast",
          "Zaporizhia Oblast",
          "Zeeland",
          "Zhejiang",
          "Zhytomyr Oblast",
          "Zuid-Holland"
         ],
         "xaxis": "x",
         "y": [
          5559,
          7157,
          331,
          24084,
          6337,
          58,
          0,
          6277,
          0,
          8073,
          2790,
          156,
          23197,
          71351,
          297,
          63134,
          561329,
          187,
          165795,
          0,
          2,
          22427,
          1223,
          137602,
          298,
          21539,
          116629,
          373,
          2470,
          75716,
          666,
          0,
          0,
          1678,
          61,
          3783,
          53795,
          778,
          49185,
          894,
          4769,
          0,
          26893,
          477,
          1186,
          15698,
          23288,
          40863,
          30643,
          57992,
          1118,
          1531,
          3800,
          15015,
          4,
          1820,
          2832,
          31,
          18378,
          3842,
          12391,
          2070,
          16,
          2698,
          2374,
          651,
          3529,
          38,
          130186,
          517,
          549,
          377001,
          54458,
          9999,
          2602,
          0,
          85550,
          67354,
          8959,
          53920,
          27327,
          66292,
          303,
          898,
          180043,
          215002,
          570274,
          966,
          15,
          229956,
          1370,
          5552,
          2134,
          23,
          130,
          2703,
          5441,
          1996,
          1234,
          39261,
          9853,
          1125,
          48593,
          529,
          6,
          28,
          796,
          624913,
          62552,
          10712,
          0,
          0,
          1,
          1499,
          2023,
          1587,
          6493,
          29,
          57990,
          339,
          931,
          26144,
          0,
          12100,
          0,
          0,
          9085,
          8328,
          4018,
          33167,
          31746,
          121794,
          92,
          15762,
          3800904,
          18745,
          71240,
          0,
          48,
          80738,
          36084,
          0,
          13652,
          11,
          42536,
          4916,
          32,
          39,
          4513,
          288,
          115016,
          0,
          34956,
          182106,
          0,
          7,
          634,
          113,
          14010,
          13226,
          3888,
          0,
          7,
          38265,
          14369,
          68,
          0,
          121069,
          64,
          5,
          155,
          0,
          36674,
          0,
          35403,
          438,
          1,
          156684,
          39890,
          2346,
          21087,
          0,
          0,
          2,
          3,
          10438,
          32748,
          14940,
          2249,
          8289,
          55,
          13497,
          29636,
          2,
          1225,
          8,
          2421,
          518,
          44637,
          0,
          0,
          0,
          243,
          3,
          0,
          541,
          485,
          5471,
          2,
          1455,
          836,
          149,
          74700,
          37677,
          12187,
          0,
          35,
          9906,
          10,
          0,
          0,
          6457,
          41899,
          65699,
          233,
          146,
          332,
          604,
          23514,
          267,
          1214,
          395,
          2357,
          0,
          221,
          1192,
          342031,
          3946,
          6592,
          597,
          0,
          224120,
          1638,
          504,
          499,
          9370,
          2556,
          3070,
          5345,
          35253,
          3521,
          2054,
          2271,
          231,
          434,
          2248,
          1971,
          2090,
          21328,
          723,
          688,
          777,
          1034,
          504,
          67779,
          26871,
          1555,
          2006,
          47380,
          19815,
          1408,
          9,
          128246,
          1176,
          794280,
          171323,
          2162,
          32063,
          35986,
          2304,
          1498,
          0,
          1420,
          30878,
          3205,
          2,
          27256,
          12871,
          658595,
          96,
          379,
          1567,
          274601,
          0,
          8482,
          4569,
          28192,
          3936,
          147,
          11786,
          0,
          0,
          16653,
          24087,
          3250,
          17041,
          821,
          7496,
          2829,
          8876,
          883,
          20108,
          215255,
          0,
          42532,
          243,
          93200,
          0,
          0,
          0,
          250,
          196,
          3034,
          138,
          0,
          0,
          23236,
          2042,
          30209,
          96708,
          42589,
          109146,
          1902,
          1645,
          5049,
          256,
          168,
          58587,
          233,
          2559,
          57156,
          10342,
          0,
          4547,
          15,
          0,
          144,
          70,
          0,
          0,
          0,
          5533,
          0,
          108,
          5048,
          343,
          1,
          0,
          1812,
          263988,
          270102,
          26116,
          24292,
          1573,
          0,
          0,
          390,
          120485,
          0,
          3,
          2,
          505,
          627,
          2211,
          1058,
          114721,
          10,
          2239,
          43476,
          7938,
          83438,
          0,
          377,
          1194,
          2718,
          0,
          895,
          12349,
          31266,
          0,
          1108,
          2676,
          10384,
          40989,
          106596,
          686,
          480,
          2783,
          177223,
          20120,
          98767,
          312499,
          13176,
          0,
          1905,
          2419,
          78,
          3352,
          70633,
          1034,
          5379,
          0,
          66493,
          1756,
          84,
          2092,
          13,
          4756,
          12167,
          73299,
          0,
          25683,
          3323,
          59462,
          28912,
          352,
          0,
          4695,
          20,
          64771,
          679,
          24215,
          49224,
          0,
          0,
          1916,
          3771,
          0,
          110987,
          19238,
          18112,
          1379,
          2147,
          7863,
          5600,
          5499,
          944,
          905,
          2103,
          10290,
          3126,
          160,
          560,
          0,
          20092,
          0,
          1878,
          3655,
          388,
          1001,
          202,
          58903,
          41106,
          29797,
          6202,
          243181,
          2172,
          6064,
          12784,
          1430,
          1324,
          227753,
          25885,
          22303,
          546,
          21,
          3,
          66,
          5,
          482,
          95,
          762,
          30,
          9883,
          3961,
          33022,
          25601,
          71,
          151932,
          771,
          68593,
          24936,
          3,
          0,
          0,
          595,
          1438,
          246965,
          1637,
          2103,
          2691,
          64237,
          23454,
          54602,
          1451,
          305546,
          574,
          0,
          2512,
          35042,
          0,
          2247,
          2546,
          0,
          3079,
          9,
          0,
          17470,
          15613,
          379,
          60,
          5807,
          1289,
          628,
          8387,
          42,
          299,
          6557,
          463,
          15069,
          17,
          1728,
          978,
          63,
          28235,
          2188,
          1185,
          1558,
          11478,
          39253,
          0,
          124477,
          41214,
          30357,
          228,
          6861,
          3339,
          18244,
          22728,
          25950,
          26775,
          184495,
          29,
          8710,
          51660,
          0,
          18,
          53,
          2719,
          0,
          0,
          1136,
          1456,
          2026,
          2892,
          1637,
          7494,
          999,
          252,
          158,
          207133,
          9,
          40688,
          0,
          94898,
          95848,
          0,
          2,
          0,
          0,
          0,
          185,
          458,
          799,
          134,
          1342,
          35917,
          0,
          16,
          825,
          27970,
          1127,
          4946,
          28963,
          39,
          1895,
          388008
         ],
         "yaxis": "y"
        }
       ],
       "layout": {
        "barmode": "relative",
        "legend": {
         "tracegroupgap": 0
        },
        "template": {
         "data": {
          "bar": [
           {
            "error_x": {
             "color": "#2a3f5f"
            },
            "error_y": {
             "color": "#2a3f5f"
            },
            "marker": {
             "line": {
              "color": "#E5ECF6",
              "width": 0.5
             },
             "pattern": {
              "fillmode": "overlay",
              "size": 10,
              "solidity": 0.2
             }
            },
            "type": "bar"
           }
          ],
          "barpolar": [
           {
            "marker": {
             "line": {
              "color": "#E5ECF6",
              "width": 0.5
             },
             "pattern": {
              "fillmode": "overlay",
              "size": 10,
              "solidity": 0.2
             }
            },
            "type": "barpolar"
           }
          ],
          "carpet": [
           {
            "aaxis": {
             "endlinecolor": "#2a3f5f",
             "gridcolor": "white",
             "linecolor": "white",
             "minorgridcolor": "white",
             "startlinecolor": "#2a3f5f"
            },
            "baxis": {
             "endlinecolor": "#2a3f5f",
             "gridcolor": "white",
             "linecolor": "white",
             "minorgridcolor": "white",
             "startlinecolor": "#2a3f5f"
            },
            "type": "carpet"
           }
          ],
          "choropleth": [
           {
            "colorbar": {
             "outlinewidth": 0,
             "ticks": ""
            },
            "type": "choropleth"
           }
          ],
          "contour": [
           {
            "colorbar": {
             "outlinewidth": 0,
             "ticks": ""
            },
            "colorscale": [
             [
              0,
              "#0d0887"
             ],
             [
              0.1111111111111111,
              "#46039f"
             ],
             [
              0.2222222222222222,
              "#7201a8"
             ],
             [
              0.3333333333333333,
              "#9c179e"
             ],
             [
              0.4444444444444444,
              "#bd3786"
             ],
             [
              0.5555555555555556,
              "#d8576b"
             ],
             [
              0.6666666666666666,
              "#ed7953"
             ],
             [
              0.7777777777777778,
              "#fb9f3a"
             ],
             [
              0.8888888888888888,
              "#fdca26"
             ],
             [
              1,
              "#f0f921"
             ]
            ],
            "type": "contour"
           }
          ],
          "contourcarpet": [
           {
            "colorbar": {
             "outlinewidth": 0,
             "ticks": ""
            },
            "type": "contourcarpet"
           }
          ],
          "heatmap": [
           {
            "colorbar": {
             "outlinewidth": 0,
             "ticks": ""
            },
            "colorscale": [
             [
              0,
              "#0d0887"
             ],
             [
              0.1111111111111111,
              "#46039f"
             ],
             [
              0.2222222222222222,
              "#7201a8"
             ],
             [
              0.3333333333333333,
              "#9c179e"
             ],
             [
              0.4444444444444444,
              "#bd3786"
             ],
             [
              0.5555555555555556,
              "#d8576b"
             ],
             [
              0.6666666666666666,
              "#ed7953"
             ],
             [
              0.7777777777777778,
              "#fb9f3a"
             ],
             [
              0.8888888888888888,
              "#fdca26"
             ],
             [
              1,
              "#f0f921"
             ]
            ],
            "type": "heatmap"
           }
          ],
          "heatmapgl": [
           {
            "colorbar": {
             "outlinewidth": 0,
             "ticks": ""
            },
            "colorscale": [
             [
              0,
              "#0d0887"
             ],
             [
              0.1111111111111111,
              "#46039f"
             ],
             [
              0.2222222222222222,
              "#7201a8"
             ],
             [
              0.3333333333333333,
              "#9c179e"
             ],
             [
              0.4444444444444444,
              "#bd3786"
             ],
             [
              0.5555555555555556,
              "#d8576b"
             ],
             [
              0.6666666666666666,
              "#ed7953"
             ],
             [
              0.7777777777777778,
              "#fb9f3a"
             ],
             [
              0.8888888888888888,
              "#fdca26"
             ],
             [
              1,
              "#f0f921"
             ]
            ],
            "type": "heatmapgl"
           }
          ],
          "histogram": [
           {
            "marker": {
             "pattern": {
              "fillmode": "overlay",
              "size": 10,
              "solidity": 0.2
             }
            },
            "type": "histogram"
           }
          ],
          "histogram2d": [
           {
            "colorbar": {
             "outlinewidth": 0,
             "ticks": ""
            },
            "colorscale": [
             [
              0,
              "#0d0887"
             ],
             [
              0.1111111111111111,
              "#46039f"
             ],
             [
              0.2222222222222222,
              "#7201a8"
             ],
             [
              0.3333333333333333,
              "#9c179e"
             ],
             [
              0.4444444444444444,
              "#bd3786"
             ],
             [
              0.5555555555555556,
              "#d8576b"
             ],
             [
              0.6666666666666666,
              "#ed7953"
             ],
             [
              0.7777777777777778,
              "#fb9f3a"
             ],
             [
              0.8888888888888888,
              "#fdca26"
             ],
             [
              1,
              "#f0f921"
             ]
            ],
            "type": "histogram2d"
           }
          ],
          "histogram2dcontour": [
           {
            "colorbar": {
             "outlinewidth": 0,
             "ticks": ""
            },
            "colorscale": [
             [
              0,
              "#0d0887"
             ],
             [
              0.1111111111111111,
              "#46039f"
             ],
             [
              0.2222222222222222,
              "#7201a8"
             ],
             [
              0.3333333333333333,
              "#9c179e"
             ],
             [
              0.4444444444444444,
              "#bd3786"
             ],
             [
              0.5555555555555556,
              "#d8576b"
             ],
             [
              0.6666666666666666,
              "#ed7953"
             ],
             [
              0.7777777777777778,
              "#fb9f3a"
             ],
             [
              0.8888888888888888,
              "#fdca26"
             ],
             [
              1,
              "#f0f921"
             ]
            ],
            "type": "histogram2dcontour"
           }
          ],
          "mesh3d": [
           {
            "colorbar": {
             "outlinewidth": 0,
             "ticks": ""
            },
            "type": "mesh3d"
           }
          ],
          "parcoords": [
           {
            "line": {
             "colorbar": {
              "outlinewidth": 0,
              "ticks": ""
             }
            },
            "type": "parcoords"
           }
          ],
          "pie": [
           {
            "automargin": true,
            "type": "pie"
           }
          ],
          "scatter": [
           {
            "marker": {
             "colorbar": {
              "outlinewidth": 0,
              "ticks": ""
             }
            },
            "type": "scatter"
           }
          ],
          "scatter3d": [
           {
            "line": {
             "colorbar": {
              "outlinewidth": 0,
              "ticks": ""
             }
            },
            "marker": {
             "colorbar": {
              "outlinewidth": 0,
              "ticks": ""
             }
            },
            "type": "scatter3d"
           }
          ],
          "scattercarpet": [
           {
            "marker": {
             "colorbar": {
              "outlinewidth": 0,
              "ticks": ""
             }
            },
            "type": "scattercarpet"
           }
          ],
          "scattergeo": [
           {
            "marker": {
             "colorbar": {
              "outlinewidth": 0,
              "ticks": ""
             }
            },
            "type": "scattergeo"
           }
          ],
          "scattergl": [
           {
            "marker": {
             "colorbar": {
              "outlinewidth": 0,
              "ticks": ""
             }
            },
            "type": "scattergl"
           }
          ],
          "scattermapbox": [
           {
            "marker": {
             "colorbar": {
              "outlinewidth": 0,
              "ticks": ""
             }
            },
            "type": "scattermapbox"
           }
          ],
          "scatterpolar": [
           {
            "marker": {
             "colorbar": {
              "outlinewidth": 0,
              "ticks": ""
             }
            },
            "type": "scatterpolar"
           }
          ],
          "scatterpolargl": [
           {
            "marker": {
             "colorbar": {
              "outlinewidth": 0,
              "ticks": ""
             }
            },
            "type": "scatterpolargl"
           }
          ],
          "scatterternary": [
           {
            "marker": {
             "colorbar": {
              "outlinewidth": 0,
              "ticks": ""
             }
            },
            "type": "scatterternary"
           }
          ],
          "surface": [
           {
            "colorbar": {
             "outlinewidth": 0,
             "ticks": ""
            },
            "colorscale": [
             [
              0,
              "#0d0887"
             ],
             [
              0.1111111111111111,
              "#46039f"
             ],
             [
              0.2222222222222222,
              "#7201a8"
             ],
             [
              0.3333333333333333,
              "#9c179e"
             ],
             [
              0.4444444444444444,
              "#bd3786"
             ],
             [
              0.5555555555555556,
              "#d8576b"
             ],
             [
              0.6666666666666666,
              "#ed7953"
             ],
             [
              0.7777777777777778,
              "#fb9f3a"
             ],
             [
              0.8888888888888888,
              "#fdca26"
             ],
             [
              1,
              "#f0f921"
             ]
            ],
            "type": "surface"
           }
          ],
          "table": [
           {
            "cells": {
             "fill": {
              "color": "#EBF0F8"
             },
             "line": {
              "color": "white"
             }
            },
            "header": {
             "fill": {
              "color": "#C8D4E3"
             },
             "line": {
              "color": "white"
             }
            },
            "type": "table"
           }
          ]
         },
         "layout": {
          "annotationdefaults": {
           "arrowcolor": "#2a3f5f",
           "arrowhead": 0,
           "arrowwidth": 1
          },
          "autotypenumbers": "strict",
          "coloraxis": {
           "colorbar": {
            "outlinewidth": 0,
            "ticks": ""
           }
          },
          "colorscale": {
           "diverging": [
            [
             0,
             "#8e0152"
            ],
            [
             0.1,
             "#c51b7d"
            ],
            [
             0.2,
             "#de77ae"
            ],
            [
             0.3,
             "#f1b6da"
            ],
            [
             0.4,
             "#fde0ef"
            ],
            [
             0.5,
             "#f7f7f7"
            ],
            [
             0.6,
             "#e6f5d0"
            ],
            [
             0.7,
             "#b8e186"
            ],
            [
             0.8,
             "#7fbc41"
            ],
            [
             0.9,
             "#4d9221"
            ],
            [
             1,
             "#276419"
            ]
           ],
           "sequential": [
            [
             0,
             "#0d0887"
            ],
            [
             0.1111111111111111,
             "#46039f"
            ],
            [
             0.2222222222222222,
             "#7201a8"
            ],
            [
             0.3333333333333333,
             "#9c179e"
            ],
            [
             0.4444444444444444,
             "#bd3786"
            ],
            [
             0.5555555555555556,
             "#d8576b"
            ],
            [
             0.6666666666666666,
             "#ed7953"
            ],
            [
             0.7777777777777778,
             "#fb9f3a"
            ],
            [
             0.8888888888888888,
             "#fdca26"
            ],
            [
             1,
             "#f0f921"
            ]
           ],
           "sequentialminus": [
            [
             0,
             "#0d0887"
            ],
            [
             0.1111111111111111,
             "#46039f"
            ],
            [
             0.2222222222222222,
             "#7201a8"
            ],
            [
             0.3333333333333333,
             "#9c179e"
            ],
            [
             0.4444444444444444,
             "#bd3786"
            ],
            [
             0.5555555555555556,
             "#d8576b"
            ],
            [
             0.6666666666666666,
             "#ed7953"
            ],
            [
             0.7777777777777778,
             "#fb9f3a"
            ],
            [
             0.8888888888888888,
             "#fdca26"
            ],
            [
             1,
             "#f0f921"
            ]
           ]
          },
          "colorway": [
           "#636efa",
           "#EF553B",
           "#00cc96",
           "#ab63fa",
           "#FFA15A",
           "#19d3f3",
           "#FF6692",
           "#B6E880",
           "#FF97FF",
           "#FECB52"
          ],
          "font": {
           "color": "#2a3f5f"
          },
          "geo": {
           "bgcolor": "white",
           "lakecolor": "white",
           "landcolor": "#E5ECF6",
           "showlakes": true,
           "showland": true,
           "subunitcolor": "white"
          },
          "hoverlabel": {
           "align": "left"
          },
          "hovermode": "closest",
          "mapbox": {
           "style": "light"
          },
          "paper_bgcolor": "white",
          "plot_bgcolor": "#E5ECF6",
          "polar": {
           "angularaxis": {
            "gridcolor": "white",
            "linecolor": "white",
            "ticks": ""
           },
           "bgcolor": "#E5ECF6",
           "radialaxis": {
            "gridcolor": "white",
            "linecolor": "white",
            "ticks": ""
           }
          },
          "scene": {
           "xaxis": {
            "backgroundcolor": "#E5ECF6",
            "gridcolor": "white",
            "gridwidth": 2,
            "linecolor": "white",
            "showbackground": true,
            "ticks": "",
            "zerolinecolor": "white"
           },
           "yaxis": {
            "backgroundcolor": "#E5ECF6",
            "gridcolor": "white",
            "gridwidth": 2,
            "linecolor": "white",
            "showbackground": true,
            "ticks": "",
            "zerolinecolor": "white"
           },
           "zaxis": {
            "backgroundcolor": "#E5ECF6",
            "gridcolor": "white",
            "gridwidth": 2,
            "linecolor": "white",
            "showbackground": true,
            "ticks": "",
            "zerolinecolor": "white"
           }
          },
          "shapedefaults": {
           "line": {
            "color": "#2a3f5f"
           }
          },
          "ternary": {
           "aaxis": {
            "gridcolor": "white",
            "linecolor": "white",
            "ticks": ""
           },
           "baxis": {
            "gridcolor": "white",
            "linecolor": "white",
            "ticks": ""
           },
           "bgcolor": "#E5ECF6",
           "caxis": {
            "gridcolor": "white",
            "linecolor": "white",
            "ticks": ""
           }
          },
          "title": {
           "x": 0.05
          },
          "xaxis": {
           "automargin": true,
           "gridcolor": "white",
           "linecolor": "white",
           "ticks": "",
           "title": {
            "standoff": 15
           },
           "zerolinecolor": "white",
           "zerolinewidth": 2
          },
          "yaxis": {
           "automargin": true,
           "gridcolor": "white",
           "linecolor": "white",
           "ticks": "",
           "title": {
            "standoff": 15
           },
           "zerolinecolor": "white",
           "zerolinewidth": 2
          }
         }
        },
        "title": {
         "text": "Province/State Wise Active Cases reported in USA"
        },
        "xaxis": {
         "anchor": "y",
         "domain": [
          0,
          1
         ],
         "title": {
          "text": "Province_State"
         }
        },
        "yaxis": {
         "anchor": "x",
         "domain": [
          0,
          1
         ],
         "title": {
          "text": "Active"
         }
        }
       }
      },
      "text/html": [
       "<div>                            <div id=\"e3bb37e5-d55b-499f-b768-27b08a5cc8d7\" class=\"plotly-graph-div\" style=\"height:525px; width:100%;\"></div>            <script type=\"text/javascript\">                require([\"plotly\"], function(Plotly) {                    window.PLOTLYENV=window.PLOTLYENV || {};                                    if (document.getElementById(\"e3bb37e5-d55b-499f-b768-27b08a5cc8d7\")) {                    Plotly.newPlot(                        \"e3bb37e5-d55b-499f-b768-27b08a5cc8d7\",                        [{\"alignmentgroup\":\"True\",\"hovertemplate\":\"Province_State=%{x}<br>Active=%{y}<extra></extra>\",\"legendgroup\":\"\",\"marker\":{\"color\":\"#636efa\",\"pattern\":{\"shape\":\"\"}},\"name\":\"\",\"offsetgroup\":\"\",\"orientation\":\"v\",\"showlegend\":false,\"textposition\":\"auto\",\"x\":[\"Abruzzo\",\"Acre\",\"Adygea Republic\",\"Aguascalientes\",\"Aichi\",\"Akita\",\"Alabama\",\"Alagoas\",\"Alaska\",\"Alberta\",\"Altai Krai\",\"Altai Republic\",\"Amapa\",\"Amazonas\",\"Amur Oblast\",\"Ancash\",\"Andalusia\",\"Andaman and Nicobar Islands\",\"Andhra Pradesh\",\"Anguilla\",\"Anhui\",\"Antioquia\",\"Antofagasta\",\"Antwerp\",\"Aomori\",\"Apurimac\",\"Aragon\",\"Arauca\",\"Araucania\",\"Arequipa\",\"Arica y Parinacota\",\"Arizona\",\"Arkansas\",\"Arkhangelsk Oblast\",\"Aruba\",\"Arunachal Pradesh\",\"Assam\",\"Astrakhan Oblast\",\"Asturias\",\"Atacama\",\"Atlantico\",\"Australian Capital Territory\",\"Ayacucho\",\"Aysen\",\"Azad Jammu and Kashmir\",\"Baden-Wurttemberg\",\"Bahia\",\"Baja California\",\"Baja California Sur\",\"Baleares\",\"Balochistan\",\"Bashkortostan Republic\",\"Basilicata\",\"Bayern\",\"Beijing\",\"Belgorod Oblast\",\"Berlin\",\"Bermuda\",\"Bihar\",\"Biobio\",\"Blekinge\",\"Bolivar\",\"Bonaire, Sint Eustatius and Saba\",\"Boyaca\",\"Brandenburg\",\"Bremen\",\"British Columbia\",\"British Virgin Islands\",\"Brussels\",\"Bryansk Oblast\",\"Buryatia Republic\",\"C. Valenciana\",\"Cajamarca\",\"Calabria\",\"Caldas\",\"California\",\"Callao\",\"Campania\",\"Campeche\",\"Canarias\",\"Cantabria\",\"Capital District\",\"Caqueta\",\"Casanare\",\"Castilla - La Mancha\",\"Castilla y Leon\",\"Catalonia\",\"Cauca\",\"Cayman Islands\",\"Ceara\",\"Cesar\",\"Ceuta\",\"Chandigarh\",\"Channel Islands\",\"Chechen Republic\",\"Chelyabinsk Oblast\",\"Cherkasy Oblast\",\"Chernihiv Oblast\",\"Chernivtsi Oblast\",\"Chhattisgarh\",\"Chiapas\",\"Chiba\",\"Chihuahua\",\"Choco\",\"Chongqing\",\"Chukotka Autonomous Okrug\",\"Chuvashia Republic\",\"Ciudad de Mexico\",\"Coahuila\",\"Colima\",\"Colorado\",\"Connecticut\",\"Cook Islands\",\"Coquimbo\",\"Cordoba\",\"Crimea Republic*\",\"Cundinamarca\",\"Curacao\",\"Cusco\",\"Dadra and Nagar Haveli and Daman and Diu\",\"Dagestan Republic\",\"Dalarna\",\"Delaware\",\"Delhi\",\"Diamond Princess\",\"District of Columbia\",\"Distrito Federal\",\"Dnipropetrovsk Oblast\",\"Donetsk Oblast\",\"Drenthe\",\"Durango\",\"East Flanders\",\"Ehime\",\"Emilia-Romagna\",\"England\",\"Espirito Santo\",\"Extremadura\",\"Falkland Islands (Malvinas)\",\"Faroe Islands\",\"Flemish Brabant\",\"Flevoland\",\"Florida\",\"French Guiana\",\"French Polynesia\",\"Friesland\",\"Friuli Venezia Giulia\",\"Fujian\",\"Fukui\",\"Fukuoka\",\"Fukushima\",\"Galicia\",\"Gansu\",\"Gavleborg\",\"Gelderland\",\"Georgia\",\"Gibraltar\",\"Gifu\",\"Gilgit-Baltistan\",\"Goa\",\"Goias\",\"Gotland\",\"Grand Princess\",\"Greenland\",\"Groningen\",\"Guadeloupe\",\"Guainia\",\"Guam\",\"Guanajuato\",\"Guangdong\",\"Guangxi\",\"Guaviare\",\"Guernsey\",\"Guerrero\",\"Guizhou\",\"Gujarat\",\"Gunma\",\"Hainan\",\"Hainaut\",\"Halland\",\"Hamburg\",\"Haryana\",\"Hawaii\",\"Hebei\",\"Heilongjiang\",\"Henan\",\"Hessen\",\"Hidalgo\",\"Himachal Pradesh\",\"Hiroshima\",\"Hokkaido\",\"Hong Kong\",\"Huancavelica\",\"Huanuco\",\"Hubei\",\"Huila\",\"Hunan\",\"Hyogo\",\"Ibaraki\",\"Ica\",\"Idaho\",\"Illinois\",\"Indiana\",\"Ingushetia Republic\",\"Inner Mongolia\",\"Iowa\",\"Irkutsk Oblast\",\"Ishikawa\",\"Islamabad\",\"Isle of Man\",\"Ivano-Frankivsk Oblast\",\"Ivanovo Oblast\",\"Iwate\",\"Jalisco\",\"Jammu and Kashmir\",\"Jamtland Harjedalen\",\"Jersey\",\"Jewish Autonomous Okrug\",\"Jharkhand\",\"Jiangsu\",\"Jiangxi\",\"Jilin\",\"Johor\",\"Jonkoping\",\"Junin\",\"Kabardino-Balkarian Republic\",\"Kagawa\",\"Kagoshima\",\"Kaliningrad Oblast\",\"Kalmar\",\"Kalmykia Republic\",\"Kaluga Oblast\",\"Kamchatka Krai\",\"Kanagawa\",\"Kansas\",\"Karachay-Cherkess Republic\",\"Karelia Republic\",\"Karnataka\",\"Kedah\",\"Kelantan\",\"Kemerovo Oblast\",\"Kentucky\",\"Kerala\",\"Khabarovsk Krai\",\"Khakassia Republic\",\"Khanty-Mansi Autonomous Okrug\",\"Kharkiv Oblast\",\"Kherson Oblast\",\"Khmelnytskyi Oblast\",\"Khyber Pakhtunkhwa\",\"Kiev\",\"Kiev Oblast\",\"Kirov Oblast\",\"Kirovohrad Oblast\",\"Kochi\",\"Komi Republic\",\"Kostroma Oblast\",\"Krasnodar Krai\",\"Krasnoyarsk Krai\",\"Kronoberg\",\"Kumamoto\",\"Kurgan Oblast\",\"Kursk Oblast\",\"Kyoto\",\"La Guajira\",\"La Libertad\",\"La Rioja\",\"Ladakh\",\"Lakshadweep\",\"Lambayeque\",\"Lazio\",\"Leningrad Oblast\",\"Liaoning\",\"Liege\",\"Liguria\",\"Lima\",\"Limburg\",\"Lipetsk Oblast\",\"Lombardia\",\"Loreto\",\"Los Lagos\",\"Los Rios\",\"Louisiana\",\"Luhansk Oblast\",\"Luxembourg\",\"Lviv Oblast\",\"Macau\",\"Madhya Pradesh\",\"Madre de Dios\",\"Madrid\",\"Magadan Oblast\",\"Magallanes\",\"Magdalena\",\"Maharashtra\",\"Maine\",\"Manipur\",\"Manitoba\",\"Maranhao\",\"Marche\",\"Mari El Republic\",\"Martinique\",\"Maryland\",\"Massachusetts\",\"Mato Grosso\",\"Mato Grosso do Sul\",\"Maule\",\"Mayotte\",\"Mecklenburg-Vorpommern\",\"Meghalaya\",\"Melaka\",\"Melilla\",\"Meta\",\"Metropolitana\",\"Mexico\",\"Michigan\",\"Michoacan\",\"Mie\",\"Minas Gerais\",\"Minnesota\",\"Mississippi\",\"Missouri\",\"Miyagi\",\"Miyazaki\",\"Mizoram\",\"Molise\",\"Montana\",\"Montserrat\",\"Moquegua\",\"Mordovia Republic\",\"Morelos\",\"Moscow\",\"Moscow Oblast\",\"Murcia\",\"Murmansk Oblast\",\"Mykolaiv Oblast\",\"Nagaland\",\"Nagano\",\"Nagasaki\",\"Namur\",\"Nara\",\"Narino\",\"Navarra\",\"Nayarit\",\"Nebraska\",\"Negeri Sembilan\",\"Nenets Autonomous Okrug\",\"Nevada\",\"New Brunswick\",\"New Caledonia\",\"New Hampshire\",\"New Jersey\",\"New Mexico\",\"New South Wales\",\"New York\",\"Newfoundland and Labrador\",\"Niedersachsen\",\"Niigata\",\"Ningxia\",\"Niue\",\"Nizhny Novgorod Oblast\",\"Noord-Brabant\",\"Noord-Holland\",\"Nordrhein-Westfalen\",\"Norrbotten\",\"Norte de Santander\",\"North Carolina\",\"North Dakota\",\"North Ossetia - Alania Republic\",\"Northern Ireland\",\"Northern Mariana Islands\",\"Northern Territory\",\"Northwest Territories\",\"Nova Scotia\",\"Novgorod Oblast\",\"Novosibirsk Oblast\",\"Nuble\",\"Nuevo Leon\",\"Nunavut\",\"OHiggins\",\"Oaxaca\",\"Odessa Oblast\",\"Odisha\",\"Ohio\",\"Oita\",\"Okayama\",\"Okinawa\",\"Oklahoma\",\"Omsk Oblast\",\"Ontario\",\"Orebro\",\"Oregon\",\"Orel Oblast\",\"Orenburg Oblast\",\"Osaka\",\"Ostergotland\",\"Overijssel\",\"P.A. Bolzano\",\"P.A. Trento\",\"Pahang\",\"Pais Vasco\",\"Para\",\"Paraiba\",\"Parana\",\"Pasco\",\"Pennsylvania\",\"Penza Oblast\",\"Perak\",\"Perlis\",\"Perm Krai\",\"Pernambuco\",\"Piaui\",\"Piemonte\",\"Pitcairn Islands\",\"Piura\",\"Poltava Oblast\",\"Port Quarantine\",\"Primorsky Krai\",\"Prince Edward Island\",\"Pskov Oblast\",\"Puducherry\",\"Puebla\",\"Puerto Rico\",\"Puglia\",\"Pulau Pinang\",\"Punjab\",\"Puno\",\"Putumayo\",\"Qinghai\",\"Quebec\",\"Queensland\",\"Queretaro\",\"Quindio\",\"Quintana Roo\",\"Rajasthan\",\"Recovered\",\"Repatriated Travellers\",\"Reunion\",\"Rheinland-Pfalz\",\"Rhode Island\",\"Rio Grande do Norte\",\"Rio Grande do Sul\",\"Rio de Janeiro\",\"Risaralda\",\"Rivne Oblast\",\"Rondonia\",\"Roraima\",\"Rostov Oblast\",\"Ryazan Oblast\",\"Saarland\",\"Sabah\",\"Sachsen\",\"Sachsen-Anhalt\",\"Saga\",\"Saint Barthelemy\",\"Saint Helena, Ascension and Tristan da Cunha\",\"Saint Petersburg\",\"Saint Pierre and Miquelon\",\"Saitama\",\"Sakha (Yakutiya) Republic\",\"Sakhalin Oblast\",\"Samara Oblast\",\"San Andres y Providencia\",\"San Luis Potosi\",\"San Martin\",\"Santa Catarina\",\"Santander\",\"Sao Paulo\",\"Saratov Oblast\",\"Sarawak\",\"Sardegna\",\"Saskatchewan\",\"Schleswig-Holstein\",\"Scotland\",\"Selangor\",\"Sergipe\",\"Sevastopol*\",\"Shaanxi\",\"Shandong\",\"Shanghai\",\"Shanxi\",\"Shiga\",\"Shimane\",\"Shizuoka\",\"Sichuan\",\"Sicilia\",\"Sikkim\",\"Sinaloa\",\"Sindh\",\"Sint Maarten\",\"Skane\",\"Smolensk Oblast\",\"Sonora\",\"Sormland\",\"South Australia\",\"South Carolina\",\"South Dakota\",\"St Martin\",\"Stavropol Krai\",\"Stockholm\",\"Sucre\",\"Sumy Oblast\",\"Sverdlovsk Oblast\",\"Tabasco\",\"Tacna\",\"Tamaulipas\",\"Tambov Oblast\",\"Tamil Nadu\",\"Tarapaca\",\"Tasmania\",\"Tatarstan Republic\",\"Telangana\",\"Tennessee\",\"Terengganu\",\"Ternopil Oblast\",\"Texas\",\"Thuringen\",\"Tianjin\",\"Tibet\",\"Tlaxcala\",\"Tocantins\",\"Tochigi\",\"Tokushima\",\"Tokyo\",\"Tolima\",\"Tomsk Oblast\",\"Toscana\",\"Tottori\",\"Toyama\",\"Tripura\",\"Tula Oblast\",\"Tumbes\",\"Turks and Caicos Islands\",\"Tver Oblast\",\"Tyumen Oblast\",\"Tyva Republic\",\"Ucayali\",\"Udmurt Republic\",\"Ulyanovsk Oblast\",\"Umbria\",\"Unknown\",\"Uppsala\",\"Utah\",\"Utrecht\",\"Uttar Pradesh\",\"Uttarakhand\",\"Valle d'Aosta\",\"Valle del Cauca\",\"Valparaiso\",\"Varmland\",\"Vasterbotten\",\"Vasternorrland\",\"Vastmanland\",\"Vastra Gotaland\",\"Vaupes\",\"Veneto\",\"Veracruz\",\"Vermont\",\"Vichada\",\"Victoria\",\"Vinnytsia Oblast\",\"Virgin Islands\",\"Virginia\",\"Vladimir Oblast\",\"Volgograd Oblast\",\"Vologda Oblast\",\"Volyn Oblast\",\"Voronezh Oblast\",\"W.P. Kuala Lumpur\",\"W.P. Labuan\",\"W.P. Putrajaya\",\"Wakayama\",\"Wales\",\"Wallis and Futuna\",\"Walloon Brabant\",\"Washington\",\"West Bengal\",\"West Flanders\",\"West Virginia\",\"Western Australia\",\"Wisconsin\",\"Wyoming\",\"Xinjiang\",\"Yamagata\",\"Yamaguchi\",\"Yamalo-Nenets Autonomous Okrug\",\"Yamanashi\",\"Yaroslavl Oblast\",\"Yucatan\",\"Yukon\",\"Yunnan\",\"Zabaykalsky Krai\",\"Zacatecas\",\"Zakarpattia Oblast\",\"Zaporizhia Oblast\",\"Zeeland\",\"Zhejiang\",\"Zhytomyr Oblast\",\"Zuid-Holland\"],\"xaxis\":\"x\",\"y\":[5559.0,7157.0,331.0,24084.0,6337.0,58.0,0.0,6277.0,0.0,8073.0,2790.0,156.0,23197.0,71351.0,297.0,63134.0,561329.0,187.0,165795.0,0.0,2.0,22427.0,1223.0,137602.0,298.0,21539.0,116629.0,373.0,2470.0,75716.0,666.0,0.0,0.0,1678.0,61.0,3783.0,53795.0,778.0,49185.0,894.0,4769.0,0.0,26893.0,477.0,1186.0,15698.0,23288.0,40863.0,30643.0,57992.0,1118.0,1531.0,3800.0,15015.0,4.0,1820.0,2832.0,31.0,18378.0,3842.0,12391.0,2070.0,16.0,2698.0,2374.0,651.0,3529.0,38.0,130186.0,517.0,549.0,377001.0,54458.0,9999.0,2602.0,0.0,85550.0,67354.0,8959.0,53920.0,27327.0,66292.0,303.0,898.0,180043.0,215002.0,570274.0,966.0,15.0,229956.0,1370.0,5552.0,2134.0,23.0,130.0,2703.0,5441.0,1996.0,1234.0,39261.0,9853.0,1125.0,48593.0,529.0,6.0,28.0,796.0,624913.0,62552.0,10712.0,0.0,0.0,1.0,1499.0,2023.0,1587.0,6493.0,29.0,57990.0,339.0,931.0,26144.0,0.0,12100.0,0.0,0.0,9085.0,8328.0,4018.0,33167.0,31746.0,121794.0,92.0,15762.0,3800904.0,18745.0,71240.0,0.0,48.0,80738.0,36084.0,0.0,13652.0,11.0,42536.0,4916.0,32.0,39.0,4513.0,288.0,115016.0,0.0,34956.0,182106.0,0.0,7.0,634.0,113.0,14010.0,13226.0,3888.0,0.0,7.0,38265.0,14369.0,68.0,0.0,121069.0,64.0,5.0,155.0,0.0,36674.0,0.0,35403.0,438.0,1.0,156684.0,39890.0,2346.0,21087.0,0.0,0.0,2.0,3.0,10438.0,32748.0,14940.0,2249.0,8289.0,55.0,13497.0,29636.0,2.0,1225.0,8.0,2421.0,518.0,44637.0,0.0,0.0,0.0,243.0,3.0,0.0,541.0,485.0,5471.0,2.0,1455.0,836.0,149.0,74700.0,37677.0,12187.0,0.0,35.0,9906.0,10.0,0.0,0.0,6457.0,41899.0,65699.0,233.0,146.0,332.0,604.0,23514.0,267.0,1214.0,395.0,2357.0,0.0,221.0,1192.0,342031.0,3946.0,6592.0,597.0,0.0,224120.0,1638.0,504.0,499.0,9370.0,2556.0,3070.0,5345.0,35253.0,3521.0,2054.0,2271.0,231.0,434.0,2248.0,1971.0,2090.0,21328.0,723.0,688.0,777.0,1034.0,504.0,67779.0,26871.0,1555.0,2006.0,47380.0,19815.0,1408.0,9.0,128246.0,1176.0,794280.0,171323.0,2162.0,32063.0,35986.0,2304.0,1498.0,0.0,1420.0,30878.0,3205.0,2.0,27256.0,12871.0,658595.0,96.0,379.0,1567.0,274601.0,0.0,8482.0,4569.0,28192.0,3936.0,147.0,11786.0,0.0,0.0,16653.0,24087.0,3250.0,17041.0,821.0,7496.0,2829.0,8876.0,883.0,20108.0,215255.0,0.0,42532.0,243.0,93200.0,0.0,0.0,0.0,250.0,196.0,3034.0,138.0,0.0,0.0,23236.0,2042.0,30209.0,96708.0,42589.0,109146.0,1902.0,1645.0,5049.0,256.0,168.0,58587.0,233.0,2559.0,57156.0,10342.0,0.0,4547.0,15.0,0.0,144.0,70.0,0.0,0.0,0.0,5533.0,0.0,108.0,5048.0,343.0,1.0,0.0,1812.0,263988.0,270102.0,26116.0,24292.0,1573.0,0.0,0.0,390.0,120485.0,0.0,3.0,2.0,505.0,627.0,2211.0,1058.0,114721.0,10.0,2239.0,43476.0,7938.0,83438.0,0.0,377.0,1194.0,2718.0,0.0,895.0,12349.0,31266.0,0.0,1108.0,2676.0,10384.0,40989.0,106596.0,686.0,480.0,2783.0,177223.0,20120.0,98767.0,312499.0,13176.0,0.0,1905.0,2419.0,78.0,3352.0,70633.0,1034.0,5379.0,0.0,66493.0,1756.0,84.0,2092.0,13.0,4756.0,12167.0,73299.0,0.0,25683.0,3323.0,59462.0,28912.0,352.0,0.0,4695.0,20.0,64771.0,679.0,24215.0,49224.0,0.0,0.0,1916.0,3771.0,0.0,110987.0,19238.0,18112.0,1379.0,2147.0,7863.0,5600.0,5499.0,944.0,905.0,2103.0,10290.0,3126.0,160.0,560.0,0.0,20092.0,0.0,1878.0,3655.0,388.0,1001.0,202.0,58903.0,41106.0,29797.0,6202.0,243181.0,2172.0,6064.0,12784.0,1430.0,1324.0,227753.0,25885.0,22303.0,546.0,21.0,3.0,66.0,5.0,482.0,95.0,762.0,30.0,9883.0,3961.0,33022.0,25601.0,71.0,151932.0,771.0,68593.0,24936.0,3.0,0.0,0.0,595.0,1438.0,246965.0,1637.0,2103.0,2691.0,64237.0,23454.0,54602.0,1451.0,305546.0,574.0,0.0,2512.0,35042.0,0.0,2247.0,2546.0,0.0,3079.0,9.0,0.0,17470.0,15613.0,379.0,60.0,5807.0,1289.0,628.0,8387.0,42.0,299.0,6557.0,463.0,15069.0,17.0,1728.0,978.0,63.0,28235.0,2188.0,1185.0,1558.0,11478.0,39253.0,0.0,124477.0,41214.0,30357.0,228.0,6861.0,3339.0,18244.0,22728.0,25950.0,26775.0,184495.0,29.0,8710.0,51660.0,0.0,18.0,53.0,2719.0,0.0,0.0,1136.0,1456.0,2026.0,2892.0,1637.0,7494.0,999.0,252.0,158.0,207133.0,9.0,40688.0,0.0,94898.0,95848.0,0.0,2.0,0.0,0.0,0.0,185.0,458.0,799.0,134.0,1342.0,35917.0,0.0,16.0,825.0,27970.0,1127.0,4946.0,28963.0,39.0,1895.0,388008.0],\"yaxis\":\"y\",\"type\":\"bar\"}],                        {\"template\":{\"data\":{\"bar\":[{\"error_x\":{\"color\":\"#2a3f5f\"},\"error_y\":{\"color\":\"#2a3f5f\"},\"marker\":{\"line\":{\"color\":\"#E5ECF6\",\"width\":0.5},\"pattern\":{\"fillmode\":\"overlay\",\"size\":10,\"solidity\":0.2}},\"type\":\"bar\"}],\"barpolar\":[{\"marker\":{\"line\":{\"color\":\"#E5ECF6\",\"width\":0.5},\"pattern\":{\"fillmode\":\"overlay\",\"size\":10,\"solidity\":0.2}},\"type\":\"barpolar\"}],\"carpet\":[{\"aaxis\":{\"endlinecolor\":\"#2a3f5f\",\"gridcolor\":\"white\",\"linecolor\":\"white\",\"minorgridcolor\":\"white\",\"startlinecolor\":\"#2a3f5f\"},\"baxis\":{\"endlinecolor\":\"#2a3f5f\",\"gridcolor\":\"white\",\"linecolor\":\"white\",\"minorgridcolor\":\"white\",\"startlinecolor\":\"#2a3f5f\"},\"type\":\"carpet\"}],\"choropleth\":[{\"colorbar\":{\"outlinewidth\":0,\"ticks\":\"\"},\"type\":\"choropleth\"}],\"contour\":[{\"colorbar\":{\"outlinewidth\":0,\"ticks\":\"\"},\"colorscale\":[[0.0,\"#0d0887\"],[0.1111111111111111,\"#46039f\"],[0.2222222222222222,\"#7201a8\"],[0.3333333333333333,\"#9c179e\"],[0.4444444444444444,\"#bd3786\"],[0.5555555555555556,\"#d8576b\"],[0.6666666666666666,\"#ed7953\"],[0.7777777777777778,\"#fb9f3a\"],[0.8888888888888888,\"#fdca26\"],[1.0,\"#f0f921\"]],\"type\":\"contour\"}],\"contourcarpet\":[{\"colorbar\":{\"outlinewidth\":0,\"ticks\":\"\"},\"type\":\"contourcarpet\"}],\"heatmap\":[{\"colorbar\":{\"outlinewidth\":0,\"ticks\":\"\"},\"colorscale\":[[0.0,\"#0d0887\"],[0.1111111111111111,\"#46039f\"],[0.2222222222222222,\"#7201a8\"],[0.3333333333333333,\"#9c179e\"],[0.4444444444444444,\"#bd3786\"],[0.5555555555555556,\"#d8576b\"],[0.6666666666666666,\"#ed7953\"],[0.7777777777777778,\"#fb9f3a\"],[0.8888888888888888,\"#fdca26\"],[1.0,\"#f0f921\"]],\"type\":\"heatmap\"}],\"heatmapgl\":[{\"colorbar\":{\"outlinewidth\":0,\"ticks\":\"\"},\"colorscale\":[[0.0,\"#0d0887\"],[0.1111111111111111,\"#46039f\"],[0.2222222222222222,\"#7201a8\"],[0.3333333333333333,\"#9c179e\"],[0.4444444444444444,\"#bd3786\"],[0.5555555555555556,\"#d8576b\"],[0.6666666666666666,\"#ed7953\"],[0.7777777777777778,\"#fb9f3a\"],[0.8888888888888888,\"#fdca26\"],[1.0,\"#f0f921\"]],\"type\":\"heatmapgl\"}],\"histogram\":[{\"marker\":{\"pattern\":{\"fillmode\":\"overlay\",\"size\":10,\"solidity\":0.2}},\"type\":\"histogram\"}],\"histogram2d\":[{\"colorbar\":{\"outlinewidth\":0,\"ticks\":\"\"},\"colorscale\":[[0.0,\"#0d0887\"],[0.1111111111111111,\"#46039f\"],[0.2222222222222222,\"#7201a8\"],[0.3333333333333333,\"#9c179e\"],[0.4444444444444444,\"#bd3786\"],[0.5555555555555556,\"#d8576b\"],[0.6666666666666666,\"#ed7953\"],[0.7777777777777778,\"#fb9f3a\"],[0.8888888888888888,\"#fdca26\"],[1.0,\"#f0f921\"]],\"type\":\"histogram2d\"}],\"histogram2dcontour\":[{\"colorbar\":{\"outlinewidth\":0,\"ticks\":\"\"},\"colorscale\":[[0.0,\"#0d0887\"],[0.1111111111111111,\"#46039f\"],[0.2222222222222222,\"#7201a8\"],[0.3333333333333333,\"#9c179e\"],[0.4444444444444444,\"#bd3786\"],[0.5555555555555556,\"#d8576b\"],[0.6666666666666666,\"#ed7953\"],[0.7777777777777778,\"#fb9f3a\"],[0.8888888888888888,\"#fdca26\"],[1.0,\"#f0f921\"]],\"type\":\"histogram2dcontour\"}],\"mesh3d\":[{\"colorbar\":{\"outlinewidth\":0,\"ticks\":\"\"},\"type\":\"mesh3d\"}],\"parcoords\":[{\"line\":{\"colorbar\":{\"outlinewidth\":0,\"ticks\":\"\"}},\"type\":\"parcoords\"}],\"pie\":[{\"automargin\":true,\"type\":\"pie\"}],\"scatter\":[{\"marker\":{\"colorbar\":{\"outlinewidth\":0,\"ticks\":\"\"}},\"type\":\"scatter\"}],\"scatter3d\":[{\"line\":{\"colorbar\":{\"outlinewidth\":0,\"ticks\":\"\"}},\"marker\":{\"colorbar\":{\"outlinewidth\":0,\"ticks\":\"\"}},\"type\":\"scatter3d\"}],\"scattercarpet\":[{\"marker\":{\"colorbar\":{\"outlinewidth\":0,\"ticks\":\"\"}},\"type\":\"scattercarpet\"}],\"scattergeo\":[{\"marker\":{\"colorbar\":{\"outlinewidth\":0,\"ticks\":\"\"}},\"type\":\"scattergeo\"}],\"scattergl\":[{\"marker\":{\"colorbar\":{\"outlinewidth\":0,\"ticks\":\"\"}},\"type\":\"scattergl\"}],\"scattermapbox\":[{\"marker\":{\"colorbar\":{\"outlinewidth\":0,\"ticks\":\"\"}},\"type\":\"scattermapbox\"}],\"scatterpolar\":[{\"marker\":{\"colorbar\":{\"outlinewidth\":0,\"ticks\":\"\"}},\"type\":\"scatterpolar\"}],\"scatterpolargl\":[{\"marker\":{\"colorbar\":{\"outlinewidth\":0,\"ticks\":\"\"}},\"type\":\"scatterpolargl\"}],\"scatterternary\":[{\"marker\":{\"colorbar\":{\"outlinewidth\":0,\"ticks\":\"\"}},\"type\":\"scatterternary\"}],\"surface\":[{\"colorbar\":{\"outlinewidth\":0,\"ticks\":\"\"},\"colorscale\":[[0.0,\"#0d0887\"],[0.1111111111111111,\"#46039f\"],[0.2222222222222222,\"#7201a8\"],[0.3333333333333333,\"#9c179e\"],[0.4444444444444444,\"#bd3786\"],[0.5555555555555556,\"#d8576b\"],[0.6666666666666666,\"#ed7953\"],[0.7777777777777778,\"#fb9f3a\"],[0.8888888888888888,\"#fdca26\"],[1.0,\"#f0f921\"]],\"type\":\"surface\"}],\"table\":[{\"cells\":{\"fill\":{\"color\":\"#EBF0F8\"},\"line\":{\"color\":\"white\"}},\"header\":{\"fill\":{\"color\":\"#C8D4E3\"},\"line\":{\"color\":\"white\"}},\"type\":\"table\"}]},\"layout\":{\"annotationdefaults\":{\"arrowcolor\":\"#2a3f5f\",\"arrowhead\":0,\"arrowwidth\":1},\"autotypenumbers\":\"strict\",\"coloraxis\":{\"colorbar\":{\"outlinewidth\":0,\"ticks\":\"\"}},\"colorscale\":{\"diverging\":[[0,\"#8e0152\"],[0.1,\"#c51b7d\"],[0.2,\"#de77ae\"],[0.3,\"#f1b6da\"],[0.4,\"#fde0ef\"],[0.5,\"#f7f7f7\"],[0.6,\"#e6f5d0\"],[0.7,\"#b8e186\"],[0.8,\"#7fbc41\"],[0.9,\"#4d9221\"],[1,\"#276419\"]],\"sequential\":[[0.0,\"#0d0887\"],[0.1111111111111111,\"#46039f\"],[0.2222222222222222,\"#7201a8\"],[0.3333333333333333,\"#9c179e\"],[0.4444444444444444,\"#bd3786\"],[0.5555555555555556,\"#d8576b\"],[0.6666666666666666,\"#ed7953\"],[0.7777777777777778,\"#fb9f3a\"],[0.8888888888888888,\"#fdca26\"],[1.0,\"#f0f921\"]],\"sequentialminus\":[[0.0,\"#0d0887\"],[0.1111111111111111,\"#46039f\"],[0.2222222222222222,\"#7201a8\"],[0.3333333333333333,\"#9c179e\"],[0.4444444444444444,\"#bd3786\"],[0.5555555555555556,\"#d8576b\"],[0.6666666666666666,\"#ed7953\"],[0.7777777777777778,\"#fb9f3a\"],[0.8888888888888888,\"#fdca26\"],[1.0,\"#f0f921\"]]},\"colorway\":[\"#636efa\",\"#EF553B\",\"#00cc96\",\"#ab63fa\",\"#FFA15A\",\"#19d3f3\",\"#FF6692\",\"#B6E880\",\"#FF97FF\",\"#FECB52\"],\"font\":{\"color\":\"#2a3f5f\"},\"geo\":{\"bgcolor\":\"white\",\"lakecolor\":\"white\",\"landcolor\":\"#E5ECF6\",\"showlakes\":true,\"showland\":true,\"subunitcolor\":\"white\"},\"hoverlabel\":{\"align\":\"left\"},\"hovermode\":\"closest\",\"mapbox\":{\"style\":\"light\"},\"paper_bgcolor\":\"white\",\"plot_bgcolor\":\"#E5ECF6\",\"polar\":{\"angularaxis\":{\"gridcolor\":\"white\",\"linecolor\":\"white\",\"ticks\":\"\"},\"bgcolor\":\"#E5ECF6\",\"radialaxis\":{\"gridcolor\":\"white\",\"linecolor\":\"white\",\"ticks\":\"\"}},\"scene\":{\"xaxis\":{\"backgroundcolor\":\"#E5ECF6\",\"gridcolor\":\"white\",\"gridwidth\":2,\"linecolor\":\"white\",\"showbackground\":true,\"ticks\":\"\",\"zerolinecolor\":\"white\"},\"yaxis\":{\"backgroundcolor\":\"#E5ECF6\",\"gridcolor\":\"white\",\"gridwidth\":2,\"linecolor\":\"white\",\"showbackground\":true,\"ticks\":\"\",\"zerolinecolor\":\"white\"},\"zaxis\":{\"backgroundcolor\":\"#E5ECF6\",\"gridcolor\":\"white\",\"gridwidth\":2,\"linecolor\":\"white\",\"showbackground\":true,\"ticks\":\"\",\"zerolinecolor\":\"white\"}},\"shapedefaults\":{\"line\":{\"color\":\"#2a3f5f\"}},\"ternary\":{\"aaxis\":{\"gridcolor\":\"white\",\"linecolor\":\"white\",\"ticks\":\"\"},\"baxis\":{\"gridcolor\":\"white\",\"linecolor\":\"white\",\"ticks\":\"\"},\"bgcolor\":\"#E5ECF6\",\"caxis\":{\"gridcolor\":\"white\",\"linecolor\":\"white\",\"ticks\":\"\"}},\"title\":{\"x\":0.05},\"xaxis\":{\"automargin\":true,\"gridcolor\":\"white\",\"linecolor\":\"white\",\"ticks\":\"\",\"title\":{\"standoff\":15},\"zerolinecolor\":\"white\",\"zerolinewidth\":2},\"yaxis\":{\"automargin\":true,\"gridcolor\":\"white\",\"linecolor\":\"white\",\"ticks\":\"\",\"title\":{\"standoff\":15},\"zerolinecolor\":\"white\",\"zerolinewidth\":2}}},\"xaxis\":{\"anchor\":\"y\",\"domain\":[0.0,1.0],\"title\":{\"text\":\"Province_State\"}},\"yaxis\":{\"anchor\":\"x\",\"domain\":[0.0,1.0],\"title\":{\"text\":\"Active\"}},\"legend\":{\"tracegroupgap\":0},\"title\":{\"text\":\"Province/State Wise Active Cases reported in USA\"},\"barmode\":\"relative\"},                        {\"responsive\": true}                    ).then(function(){\n",
       "                            \n",
       "var gd = document.getElementById('e3bb37e5-d55b-499f-b768-27b08a5cc8d7');\n",
       "var x = new MutationObserver(function (mutations, observer) {{\n",
       "        var display = window.getComputedStyle(gd).display;\n",
       "        if (!display || display === 'none') {{\n",
       "            console.log([gd, 'removed!']);\n",
       "            Plotly.purge(gd);\n",
       "            observer.disconnect();\n",
       "        }}\n",
       "}});\n",
       "\n",
       "// Listen for the removal of the full notebook cells\n",
       "var notebookContainer = gd.closest('#notebook-container');\n",
       "if (notebookContainer) {{\n",
       "    x.observe(notebookContainer, {childList: true});\n",
       "}}\n",
       "\n",
       "// Listen for the clearing of the current output cell\n",
       "var outputEl = gd.closest('.output');\n",
       "if (outputEl) {{\n",
       "    x.observe(outputEl, {childList: true});\n",
       "}}\n",
       "\n",
       "                        })                };                });            </script>        </div>"
      ]
     },
     "metadata": {},
     "output_type": "display_data"
    }
   ],
   "source": [
    "us_data=covid_data.groupby([\"Province_State\"],as_index=False)[['Province_State','Active']].sum()\n",
    "#provincewise\n",
    "fig=px.bar(us_data,x=\"Province_State\",y=\"Active\",title=\"Province/State Wise Active Cases reported in USA\")\n",
    "fig.show()"
   ]
  },
  {
   "cell_type": "markdown",
   "metadata": {},
   "source": [
    "### Question 8"
   ]
  },
  {
   "cell_type": "markdown",
   "metadata": {},
   "source": [
    "### Plot Province/State Wise Confirmed cases in USA"
   ]
  },
  {
   "cell_type": "code",
   "execution_count": 65,
   "metadata": {},
   "outputs": [
    {
     "data": {
      "application/vnd.plotly.v1+json": {
       "config": {
        "plotlyServerURL": "https://plot.ly"
       },
       "data": [
        {
         "alignmentgroup": "True",
         "hovertemplate": "Province_State=%{x}<br>Confirmed=%{text}<extra></extra>",
         "legendgroup": "",
         "marker": {
          "color": "#636efa",
          "pattern": {
           "shape": ""
          }
         },
         "name": "",
         "offsetgroup": "",
         "orientation": "v",
         "showlegend": false,
         "text": [
          3853036,
          2991010,
          2320818,
          2101875,
          1381665,
          1214836,
          1123604,
          1101934,
          1016135,
          1001154
         ],
         "textposition": "auto",
         "type": "bar",
         "x": [
          "California",
          "Texas",
          "Florida",
          "New York",
          "Illinois",
          "Pennsylvania",
          "Georgia",
          "Ohio",
          "New Jersey",
          "North Carolina"
         ],
         "xaxis": "x",
         "y": [
          3853036,
          2991010,
          2320818,
          2101875,
          1381665,
          1214836,
          1123604,
          1101934,
          1016135,
          1001154
         ],
         "yaxis": "y"
        }
       ],
       "layout": {
        "barmode": "relative",
        "legend": {
         "tracegroupgap": 0
        },
        "template": {
         "data": {
          "bar": [
           {
            "error_x": {
             "color": "#2a3f5f"
            },
            "error_y": {
             "color": "#2a3f5f"
            },
            "marker": {
             "line": {
              "color": "#E5ECF6",
              "width": 0.5
             },
             "pattern": {
              "fillmode": "overlay",
              "size": 10,
              "solidity": 0.2
             }
            },
            "type": "bar"
           }
          ],
          "barpolar": [
           {
            "marker": {
             "line": {
              "color": "#E5ECF6",
              "width": 0.5
             },
             "pattern": {
              "fillmode": "overlay",
              "size": 10,
              "solidity": 0.2
             }
            },
            "type": "barpolar"
           }
          ],
          "carpet": [
           {
            "aaxis": {
             "endlinecolor": "#2a3f5f",
             "gridcolor": "white",
             "linecolor": "white",
             "minorgridcolor": "white",
             "startlinecolor": "#2a3f5f"
            },
            "baxis": {
             "endlinecolor": "#2a3f5f",
             "gridcolor": "white",
             "linecolor": "white",
             "minorgridcolor": "white",
             "startlinecolor": "#2a3f5f"
            },
            "type": "carpet"
           }
          ],
          "choropleth": [
           {
            "colorbar": {
             "outlinewidth": 0,
             "ticks": ""
            },
            "type": "choropleth"
           }
          ],
          "contour": [
           {
            "colorbar": {
             "outlinewidth": 0,
             "ticks": ""
            },
            "colorscale": [
             [
              0,
              "#0d0887"
             ],
             [
              0.1111111111111111,
              "#46039f"
             ],
             [
              0.2222222222222222,
              "#7201a8"
             ],
             [
              0.3333333333333333,
              "#9c179e"
             ],
             [
              0.4444444444444444,
              "#bd3786"
             ],
             [
              0.5555555555555556,
              "#d8576b"
             ],
             [
              0.6666666666666666,
              "#ed7953"
             ],
             [
              0.7777777777777778,
              "#fb9f3a"
             ],
             [
              0.8888888888888888,
              "#fdca26"
             ],
             [
              1,
              "#f0f921"
             ]
            ],
            "type": "contour"
           }
          ],
          "contourcarpet": [
           {
            "colorbar": {
             "outlinewidth": 0,
             "ticks": ""
            },
            "type": "contourcarpet"
           }
          ],
          "heatmap": [
           {
            "colorbar": {
             "outlinewidth": 0,
             "ticks": ""
            },
            "colorscale": [
             [
              0,
              "#0d0887"
             ],
             [
              0.1111111111111111,
              "#46039f"
             ],
             [
              0.2222222222222222,
              "#7201a8"
             ],
             [
              0.3333333333333333,
              "#9c179e"
             ],
             [
              0.4444444444444444,
              "#bd3786"
             ],
             [
              0.5555555555555556,
              "#d8576b"
             ],
             [
              0.6666666666666666,
              "#ed7953"
             ],
             [
              0.7777777777777778,
              "#fb9f3a"
             ],
             [
              0.8888888888888888,
              "#fdca26"
             ],
             [
              1,
              "#f0f921"
             ]
            ],
            "type": "heatmap"
           }
          ],
          "heatmapgl": [
           {
            "colorbar": {
             "outlinewidth": 0,
             "ticks": ""
            },
            "colorscale": [
             [
              0,
              "#0d0887"
             ],
             [
              0.1111111111111111,
              "#46039f"
             ],
             [
              0.2222222222222222,
              "#7201a8"
             ],
             [
              0.3333333333333333,
              "#9c179e"
             ],
             [
              0.4444444444444444,
              "#bd3786"
             ],
             [
              0.5555555555555556,
              "#d8576b"
             ],
             [
              0.6666666666666666,
              "#ed7953"
             ],
             [
              0.7777777777777778,
              "#fb9f3a"
             ],
             [
              0.8888888888888888,
              "#fdca26"
             ],
             [
              1,
              "#f0f921"
             ]
            ],
            "type": "heatmapgl"
           }
          ],
          "histogram": [
           {
            "marker": {
             "pattern": {
              "fillmode": "overlay",
              "size": 10,
              "solidity": 0.2
             }
            },
            "type": "histogram"
           }
          ],
          "histogram2d": [
           {
            "colorbar": {
             "outlinewidth": 0,
             "ticks": ""
            },
            "colorscale": [
             [
              0,
              "#0d0887"
             ],
             [
              0.1111111111111111,
              "#46039f"
             ],
             [
              0.2222222222222222,
              "#7201a8"
             ],
             [
              0.3333333333333333,
              "#9c179e"
             ],
             [
              0.4444444444444444,
              "#bd3786"
             ],
             [
              0.5555555555555556,
              "#d8576b"
             ],
             [
              0.6666666666666666,
              "#ed7953"
             ],
             [
              0.7777777777777778,
              "#fb9f3a"
             ],
             [
              0.8888888888888888,
              "#fdca26"
             ],
             [
              1,
              "#f0f921"
             ]
            ],
            "type": "histogram2d"
           }
          ],
          "histogram2dcontour": [
           {
            "colorbar": {
             "outlinewidth": 0,
             "ticks": ""
            },
            "colorscale": [
             [
              0,
              "#0d0887"
             ],
             [
              0.1111111111111111,
              "#46039f"
             ],
             [
              0.2222222222222222,
              "#7201a8"
             ],
             [
              0.3333333333333333,
              "#9c179e"
             ],
             [
              0.4444444444444444,
              "#bd3786"
             ],
             [
              0.5555555555555556,
              "#d8576b"
             ],
             [
              0.6666666666666666,
              "#ed7953"
             ],
             [
              0.7777777777777778,
              "#fb9f3a"
             ],
             [
              0.8888888888888888,
              "#fdca26"
             ],
             [
              1,
              "#f0f921"
             ]
            ],
            "type": "histogram2dcontour"
           }
          ],
          "mesh3d": [
           {
            "colorbar": {
             "outlinewidth": 0,
             "ticks": ""
            },
            "type": "mesh3d"
           }
          ],
          "parcoords": [
           {
            "line": {
             "colorbar": {
              "outlinewidth": 0,
              "ticks": ""
             }
            },
            "type": "parcoords"
           }
          ],
          "pie": [
           {
            "automargin": true,
            "type": "pie"
           }
          ],
          "scatter": [
           {
            "marker": {
             "colorbar": {
              "outlinewidth": 0,
              "ticks": ""
             }
            },
            "type": "scatter"
           }
          ],
          "scatter3d": [
           {
            "line": {
             "colorbar": {
              "outlinewidth": 0,
              "ticks": ""
             }
            },
            "marker": {
             "colorbar": {
              "outlinewidth": 0,
              "ticks": ""
             }
            },
            "type": "scatter3d"
           }
          ],
          "scattercarpet": [
           {
            "marker": {
             "colorbar": {
              "outlinewidth": 0,
              "ticks": ""
             }
            },
            "type": "scattercarpet"
           }
          ],
          "scattergeo": [
           {
            "marker": {
             "colorbar": {
              "outlinewidth": 0,
              "ticks": ""
             }
            },
            "type": "scattergeo"
           }
          ],
          "scattergl": [
           {
            "marker": {
             "colorbar": {
              "outlinewidth": 0,
              "ticks": ""
             }
            },
            "type": "scattergl"
           }
          ],
          "scattermapbox": [
           {
            "marker": {
             "colorbar": {
              "outlinewidth": 0,
              "ticks": ""
             }
            },
            "type": "scattermapbox"
           }
          ],
          "scatterpolar": [
           {
            "marker": {
             "colorbar": {
              "outlinewidth": 0,
              "ticks": ""
             }
            },
            "type": "scatterpolar"
           }
          ],
          "scatterpolargl": [
           {
            "marker": {
             "colorbar": {
              "outlinewidth": 0,
              "ticks": ""
             }
            },
            "type": "scatterpolargl"
           }
          ],
          "scatterternary": [
           {
            "marker": {
             "colorbar": {
              "outlinewidth": 0,
              "ticks": ""
             }
            },
            "type": "scatterternary"
           }
          ],
          "surface": [
           {
            "colorbar": {
             "outlinewidth": 0,
             "ticks": ""
            },
            "colorscale": [
             [
              0,
              "#0d0887"
             ],
             [
              0.1111111111111111,
              "#46039f"
             ],
             [
              0.2222222222222222,
              "#7201a8"
             ],
             [
              0.3333333333333333,
              "#9c179e"
             ],
             [
              0.4444444444444444,
              "#bd3786"
             ],
             [
              0.5555555555555556,
              "#d8576b"
             ],
             [
              0.6666666666666666,
              "#ed7953"
             ],
             [
              0.7777777777777778,
              "#fb9f3a"
             ],
             [
              0.8888888888888888,
              "#fdca26"
             ],
             [
              1,
              "#f0f921"
             ]
            ],
            "type": "surface"
           }
          ],
          "table": [
           {
            "cells": {
             "fill": {
              "color": "#EBF0F8"
             },
             "line": {
              "color": "white"
             }
            },
            "header": {
             "fill": {
              "color": "#C8D4E3"
             },
             "line": {
              "color": "white"
             }
            },
            "type": "table"
           }
          ]
         },
         "layout": {
          "annotationdefaults": {
           "arrowcolor": "#2a3f5f",
           "arrowhead": 0,
           "arrowwidth": 1
          },
          "autotypenumbers": "strict",
          "coloraxis": {
           "colorbar": {
            "outlinewidth": 0,
            "ticks": ""
           }
          },
          "colorscale": {
           "diverging": [
            [
             0,
             "#8e0152"
            ],
            [
             0.1,
             "#c51b7d"
            ],
            [
             0.2,
             "#de77ae"
            ],
            [
             0.3,
             "#f1b6da"
            ],
            [
             0.4,
             "#fde0ef"
            ],
            [
             0.5,
             "#f7f7f7"
            ],
            [
             0.6,
             "#e6f5d0"
            ],
            [
             0.7,
             "#b8e186"
            ],
            [
             0.8,
             "#7fbc41"
            ],
            [
             0.9,
             "#4d9221"
            ],
            [
             1,
             "#276419"
            ]
           ],
           "sequential": [
            [
             0,
             "#0d0887"
            ],
            [
             0.1111111111111111,
             "#46039f"
            ],
            [
             0.2222222222222222,
             "#7201a8"
            ],
            [
             0.3333333333333333,
             "#9c179e"
            ],
            [
             0.4444444444444444,
             "#bd3786"
            ],
            [
             0.5555555555555556,
             "#d8576b"
            ],
            [
             0.6666666666666666,
             "#ed7953"
            ],
            [
             0.7777777777777778,
             "#fb9f3a"
            ],
            [
             0.8888888888888888,
             "#fdca26"
            ],
            [
             1,
             "#f0f921"
            ]
           ],
           "sequentialminus": [
            [
             0,
             "#0d0887"
            ],
            [
             0.1111111111111111,
             "#46039f"
            ],
            [
             0.2222222222222222,
             "#7201a8"
            ],
            [
             0.3333333333333333,
             "#9c179e"
            ],
            [
             0.4444444444444444,
             "#bd3786"
            ],
            [
             0.5555555555555556,
             "#d8576b"
            ],
            [
             0.6666666666666666,
             "#ed7953"
            ],
            [
             0.7777777777777778,
             "#fb9f3a"
            ],
            [
             0.8888888888888888,
             "#fdca26"
            ],
            [
             1,
             "#f0f921"
            ]
           ]
          },
          "colorway": [
           "#636efa",
           "#EF553B",
           "#00cc96",
           "#ab63fa",
           "#FFA15A",
           "#19d3f3",
           "#FF6692",
           "#B6E880",
           "#FF97FF",
           "#FECB52"
          ],
          "font": {
           "color": "#2a3f5f"
          },
          "geo": {
           "bgcolor": "white",
           "lakecolor": "white",
           "landcolor": "#E5ECF6",
           "showlakes": true,
           "showland": true,
           "subunitcolor": "white"
          },
          "hoverlabel": {
           "align": "left"
          },
          "hovermode": "closest",
          "mapbox": {
           "style": "light"
          },
          "paper_bgcolor": "white",
          "plot_bgcolor": "#E5ECF6",
          "polar": {
           "angularaxis": {
            "gridcolor": "white",
            "linecolor": "white",
            "ticks": ""
           },
           "bgcolor": "#E5ECF6",
           "radialaxis": {
            "gridcolor": "white",
            "linecolor": "white",
            "ticks": ""
           }
          },
          "scene": {
           "xaxis": {
            "backgroundcolor": "#E5ECF6",
            "gridcolor": "white",
            "gridwidth": 2,
            "linecolor": "white",
            "showbackground": true,
            "ticks": "",
            "zerolinecolor": "white"
           },
           "yaxis": {
            "backgroundcolor": "#E5ECF6",
            "gridcolor": "white",
            "gridwidth": 2,
            "linecolor": "white",
            "showbackground": true,
            "ticks": "",
            "zerolinecolor": "white"
           },
           "zaxis": {
            "backgroundcolor": "#E5ECF6",
            "gridcolor": "white",
            "gridwidth": 2,
            "linecolor": "white",
            "showbackground": true,
            "ticks": "",
            "zerolinecolor": "white"
           }
          },
          "shapedefaults": {
           "line": {
            "color": "#2a3f5f"
           }
          },
          "ternary": {
           "aaxis": {
            "gridcolor": "white",
            "linecolor": "white",
            "ticks": ""
           },
           "baxis": {
            "gridcolor": "white",
            "linecolor": "white",
            "ticks": ""
           },
           "bgcolor": "#E5ECF6",
           "caxis": {
            "gridcolor": "white",
            "linecolor": "white",
            "ticks": ""
           }
          },
          "title": {
           "x": 0.05
          },
          "xaxis": {
           "automargin": true,
           "gridcolor": "white",
           "linecolor": "white",
           "ticks": "",
           "title": {
            "standoff": 15
           },
           "zerolinecolor": "white",
           "zerolinewidth": 2
          },
          "yaxis": {
           "automargin": true,
           "gridcolor": "white",
           "linecolor": "white",
           "ticks": "",
           "title": {
            "standoff": 15
           },
           "zerolinecolor": "white",
           "zerolinewidth": 2
          }
         }
        },
        "title": {
         "text": "Province/ State wise Confirmed Cases of COVID-19 reported in USA"
        },
        "xaxis": {
         "anchor": "y",
         "domain": [
          0,
          1
         ],
         "title": {
          "text": "Province_State"
         }
        },
        "yaxis": {
         "anchor": "x",
         "domain": [
          0,
          1
         ],
         "title": {
          "text": "Confirmed"
         }
        }
       }
      },
      "text/html": [
       "<div>                            <div id=\"02911412-ee18-45f7-be6c-d9e919b478c1\" class=\"plotly-graph-div\" style=\"height:525px; width:100%;\"></div>            <script type=\"text/javascript\">                require([\"plotly\"], function(Plotly) {                    window.PLOTLYENV=window.PLOTLYENV || {};                                    if (document.getElementById(\"02911412-ee18-45f7-be6c-d9e919b478c1\")) {                    Plotly.newPlot(                        \"02911412-ee18-45f7-be6c-d9e919b478c1\",                        [{\"alignmentgroup\":\"True\",\"hovertemplate\":\"Province_State=%{x}<br>Confirmed=%{text}<extra></extra>\",\"legendgroup\":\"\",\"marker\":{\"color\":\"#636efa\",\"pattern\":{\"shape\":\"\"}},\"name\":\"\",\"offsetgroup\":\"\",\"orientation\":\"v\",\"showlegend\":false,\"text\":[3853036.0,2991010.0,2320818.0,2101875.0,1381665.0,1214836.0,1123604.0,1101934.0,1016135.0,1001154.0],\"textposition\":\"auto\",\"x\":[\"California\",\"Texas\",\"Florida\",\"New York\",\"Illinois\",\"Pennsylvania\",\"Georgia\",\"Ohio\",\"New Jersey\",\"North Carolina\"],\"xaxis\":\"x\",\"y\":[3853036,2991010,2320818,2101875,1381665,1214836,1123604,1101934,1016135,1001154],\"yaxis\":\"y\",\"type\":\"bar\"}],                        {\"template\":{\"data\":{\"bar\":[{\"error_x\":{\"color\":\"#2a3f5f\"},\"error_y\":{\"color\":\"#2a3f5f\"},\"marker\":{\"line\":{\"color\":\"#E5ECF6\",\"width\":0.5},\"pattern\":{\"fillmode\":\"overlay\",\"size\":10,\"solidity\":0.2}},\"type\":\"bar\"}],\"barpolar\":[{\"marker\":{\"line\":{\"color\":\"#E5ECF6\",\"width\":0.5},\"pattern\":{\"fillmode\":\"overlay\",\"size\":10,\"solidity\":0.2}},\"type\":\"barpolar\"}],\"carpet\":[{\"aaxis\":{\"endlinecolor\":\"#2a3f5f\",\"gridcolor\":\"white\",\"linecolor\":\"white\",\"minorgridcolor\":\"white\",\"startlinecolor\":\"#2a3f5f\"},\"baxis\":{\"endlinecolor\":\"#2a3f5f\",\"gridcolor\":\"white\",\"linecolor\":\"white\",\"minorgridcolor\":\"white\",\"startlinecolor\":\"#2a3f5f\"},\"type\":\"carpet\"}],\"choropleth\":[{\"colorbar\":{\"outlinewidth\":0,\"ticks\":\"\"},\"type\":\"choropleth\"}],\"contour\":[{\"colorbar\":{\"outlinewidth\":0,\"ticks\":\"\"},\"colorscale\":[[0.0,\"#0d0887\"],[0.1111111111111111,\"#46039f\"],[0.2222222222222222,\"#7201a8\"],[0.3333333333333333,\"#9c179e\"],[0.4444444444444444,\"#bd3786\"],[0.5555555555555556,\"#d8576b\"],[0.6666666666666666,\"#ed7953\"],[0.7777777777777778,\"#fb9f3a\"],[0.8888888888888888,\"#fdca26\"],[1.0,\"#f0f921\"]],\"type\":\"contour\"}],\"contourcarpet\":[{\"colorbar\":{\"outlinewidth\":0,\"ticks\":\"\"},\"type\":\"contourcarpet\"}],\"heatmap\":[{\"colorbar\":{\"outlinewidth\":0,\"ticks\":\"\"},\"colorscale\":[[0.0,\"#0d0887\"],[0.1111111111111111,\"#46039f\"],[0.2222222222222222,\"#7201a8\"],[0.3333333333333333,\"#9c179e\"],[0.4444444444444444,\"#bd3786\"],[0.5555555555555556,\"#d8576b\"],[0.6666666666666666,\"#ed7953\"],[0.7777777777777778,\"#fb9f3a\"],[0.8888888888888888,\"#fdca26\"],[1.0,\"#f0f921\"]],\"type\":\"heatmap\"}],\"heatmapgl\":[{\"colorbar\":{\"outlinewidth\":0,\"ticks\":\"\"},\"colorscale\":[[0.0,\"#0d0887\"],[0.1111111111111111,\"#46039f\"],[0.2222222222222222,\"#7201a8\"],[0.3333333333333333,\"#9c179e\"],[0.4444444444444444,\"#bd3786\"],[0.5555555555555556,\"#d8576b\"],[0.6666666666666666,\"#ed7953\"],[0.7777777777777778,\"#fb9f3a\"],[0.8888888888888888,\"#fdca26\"],[1.0,\"#f0f921\"]],\"type\":\"heatmapgl\"}],\"histogram\":[{\"marker\":{\"pattern\":{\"fillmode\":\"overlay\",\"size\":10,\"solidity\":0.2}},\"type\":\"histogram\"}],\"histogram2d\":[{\"colorbar\":{\"outlinewidth\":0,\"ticks\":\"\"},\"colorscale\":[[0.0,\"#0d0887\"],[0.1111111111111111,\"#46039f\"],[0.2222222222222222,\"#7201a8\"],[0.3333333333333333,\"#9c179e\"],[0.4444444444444444,\"#bd3786\"],[0.5555555555555556,\"#d8576b\"],[0.6666666666666666,\"#ed7953\"],[0.7777777777777778,\"#fb9f3a\"],[0.8888888888888888,\"#fdca26\"],[1.0,\"#f0f921\"]],\"type\":\"histogram2d\"}],\"histogram2dcontour\":[{\"colorbar\":{\"outlinewidth\":0,\"ticks\":\"\"},\"colorscale\":[[0.0,\"#0d0887\"],[0.1111111111111111,\"#46039f\"],[0.2222222222222222,\"#7201a8\"],[0.3333333333333333,\"#9c179e\"],[0.4444444444444444,\"#bd3786\"],[0.5555555555555556,\"#d8576b\"],[0.6666666666666666,\"#ed7953\"],[0.7777777777777778,\"#fb9f3a\"],[0.8888888888888888,\"#fdca26\"],[1.0,\"#f0f921\"]],\"type\":\"histogram2dcontour\"}],\"mesh3d\":[{\"colorbar\":{\"outlinewidth\":0,\"ticks\":\"\"},\"type\":\"mesh3d\"}],\"parcoords\":[{\"line\":{\"colorbar\":{\"outlinewidth\":0,\"ticks\":\"\"}},\"type\":\"parcoords\"}],\"pie\":[{\"automargin\":true,\"type\":\"pie\"}],\"scatter\":[{\"marker\":{\"colorbar\":{\"outlinewidth\":0,\"ticks\":\"\"}},\"type\":\"scatter\"}],\"scatter3d\":[{\"line\":{\"colorbar\":{\"outlinewidth\":0,\"ticks\":\"\"}},\"marker\":{\"colorbar\":{\"outlinewidth\":0,\"ticks\":\"\"}},\"type\":\"scatter3d\"}],\"scattercarpet\":[{\"marker\":{\"colorbar\":{\"outlinewidth\":0,\"ticks\":\"\"}},\"type\":\"scattercarpet\"}],\"scattergeo\":[{\"marker\":{\"colorbar\":{\"outlinewidth\":0,\"ticks\":\"\"}},\"type\":\"scattergeo\"}],\"scattergl\":[{\"marker\":{\"colorbar\":{\"outlinewidth\":0,\"ticks\":\"\"}},\"type\":\"scattergl\"}],\"scattermapbox\":[{\"marker\":{\"colorbar\":{\"outlinewidth\":0,\"ticks\":\"\"}},\"type\":\"scattermapbox\"}],\"scatterpolar\":[{\"marker\":{\"colorbar\":{\"outlinewidth\":0,\"ticks\":\"\"}},\"type\":\"scatterpolar\"}],\"scatterpolargl\":[{\"marker\":{\"colorbar\":{\"outlinewidth\":0,\"ticks\":\"\"}},\"type\":\"scatterpolargl\"}],\"scatterternary\":[{\"marker\":{\"colorbar\":{\"outlinewidth\":0,\"ticks\":\"\"}},\"type\":\"scatterternary\"}],\"surface\":[{\"colorbar\":{\"outlinewidth\":0,\"ticks\":\"\"},\"colorscale\":[[0.0,\"#0d0887\"],[0.1111111111111111,\"#46039f\"],[0.2222222222222222,\"#7201a8\"],[0.3333333333333333,\"#9c179e\"],[0.4444444444444444,\"#bd3786\"],[0.5555555555555556,\"#d8576b\"],[0.6666666666666666,\"#ed7953\"],[0.7777777777777778,\"#fb9f3a\"],[0.8888888888888888,\"#fdca26\"],[1.0,\"#f0f921\"]],\"type\":\"surface\"}],\"table\":[{\"cells\":{\"fill\":{\"color\":\"#EBF0F8\"},\"line\":{\"color\":\"white\"}},\"header\":{\"fill\":{\"color\":\"#C8D4E3\"},\"line\":{\"color\":\"white\"}},\"type\":\"table\"}]},\"layout\":{\"annotationdefaults\":{\"arrowcolor\":\"#2a3f5f\",\"arrowhead\":0,\"arrowwidth\":1},\"autotypenumbers\":\"strict\",\"coloraxis\":{\"colorbar\":{\"outlinewidth\":0,\"ticks\":\"\"}},\"colorscale\":{\"diverging\":[[0,\"#8e0152\"],[0.1,\"#c51b7d\"],[0.2,\"#de77ae\"],[0.3,\"#f1b6da\"],[0.4,\"#fde0ef\"],[0.5,\"#f7f7f7\"],[0.6,\"#e6f5d0\"],[0.7,\"#b8e186\"],[0.8,\"#7fbc41\"],[0.9,\"#4d9221\"],[1,\"#276419\"]],\"sequential\":[[0.0,\"#0d0887\"],[0.1111111111111111,\"#46039f\"],[0.2222222222222222,\"#7201a8\"],[0.3333333333333333,\"#9c179e\"],[0.4444444444444444,\"#bd3786\"],[0.5555555555555556,\"#d8576b\"],[0.6666666666666666,\"#ed7953\"],[0.7777777777777778,\"#fb9f3a\"],[0.8888888888888888,\"#fdca26\"],[1.0,\"#f0f921\"]],\"sequentialminus\":[[0.0,\"#0d0887\"],[0.1111111111111111,\"#46039f\"],[0.2222222222222222,\"#7201a8\"],[0.3333333333333333,\"#9c179e\"],[0.4444444444444444,\"#bd3786\"],[0.5555555555555556,\"#d8576b\"],[0.6666666666666666,\"#ed7953\"],[0.7777777777777778,\"#fb9f3a\"],[0.8888888888888888,\"#fdca26\"],[1.0,\"#f0f921\"]]},\"colorway\":[\"#636efa\",\"#EF553B\",\"#00cc96\",\"#ab63fa\",\"#FFA15A\",\"#19d3f3\",\"#FF6692\",\"#B6E880\",\"#FF97FF\",\"#FECB52\"],\"font\":{\"color\":\"#2a3f5f\"},\"geo\":{\"bgcolor\":\"white\",\"lakecolor\":\"white\",\"landcolor\":\"#E5ECF6\",\"showlakes\":true,\"showland\":true,\"subunitcolor\":\"white\"},\"hoverlabel\":{\"align\":\"left\"},\"hovermode\":\"closest\",\"mapbox\":{\"style\":\"light\"},\"paper_bgcolor\":\"white\",\"plot_bgcolor\":\"#E5ECF6\",\"polar\":{\"angularaxis\":{\"gridcolor\":\"white\",\"linecolor\":\"white\",\"ticks\":\"\"},\"bgcolor\":\"#E5ECF6\",\"radialaxis\":{\"gridcolor\":\"white\",\"linecolor\":\"white\",\"ticks\":\"\"}},\"scene\":{\"xaxis\":{\"backgroundcolor\":\"#E5ECF6\",\"gridcolor\":\"white\",\"gridwidth\":2,\"linecolor\":\"white\",\"showbackground\":true,\"ticks\":\"\",\"zerolinecolor\":\"white\"},\"yaxis\":{\"backgroundcolor\":\"#E5ECF6\",\"gridcolor\":\"white\",\"gridwidth\":2,\"linecolor\":\"white\",\"showbackground\":true,\"ticks\":\"\",\"zerolinecolor\":\"white\"},\"zaxis\":{\"backgroundcolor\":\"#E5ECF6\",\"gridcolor\":\"white\",\"gridwidth\":2,\"linecolor\":\"white\",\"showbackground\":true,\"ticks\":\"\",\"zerolinecolor\":\"white\"}},\"shapedefaults\":{\"line\":{\"color\":\"#2a3f5f\"}},\"ternary\":{\"aaxis\":{\"gridcolor\":\"white\",\"linecolor\":\"white\",\"ticks\":\"\"},\"baxis\":{\"gridcolor\":\"white\",\"linecolor\":\"white\",\"ticks\":\"\"},\"bgcolor\":\"#E5ECF6\",\"caxis\":{\"gridcolor\":\"white\",\"linecolor\":\"white\",\"ticks\":\"\"}},\"title\":{\"x\":0.05},\"xaxis\":{\"automargin\":true,\"gridcolor\":\"white\",\"linecolor\":\"white\",\"ticks\":\"\",\"title\":{\"standoff\":15},\"zerolinecolor\":\"white\",\"zerolinewidth\":2},\"yaxis\":{\"automargin\":true,\"gridcolor\":\"white\",\"linecolor\":\"white\",\"ticks\":\"\",\"title\":{\"standoff\":15},\"zerolinecolor\":\"white\",\"zerolinewidth\":2}}},\"xaxis\":{\"anchor\":\"y\",\"domain\":[0.0,1.0],\"title\":{\"text\":\"Province_State\"}},\"yaxis\":{\"anchor\":\"x\",\"domain\":[0.0,1.0],\"title\":{\"text\":\"Confirmed\"}},\"legend\":{\"tracegroupgap\":0},\"title\":{\"text\":\"Province/ State wise Confirmed Cases of COVID-19 reported in USA\"},\"barmode\":\"relative\"},                        {\"responsive\": true}                    ).then(function(){\n",
       "                            \n",
       "var gd = document.getElementById('02911412-ee18-45f7-be6c-d9e919b478c1');\n",
       "var x = new MutationObserver(function (mutations, observer) {{\n",
       "        var display = window.getComputedStyle(gd).display;\n",
       "        if (!display || display === 'none') {{\n",
       "            console.log([gd, 'removed!']);\n",
       "            Plotly.purge(gd);\n",
       "            observer.disconnect();\n",
       "        }}\n",
       "}});\n",
       "\n",
       "// Listen for the removal of the full notebook cells\n",
       "var notebookContainer = gd.closest('#notebook-container');\n",
       "if (notebookContainer) {{\n",
       "    x.observe(notebookContainer, {childList: true});\n",
       "}}\n",
       "\n",
       "// Listen for the clearing of the current output cell\n",
       "var outputEl = gd.closest('.output');\n",
       "if (outputEl) {{\n",
       "    x.observe(outputEl, {childList: true});\n",
       "}}\n",
       "\n",
       "                        })                };                });            </script>        </div>"
      ]
     },
     "metadata": {},
     "output_type": "display_data"
    }
   ],
   "source": [
    "us_data2 = covid_data[covid_data['Country_Region']=='US'].drop(['Country_Region','Lat', 'Long_'], axis=1)\n",
    "us_data2 = us_data2.groupby(['Province_State'])['Confirmed'].sum().nlargest(10).reset_index()\n",
    "us_data_death2 = us_data2[us_data2['Confirmed'] > 0]\n",
    "state_fig2 = px.bar(us_data_death2, x='Province_State', y='Confirmed', title='Province/ State wise Confirmed Cases of COVID-19 reported in USA', text='Confirmed')\n",
    "state_fig2.show()"
   ]
  },
  {
   "cell_type": "markdown",
   "metadata": {},
   "source": [
    "### Question 9"
   ]
  },
  {
   "cell_type": "markdown",
   "metadata": {},
   "source": [
    "### Plot Worldwide Confirmed Cases over time"
   ]
  },
  {
   "cell_type": "code",
   "execution_count": 66,
   "metadata": {
    "scrolled": true
   },
   "outputs": [
    {
     "data": {
      "text/html": [
       "<div>\n",
       "<style scoped>\n",
       "    .dataframe tbody tr th:only-of-type {\n",
       "        vertical-align: middle;\n",
       "    }\n",
       "\n",
       "    .dataframe tbody tr th {\n",
       "        vertical-align: top;\n",
       "    }\n",
       "\n",
       "    .dataframe thead th {\n",
       "        text-align: right;\n",
       "    }\n",
       "</style>\n",
       "<table border=\"1\" class=\"dataframe\">\n",
       "  <thead>\n",
       "    <tr style=\"text-align: right;\">\n",
       "      <th></th>\n",
       "      <th>Province/State</th>\n",
       "      <th>Country/Region</th>\n",
       "      <th>Lat</th>\n",
       "      <th>Long</th>\n",
       "      <th>1/22/20</th>\n",
       "      <th>1/23/20</th>\n",
       "      <th>1/24/20</th>\n",
       "      <th>1/25/20</th>\n",
       "      <th>1/26/20</th>\n",
       "      <th>1/27/20</th>\n",
       "      <th>...</th>\n",
       "      <th>1/13/23</th>\n",
       "      <th>1/14/23</th>\n",
       "      <th>1/15/23</th>\n",
       "      <th>1/16/23</th>\n",
       "      <th>1/17/23</th>\n",
       "      <th>1/18/23</th>\n",
       "      <th>1/19/23</th>\n",
       "      <th>1/20/23</th>\n",
       "      <th>1/21/23</th>\n",
       "      <th>1/22/23</th>\n",
       "    </tr>\n",
       "  </thead>\n",
       "  <tbody>\n",
       "    <tr>\n",
       "      <th>0</th>\n",
       "      <td>NaN</td>\n",
       "      <td>Afghanistan</td>\n",
       "      <td>33.939110</td>\n",
       "      <td>67.709953</td>\n",
       "      <td>0</td>\n",
       "      <td>0</td>\n",
       "      <td>0</td>\n",
       "      <td>0</td>\n",
       "      <td>0</td>\n",
       "      <td>0</td>\n",
       "      <td>...</td>\n",
       "      <td>207900</td>\n",
       "      <td>207900</td>\n",
       "      <td>207900</td>\n",
       "      <td>207993</td>\n",
       "      <td>208009</td>\n",
       "      <td>208034</td>\n",
       "      <td>208062</td>\n",
       "      <td>208084</td>\n",
       "      <td>208084</td>\n",
       "      <td>208084</td>\n",
       "    </tr>\n",
       "    <tr>\n",
       "      <th>1</th>\n",
       "      <td>NaN</td>\n",
       "      <td>Albania</td>\n",
       "      <td>41.153300</td>\n",
       "      <td>20.168300</td>\n",
       "      <td>0</td>\n",
       "      <td>0</td>\n",
       "      <td>0</td>\n",
       "      <td>0</td>\n",
       "      <td>0</td>\n",
       "      <td>0</td>\n",
       "      <td>...</td>\n",
       "      <td>334018</td>\n",
       "      <td>334029</td>\n",
       "      <td>334037</td>\n",
       "      <td>334037</td>\n",
       "      <td>334064</td>\n",
       "      <td>334084</td>\n",
       "      <td>334084</td>\n",
       "      <td>334084</td>\n",
       "      <td>334097</td>\n",
       "      <td>334101</td>\n",
       "    </tr>\n",
       "    <tr>\n",
       "      <th>2</th>\n",
       "      <td>NaN</td>\n",
       "      <td>Algeria</td>\n",
       "      <td>28.033900</td>\n",
       "      <td>1.659600</td>\n",
       "      <td>0</td>\n",
       "      <td>0</td>\n",
       "      <td>0</td>\n",
       "      <td>0</td>\n",
       "      <td>0</td>\n",
       "      <td>0</td>\n",
       "      <td>...</td>\n",
       "      <td>271286</td>\n",
       "      <td>271287</td>\n",
       "      <td>271287</td>\n",
       "      <td>271287</td>\n",
       "      <td>271292</td>\n",
       "      <td>271296</td>\n",
       "      <td>271307</td>\n",
       "      <td>271316</td>\n",
       "      <td>271328</td>\n",
       "      <td>271335</td>\n",
       "    </tr>\n",
       "    <tr>\n",
       "      <th>3</th>\n",
       "      <td>NaN</td>\n",
       "      <td>Andorra</td>\n",
       "      <td>42.506300</td>\n",
       "      <td>1.521800</td>\n",
       "      <td>0</td>\n",
       "      <td>0</td>\n",
       "      <td>0</td>\n",
       "      <td>0</td>\n",
       "      <td>0</td>\n",
       "      <td>0</td>\n",
       "      <td>...</td>\n",
       "      <td>47781</td>\n",
       "      <td>47781</td>\n",
       "      <td>47781</td>\n",
       "      <td>47781</td>\n",
       "      <td>47781</td>\n",
       "      <td>47781</td>\n",
       "      <td>47820</td>\n",
       "      <td>47820</td>\n",
       "      <td>47820</td>\n",
       "      <td>47820</td>\n",
       "    </tr>\n",
       "    <tr>\n",
       "      <th>4</th>\n",
       "      <td>NaN</td>\n",
       "      <td>Angola</td>\n",
       "      <td>-11.202700</td>\n",
       "      <td>17.873900</td>\n",
       "      <td>0</td>\n",
       "      <td>0</td>\n",
       "      <td>0</td>\n",
       "      <td>0</td>\n",
       "      <td>0</td>\n",
       "      <td>0</td>\n",
       "      <td>...</td>\n",
       "      <td>105095</td>\n",
       "      <td>105095</td>\n",
       "      <td>105095</td>\n",
       "      <td>105095</td>\n",
       "      <td>105095</td>\n",
       "      <td>105095</td>\n",
       "      <td>105095</td>\n",
       "      <td>105095</td>\n",
       "      <td>105095</td>\n",
       "      <td>105095</td>\n",
       "    </tr>\n",
       "    <tr>\n",
       "      <th>...</th>\n",
       "      <td>...</td>\n",
       "      <td>...</td>\n",
       "      <td>...</td>\n",
       "      <td>...</td>\n",
       "      <td>...</td>\n",
       "      <td>...</td>\n",
       "      <td>...</td>\n",
       "      <td>...</td>\n",
       "      <td>...</td>\n",
       "      <td>...</td>\n",
       "      <td>...</td>\n",
       "      <td>...</td>\n",
       "      <td>...</td>\n",
       "      <td>...</td>\n",
       "      <td>...</td>\n",
       "      <td>...</td>\n",
       "      <td>...</td>\n",
       "      <td>...</td>\n",
       "      <td>...</td>\n",
       "      <td>...</td>\n",
       "      <td>...</td>\n",
       "    </tr>\n",
       "    <tr>\n",
       "      <th>284</th>\n",
       "      <td>NaN</td>\n",
       "      <td>West Bank and Gaza</td>\n",
       "      <td>31.952200</td>\n",
       "      <td>35.233200</td>\n",
       "      <td>0</td>\n",
       "      <td>0</td>\n",
       "      <td>0</td>\n",
       "      <td>0</td>\n",
       "      <td>0</td>\n",
       "      <td>0</td>\n",
       "      <td>...</td>\n",
       "      <td>703228</td>\n",
       "      <td>703228</td>\n",
       "      <td>703228</td>\n",
       "      <td>703228</td>\n",
       "      <td>703228</td>\n",
       "      <td>703228</td>\n",
       "      <td>703228</td>\n",
       "      <td>703228</td>\n",
       "      <td>703228</td>\n",
       "      <td>703228</td>\n",
       "    </tr>\n",
       "    <tr>\n",
       "      <th>285</th>\n",
       "      <td>NaN</td>\n",
       "      <td>Winter Olympics 2022</td>\n",
       "      <td>39.904200</td>\n",
       "      <td>116.407400</td>\n",
       "      <td>0</td>\n",
       "      <td>0</td>\n",
       "      <td>0</td>\n",
       "      <td>0</td>\n",
       "      <td>0</td>\n",
       "      <td>0</td>\n",
       "      <td>...</td>\n",
       "      <td>535</td>\n",
       "      <td>535</td>\n",
       "      <td>535</td>\n",
       "      <td>535</td>\n",
       "      <td>535</td>\n",
       "      <td>535</td>\n",
       "      <td>535</td>\n",
       "      <td>535</td>\n",
       "      <td>535</td>\n",
       "      <td>535</td>\n",
       "    </tr>\n",
       "    <tr>\n",
       "      <th>286</th>\n",
       "      <td>NaN</td>\n",
       "      <td>Yemen</td>\n",
       "      <td>15.552727</td>\n",
       "      <td>48.516388</td>\n",
       "      <td>0</td>\n",
       "      <td>0</td>\n",
       "      <td>0</td>\n",
       "      <td>0</td>\n",
       "      <td>0</td>\n",
       "      <td>0</td>\n",
       "      <td>...</td>\n",
       "      <td>11945</td>\n",
       "      <td>11945</td>\n",
       "      <td>11945</td>\n",
       "      <td>11945</td>\n",
       "      <td>11945</td>\n",
       "      <td>11945</td>\n",
       "      <td>11945</td>\n",
       "      <td>11945</td>\n",
       "      <td>11945</td>\n",
       "      <td>11945</td>\n",
       "    </tr>\n",
       "    <tr>\n",
       "      <th>287</th>\n",
       "      <td>NaN</td>\n",
       "      <td>Zambia</td>\n",
       "      <td>-13.133897</td>\n",
       "      <td>27.849332</td>\n",
       "      <td>0</td>\n",
       "      <td>0</td>\n",
       "      <td>0</td>\n",
       "      <td>0</td>\n",
       "      <td>0</td>\n",
       "      <td>0</td>\n",
       "      <td>...</td>\n",
       "      <td>336955</td>\n",
       "      <td>336955</td>\n",
       "      <td>337303</td>\n",
       "      <td>337303</td>\n",
       "      <td>337780</td>\n",
       "      <td>338090</td>\n",
       "      <td>338407</td>\n",
       "      <td>338656</td>\n",
       "      <td>338986</td>\n",
       "      <td>338986</td>\n",
       "    </tr>\n",
       "    <tr>\n",
       "      <th>288</th>\n",
       "      <td>NaN</td>\n",
       "      <td>Zimbabwe</td>\n",
       "      <td>-19.015438</td>\n",
       "      <td>29.154857</td>\n",
       "      <td>0</td>\n",
       "      <td>0</td>\n",
       "      <td>0</td>\n",
       "      <td>0</td>\n",
       "      <td>0</td>\n",
       "      <td>0</td>\n",
       "      <td>...</td>\n",
       "      <td>259981</td>\n",
       "      <td>259981</td>\n",
       "      <td>259981</td>\n",
       "      <td>259981</td>\n",
       "      <td>259981</td>\n",
       "      <td>259981</td>\n",
       "      <td>259981</td>\n",
       "      <td>259981</td>\n",
       "      <td>259981</td>\n",
       "      <td>259981</td>\n",
       "    </tr>\n",
       "  </tbody>\n",
       "</table>\n",
       "<p>289 rows × 1101 columns</p>\n",
       "</div>"
      ],
      "text/plain": [
       "    Province/State        Country/Region        Lat        Long  1/22/20  \\\n",
       "0              NaN           Afghanistan  33.939110   67.709953        0   \n",
       "1              NaN               Albania  41.153300   20.168300        0   \n",
       "2              NaN               Algeria  28.033900    1.659600        0   \n",
       "3              NaN               Andorra  42.506300    1.521800        0   \n",
       "4              NaN                Angola -11.202700   17.873900        0   \n",
       "..             ...                   ...        ...         ...      ...   \n",
       "284            NaN    West Bank and Gaza  31.952200   35.233200        0   \n",
       "285            NaN  Winter Olympics 2022  39.904200  116.407400        0   \n",
       "286            NaN                 Yemen  15.552727   48.516388        0   \n",
       "287            NaN                Zambia -13.133897   27.849332        0   \n",
       "288            NaN              Zimbabwe -19.015438   29.154857        0   \n",
       "\n",
       "     1/23/20  1/24/20  1/25/20  1/26/20  1/27/20  ...  1/13/23  1/14/23  \\\n",
       "0          0        0        0        0        0  ...   207900   207900   \n",
       "1          0        0        0        0        0  ...   334018   334029   \n",
       "2          0        0        0        0        0  ...   271286   271287   \n",
       "3          0        0        0        0        0  ...    47781    47781   \n",
       "4          0        0        0        0        0  ...   105095   105095   \n",
       "..       ...      ...      ...      ...      ...  ...      ...      ...   \n",
       "284        0        0        0        0        0  ...   703228   703228   \n",
       "285        0        0        0        0        0  ...      535      535   \n",
       "286        0        0        0        0        0  ...    11945    11945   \n",
       "287        0        0        0        0        0  ...   336955   336955   \n",
       "288        0        0        0        0        0  ...   259981   259981   \n",
       "\n",
       "     1/15/23  1/16/23  1/17/23  1/18/23  1/19/23  1/20/23  1/21/23  1/22/23  \n",
       "0     207900   207993   208009   208034   208062   208084   208084   208084  \n",
       "1     334037   334037   334064   334084   334084   334084   334097   334101  \n",
       "2     271287   271287   271292   271296   271307   271316   271328   271335  \n",
       "3      47781    47781    47781    47781    47820    47820    47820    47820  \n",
       "4     105095   105095   105095   105095   105095   105095   105095   105095  \n",
       "..       ...      ...      ...      ...      ...      ...      ...      ...  \n",
       "284   703228   703228   703228   703228   703228   703228   703228   703228  \n",
       "285      535      535      535      535      535      535      535      535  \n",
       "286    11945    11945    11945    11945    11945    11945    11945    11945  \n",
       "287   337303   337303   337780   338090   338407   338656   338986   338986  \n",
       "288   259981   259981   259981   259981   259981   259981   259981   259981  \n",
       "\n",
       "[289 rows x 1101 columns]"
      ]
     },
     "execution_count": 66,
     "metadata": {},
     "output_type": "execute_result"
    }
   ],
   "source": [
    "covid_worldwide= pd.read_csv('https://raw.githubusercontent.com/CSSEGISandData/COVID-19/master/csse_covid_19_data/csse_covid_19_time_series/time_series_covid19_confirmed_global.csv')\n",
    "covid_worldwide"
   ]
  },
  {
   "cell_type": "code",
   "execution_count": 68,
   "metadata": {},
   "outputs": [
    {
     "data": {
      "application/vnd.plotly.v1+json": {
       "config": {
        "plotlyServerURL": "https://plot.ly"
       },
       "data": [
        {
         "alignmentgroup": "True",
         "hovertemplate": "variable=6/22/21<br>Country/Region=%{x}<br>value=%{y}<extra></extra>",
         "legendgroup": "6/22/21",
         "marker": {
          "color": "#636efa",
          "pattern": {
           "shape": ""
          }
         },
         "name": "6/22/21",
         "offsetgroup": "6/22/21",
         "orientation": "v",
         "showlegend": true,
         "textposition": "auto",
         "texttemplate": "%{y}",
         "type": "bar",
         "x": [
          "US",
          "India",
          "Brazil",
          "France",
          "Turkey",
          "Russia",
          "United Kingdom",
          "Argentina",
          "Italy",
          "Colombia",
          "Spain",
          "Germany",
          "Iran",
          "Poland",
          "Mexico",
          "Ukraine",
          "Peru",
          "Indonesia",
          "South Africa",
          "Netherlands",
          "Czechia",
          "Chile",
          "Canada",
          "Philippines",
          "Iraq",
          "Sweden",
          "Romania",
          "Belgium",
          "Pakistan",
          "Portugal",
          "Bangladesh",
          "Israel",
          "Hungary",
          "Japan",
          "Slovakia",
          "Jordan",
          "Serbia",
          "Malaysia",
          "Switzerland",
          "Austria",
          "Nepal",
          "United Arab Emirates",
          "Lebanon",
          "Morocco",
          "Saudi Arabia",
          "Kazakhstan",
          "Ecuador",
          "Bolivia",
          "Bulgaria",
          "Greece"
         ],
         "xaxis": "x",
         "y": [
          33678349,
          30028709,
          18103412,
          5822022,
          5381736,
          5288766,
          4668030,
          4298782,
          4254294,
          3997021,
          3768691,
          3722782,
          3117336,
          2879030,
          2482784,
          2292295,
          2030611,
          2018113,
          1843572,
          1708533,
          1666192,
          1525933,
          1414880,
          1367894,
          1298703,
          1088014,
          1080323,
          1080035,
          950768,
          866826,
          861150,
          840079,
          807684,
          787305,
          774510,
          747504,
          715913,
          705762,
          702124,
          645162,
          626343,
          616160,
          543698,
          527174,
          476882,
          468398,
          447176,
          424478,
          421246,
          418943
         ],
         "yaxis": "y"
        },
        {
         "alignmentgroup": "True",
         "hovertemplate": "variable=6/23/21<br>Country/Region=%{x}<br>value=%{y}<extra></extra>",
         "legendgroup": "6/23/21",
         "marker": {
          "color": "#EF553B",
          "pattern": {
           "shape": ""
          }
         },
         "name": "6/23/21",
         "offsetgroup": "6/23/21",
         "orientation": "v",
         "showlegend": true,
         "textposition": "auto",
         "texttemplate": "%{y}",
         "type": "bar",
         "x": [
          "US",
          "India",
          "Brazil",
          "France",
          "Turkey",
          "Russia",
          "United Kingdom",
          "Argentina",
          "Italy",
          "Colombia",
          "Spain",
          "Germany",
          "Iran",
          "Poland",
          "Mexico",
          "Ukraine",
          "Peru",
          "Indonesia",
          "South Africa",
          "Netherlands",
          "Czechia",
          "Chile",
          "Canada",
          "Philippines",
          "Iraq",
          "Sweden",
          "Romania",
          "Belgium",
          "Pakistan",
          "Portugal",
          "Bangladesh",
          "Israel",
          "Hungary",
          "Japan",
          "Slovakia",
          "Jordan",
          "Serbia",
          "Malaysia",
          "Switzerland",
          "Austria",
          "Nepal",
          "United Arab Emirates",
          "Lebanon",
          "Morocco",
          "Saudi Arabia",
          "Kazakhstan",
          "Ecuador",
          "Bolivia",
          "Bulgaria",
          "Greece"
         ],
         "xaxis": "x",
         "y": [
          33690843,
          30082778,
          18180808,
          5824352,
          5387545,
          5306069,
          4683984,
          4326101,
          4255434,
          4027016,
          3773032,
          3723798,
          3128395,
          2879192,
          2487747,
          2293421,
          2033606,
          2033421,
          1861065,
          1709239,
          1666325,
          1528409,
          1415589,
          1372232,
          1305000,
          1088518,
          1080389,
          1081061,
          951865,
          868323,
          866877,
          840225,
          807775,
          789085,
          774575,
          748103,
          716016,
          711006,
          702278,
          645264,
          627854,
          618148,
          543865,
          527696,
          478135,
          469975,
          449107,
          426748,
          421339,
          419455
         ],
         "yaxis": "y"
        },
        {
         "alignmentgroup": "True",
         "hovertemplate": "variable=6/24/21<br>Country/Region=%{x}<br>value=%{y}<extra></extra>",
         "legendgroup": "6/24/21",
         "marker": {
          "color": "#00cc96",
          "pattern": {
           "shape": ""
          }
         },
         "name": "6/24/21",
         "offsetgroup": "6/24/21",
         "orientation": "v",
         "showlegend": true,
         "textposition": "auto",
         "texttemplate": "%{y}",
         "type": "bar",
         "x": [
          "US",
          "India",
          "Brazil",
          "France",
          "Turkey",
          "Russia",
          "United Kingdom",
          "Argentina",
          "Italy",
          "Colombia",
          "Spain",
          "Germany",
          "Iran",
          "Poland",
          "Mexico",
          "Ukraine",
          "Peru",
          "Indonesia",
          "South Africa",
          "Netherlands",
          "Czechia",
          "Chile",
          "Canada",
          "Philippines",
          "Iraq",
          "Sweden",
          "Romania",
          "Belgium",
          "Pakistan",
          "Portugal",
          "Bangladesh",
          "Israel",
          "Hungary",
          "Japan",
          "Slovakia",
          "Jordan",
          "Serbia",
          "Malaysia",
          "Switzerland",
          "Austria",
          "Nepal",
          "United Arab Emirates",
          "Lebanon",
          "Morocco",
          "Saudi Arabia",
          "Kazakhstan",
          "Ecuador",
          "Bolivia",
          "Bulgaria",
          "Greece"
         ],
         "xaxis": "x",
         "y": [
          33705042,
          30134445,
          18257432,
          5826360,
          5393248,
          5325940,
          4700708,
          4350564,
          4255700,
          4060013,
          3777539,
          3724806,
          3140129,
          2879336,
          2493087,
          2294669,
          2036449,
          2053995,
          1877143,
          1709902,
          1666521,
          1531872,
          1416297,
          1378260,
          1311093,
          1088896,
          1080457,
          1081908,
          952907,
          869879,
          872935,
          840444,
          807844,
          790759,
          774642,
          748685,
          716096,
          716847,
          702398,
          645380,
          629431,
          620309,
          544002,
          528180,
          479390,
          471498,
          449483,
          429178,
          421401,
          419909
         ],
         "yaxis": "y"
        },
        {
         "alignmentgroup": "True",
         "hovertemplate": "variable=6/25/21<br>Country/Region=%{x}<br>value=%{y}<extra></extra>",
         "legendgroup": "6/25/21",
         "marker": {
          "color": "#ab63fa",
          "pattern": {
           "shape": ""
          }
         },
         "name": "6/25/21",
         "offsetgroup": "6/25/21",
         "orientation": "v",
         "showlegend": true,
         "textposition": "auto",
         "texttemplate": "%{y}",
         "type": "bar",
         "x": [
          "US",
          "India",
          "Brazil",
          "France",
          "Turkey",
          "Russia",
          "United Kingdom",
          "Argentina",
          "Italy",
          "Colombia",
          "Spain",
          "Germany",
          "Iran",
          "Poland",
          "Mexico",
          "Ukraine",
          "Peru",
          "Indonesia",
          "South Africa",
          "Netherlands",
          "Czechia",
          "Chile",
          "Canada",
          "Philippines",
          "Iraq",
          "Sweden",
          "Romania",
          "Belgium",
          "Pakistan",
          "Portugal",
          "Bangladesh",
          "Israel",
          "Hungary",
          "Japan",
          "Slovakia",
          "Jordan",
          "Serbia",
          "Malaysia",
          "Switzerland",
          "Austria",
          "Nepal",
          "United Arab Emirates",
          "Lebanon",
          "Morocco",
          "Saudi Arabia",
          "Kazakhstan",
          "Ecuador",
          "Bolivia",
          "Bulgaria",
          "Greece"
         ],
         "xaxis": "x",
         "y": [
          33729561,
          30183143,
          18332493,
          5828348,
          5398878,
          5346005,
          4716039,
          4374587,
          4256451,
          4092746,
          3782463,
          3725580,
          3150949,
          2879470,
          2498357,
          2295873,
          2043262,
          2072867,
          1895905,
          1710463,
          1666686,
          1537471,
          1416935,
          1385053,
          1316418,
          1088896,
          1080522,
          1082476,
          953842,
          871483,
          878804,
          840638,
          807910,
          792469,
          774712,
          749046,
          716172,
          722659,
          702507,
          645479,
          631152,
          622532,
          544165,
          528731,
          480702,
          473228,
          452234,
          431360,
          421487,
          420295
         ],
         "yaxis": "y"
        },
        {
         "alignmentgroup": "True",
         "hovertemplate": "variable=6/26/21<br>Country/Region=%{x}<br>value=%{y}<extra></extra>",
         "legendgroup": "6/26/21",
         "marker": {
          "color": "#FFA15A",
          "pattern": {
           "shape": ""
          }
         },
         "name": "6/26/21",
         "offsetgroup": "6/26/21",
         "orientation": "v",
         "showlegend": true,
         "textposition": "auto",
         "texttemplate": "%{y}",
         "type": "bar",
         "x": [
          "US",
          "India",
          "Brazil",
          "France",
          "Turkey",
          "Russia",
          "United Kingdom",
          "Argentina",
          "Italy",
          "Colombia",
          "Spain",
          "Germany",
          "Iran",
          "Poland",
          "Mexico",
          "Ukraine",
          "Peru",
          "Indonesia",
          "South Africa",
          "Netherlands",
          "Czechia",
          "Chile",
          "Canada",
          "Philippines",
          "Iraq",
          "Sweden",
          "Romania",
          "Belgium",
          "Pakistan",
          "Portugal",
          "Bangladesh",
          "Israel",
          "Hungary",
          "Japan",
          "Slovakia",
          "Jordan",
          "Serbia",
          "Malaysia",
          "Switzerland",
          "Austria",
          "Nepal",
          "United Arab Emirates",
          "Lebanon",
          "Morocco",
          "Saudi Arabia",
          "Kazakhstan",
          "Ecuador",
          "Bolivia",
          "Bulgaria",
          "Greece"
         ],
         "xaxis": "x",
         "y": [
          33738623,
          30233183,
          18393158,
          5830476,
          5404144,
          5367317,
          4734015,
          4393142,
          4257289,
          4126340,
          3782463,
          3726172,
          3157983,
          2879569,
          2503408,
          2296982,
          2043262,
          2093962,
          1913861,
          1710972,
          1666821,
          1542642,
          1417455,
          1391911,
          1321232,
          1088896,
          1080584,
          1082476,
          954743,
          873051,
          883138,
          840823,
          807910,
          794100,
          774786,
          749319,
          716238,
          728462,
          702507,
          645587,
          632326,
          624814,
          544291,
          529224,
          482003,
          473282,
          453362,
          433013,
          421515,
          420670
         ],
         "yaxis": "y"
        },
        {
         "alignmentgroup": "True",
         "hovertemplate": "variable=6/27/21<br>Country/Region=%{x}<br>value=%{y}<extra></extra>",
         "legendgroup": "6/27/21",
         "marker": {
          "color": "#19d3f3",
          "pattern": {
           "shape": ""
          }
         },
         "name": "6/27/21",
         "offsetgroup": "6/27/21",
         "orientation": "v",
         "showlegend": true,
         "textposition": "auto",
         "texttemplate": "%{y}",
         "type": "bar",
         "x": [
          "US",
          "India",
          "Brazil",
          "France",
          "Turkey",
          "Russia",
          "United Kingdom",
          "Argentina",
          "Italy",
          "Colombia",
          "Spain",
          "Germany",
          "Iran",
          "Poland",
          "Mexico",
          "Ukraine",
          "Peru",
          "Indonesia",
          "South Africa",
          "Netherlands",
          "Czechia",
          "Chile",
          "Canada",
          "Philippines",
          "Iraq",
          "Sweden",
          "Romania",
          "Belgium",
          "Pakistan",
          "Portugal",
          "Bangladesh",
          "Israel",
          "Hungary",
          "Japan",
          "Slovakia",
          "Jordan",
          "Serbia",
          "Malaysia",
          "Switzerland",
          "Austria",
          "Nepal",
          "United Arab Emirates",
          "Lebanon",
          "Morocco",
          "Saudi Arabia",
          "Kazakhstan",
          "Ecuador",
          "Bolivia",
          "Bulgaria",
          "Greece"
         ],
         "xaxis": "x",
         "y": [
          33743282,
          30279331,
          18425138,
          5832110,
          5409027,
          5387486,
          4748673,
          4405247,
          4258069,
          4158716,
          3782463,
          3726710,
          3167741,
          2879638,
          2505792,
          2297801,
          2046057,
          2115304,
          1928897,
          1711530,
          1666890,
          1547103,
          1417858,
          1397992,
          1325700,
          1088896,
          1080630,
          1082476,
          955657,
          874547,
          888406,
          840888,
          807910,
          795382,
          774838,
          749784,
          716301,
          734048,
          702507,
          645704,
          633679,
          626936,
          544454,
          529676,
          483221,
          476740,
          454336,
          433935,
          421531,
          420905
         ],
         "yaxis": "y"
        },
        {
         "alignmentgroup": "True",
         "hovertemplate": "variable=6/13/22<br>Country/Region=%{x}<br>value=%{y}<extra></extra>",
         "legendgroup": "6/13/22",
         "marker": {
          "color": "#FF6692",
          "pattern": {
           "shape": ""
          }
         },
         "name": "6/13/22",
         "offsetgroup": "6/13/22",
         "orientation": "v",
         "showlegend": true,
         "textposition": "auto",
         "texttemplate": "%{y}",
         "type": "bar",
         "x": [
          "US",
          "India",
          "Brazil",
          "France",
          "Turkey",
          "Russia",
          "United Kingdom",
          "Argentina",
          "Italy",
          "Colombia",
          "Spain",
          "Germany",
          "Iran",
          "Poland",
          "Mexico",
          "Ukraine",
          "Peru",
          "Indonesia",
          "South Africa",
          "Netherlands",
          "Czechia",
          "Chile",
          "Canada",
          "Philippines",
          "Iraq",
          "Sweden",
          "Romania",
          "Belgium",
          "Pakistan",
          "Portugal",
          "Bangladesh",
          "Israel",
          "Hungary",
          "Japan",
          "Slovakia",
          "Jordan",
          "Serbia",
          "Malaysia",
          "Switzerland",
          "Austria",
          "Nepal",
          "United Arab Emirates",
          "Lebanon",
          "Morocco",
          "Saudi Arabia",
          "Kazakhstan",
          "Ecuador",
          "Bolivia",
          "Bulgaria",
          "Greece"
         ],
         "xaxis": "x",
         "y": [
          85784778,
          43236695,
          31497038,
          29946647,
          15078186,
          18111240,
          22600145,
          9276618,
          17664043,
          6117847,
          12478994,
          26809245,
          7233880,
          6010090,
          5823844,
          5284337,
          3591816,
          6061079,
          3979126,
          8211768,
          4188457,
          3829119,
          3918616,
          3693608,
          2330049,
          2510930,
          2912878,
          4177440,
          1531274,
          4917127,
          1954243,
          4189850,
          1921486,
          9062661,
          2544823,
          1697271,
          2020596,
          4528390,
          3685281,
          4327840,
          979271,
          918815,
          1101247,
          1176165,
          778983,
          1395061,
          890852,
          912869,
          1167147,
          3500489
         ],
         "yaxis": "y"
        },
        {
         "alignmentgroup": "True",
         "hovertemplate": "variable=6/14/22<br>Country/Region=%{x}<br>value=%{y}<extra></extra>",
         "legendgroup": "6/14/22",
         "marker": {
          "color": "#B6E880",
          "pattern": {
           "shape": ""
          }
         },
         "name": "6/14/22",
         "offsetgroup": "6/14/22",
         "orientation": "v",
         "showlegend": true,
         "textposition": "auto",
         "texttemplate": "%{y}",
         "type": "bar",
         "x": [
          "US",
          "India",
          "Brazil",
          "France",
          "Turkey",
          "Russia",
          "United Kingdom",
          "Argentina",
          "Italy",
          "Colombia",
          "Spain",
          "Germany",
          "Iran",
          "Poland",
          "Mexico",
          "Ukraine",
          "Peru",
          "Indonesia",
          "South Africa",
          "Netherlands",
          "Czechia",
          "Chile",
          "Canada",
          "Philippines",
          "Iraq",
          "Sweden",
          "Romania",
          "Belgium",
          "Pakistan",
          "Portugal",
          "Bangladesh",
          "Israel",
          "Hungary",
          "Japan",
          "Slovakia",
          "Jordan",
          "Serbia",
          "Malaysia",
          "Switzerland",
          "Austria",
          "Nepal",
          "United Arab Emirates",
          "Lebanon",
          "Morocco",
          "Saudi Arabia",
          "Kazakhstan",
          "Ecuador",
          "Bolivia",
          "Bulgaria",
          "Greece"
         ],
         "xaxis": "x",
         "y": [
          85874966,
          43245517,
          31541479,
          30123426,
          15085742,
          18113989,
          22612173,
          9313453,
          17703887,
          6117847,
          12515127,
          26915085,
          7234042,
          6010411,
          5833738,
          5284385,
          3592765,
          6062009,
          3979836,
          8214642,
          4189007,
          3834020,
          3921033,
          3693865,
          2330393,
          2510930,
          2912878,
          4177440,
          1531437,
          4985742,
          1954405,
          4198194,
          1921486,
          9077975,
          2545137,
          1697673,
          2020952,
          4530312,
          3701895,
          4330667,
          979278,
          920171,
          1101508,
          1177842,
          780135,
          1395068,
          890852,
          913362,
          1167314,
          3508610
         ],
         "yaxis": "y"
        },
        {
         "alignmentgroup": "True",
         "hovertemplate": "variable=6/15/22<br>Country/Region=%{x}<br>value=%{y}<extra></extra>",
         "legendgroup": "6/15/22",
         "marker": {
          "color": "#FF97FF",
          "pattern": {
           "shape": ""
          }
         },
         "name": "6/15/22",
         "offsetgroup": "6/15/22",
         "orientation": "v",
         "showlegend": true,
         "textposition": "auto",
         "texttemplate": "%{y}",
         "type": "bar",
         "x": [
          "US",
          "India",
          "Brazil",
          "France",
          "Turkey",
          "Russia",
          "United Kingdom",
          "Argentina",
          "Italy",
          "Colombia",
          "Spain",
          "Germany",
          "Iran",
          "Poland",
          "Mexico",
          "Ukraine",
          "Peru",
          "Indonesia",
          "South Africa",
          "Netherlands",
          "Czechia",
          "Chile",
          "Canada",
          "Philippines",
          "Iraq",
          "Sweden",
          "Romania",
          "Belgium",
          "Pakistan",
          "Portugal",
          "Bangladesh",
          "Israel",
          "Hungary",
          "Japan",
          "Slovakia",
          "Jordan",
          "Serbia",
          "Malaysia",
          "Switzerland",
          "Austria",
          "Nepal",
          "United Arab Emirates",
          "Lebanon",
          "Morocco",
          "Saudi Arabia",
          "Kazakhstan",
          "Ecuador",
          "Bolivia",
          "Bulgaria",
          "Greece"
         ],
         "xaxis": "x",
         "y": [
          86059878,
          43257730,
          31611769,
          30175534,
          15085742,
          18116672,
          22638832,
          9313453,
          17736696,
          6117847,
          12515127,
          27007429,
          7234221,
          6010643,
          5843190,
          5284420,
          3593625,
          6063251,
          3981739,
          8218556,
          4189550,
          3844668,
          3923353,
          3694121,
          2330735,
          2510930,
          2912878,
          4177440,
          1531581,
          5005783,
          1954637,
          4205416,
          1923122,
          9094519,
          2545409,
          1697673,
          2021264,
          4532632,
          3701895,
          4335007,
          979297,
          921566,
          1101508,
          1179474,
          781168,
          1395085,
          892176,
          913874,
          1167466,
          3517898
         ],
         "yaxis": "y"
        },
        {
         "alignmentgroup": "True",
         "hovertemplate": "variable=6/16/22<br>Country/Region=%{x}<br>value=%{y}<extra></extra>",
         "legendgroup": "6/16/22",
         "marker": {
          "color": "#FECB52",
          "pattern": {
           "shape": ""
          }
         },
         "name": "6/16/22",
         "offsetgroup": "6/16/22",
         "orientation": "v",
         "showlegend": true,
         "textposition": "auto",
         "texttemplate": "%{y}",
         "type": "bar",
         "x": [
          "US",
          "India",
          "Brazil",
          "France",
          "Turkey",
          "Russia",
          "United Kingdom",
          "Argentina",
          "Italy",
          "Colombia",
          "Spain",
          "Germany",
          "Iran",
          "Poland",
          "Mexico",
          "Ukraine",
          "Peru",
          "Indonesia",
          "South Africa",
          "Netherlands",
          "Czechia",
          "Chile",
          "Canada",
          "Philippines",
          "Iraq",
          "Sweden",
          "Romania",
          "Belgium",
          "Pakistan",
          "Portugal",
          "Bangladesh",
          "Israel",
          "Hungary",
          "Japan",
          "Slovakia",
          "Jordan",
          "Serbia",
          "Malaysia",
          "Switzerland",
          "Austria",
          "Nepal",
          "United Arab Emirates",
          "Lebanon",
          "Morocco",
          "Saudi Arabia",
          "Kazakhstan",
          "Ecuador",
          "Bolivia",
          "Bulgaria",
          "Greece"
         ],
         "xaxis": "x",
         "y": [
          86189884,
          43270577,
          31611769,
          30228615,
          15085742,
          18119934,
          22651908,
          9313453,
          17773764,
          6131657,
          12515127,
          27096571,
          7234367,
          6010871,
          5852596,
          5284484,
          3594977,
          6064424,
          3983675,
          8222722,
          4190033,
          3857643,
          3926127,
          3694529,
          2331148,
          2512853,
          2912878,
          4187940,
          1531679,
          5005783,
          1954994,
          4209564,
          1923122,
          9110063,
          2545651,
          1697673,
          2021601,
          4534665,
          3701895,
          4342311,
          979309,
          923001,
          1101508,
          1181042,
          782131,
          1395102,
          892176,
          914252,
          1167706,
          3525056
         ],
         "yaxis": "y"
        },
        {
         "alignmentgroup": "True",
         "hovertemplate": "variable=6/17/22<br>Country/Region=%{x}<br>value=%{y}<extra></extra>",
         "legendgroup": "6/17/22",
         "marker": {
          "color": "#636efa",
          "pattern": {
           "shape": ""
          }
         },
         "name": "6/17/22",
         "offsetgroup": "6/17/22",
         "orientation": "v",
         "showlegend": true,
         "textposition": "auto",
         "texttemplate": "%{y}",
         "type": "bar",
         "x": [
          "US",
          "India",
          "Brazil",
          "France",
          "Turkey",
          "Russia",
          "United Kingdom",
          "Argentina",
          "Italy",
          "Colombia",
          "Spain",
          "Germany",
          "Iran",
          "Poland",
          "Mexico",
          "Ukraine",
          "Peru",
          "Indonesia",
          "South Africa",
          "Netherlands",
          "Czechia",
          "Chile",
          "Canada",
          "Philippines",
          "Iraq",
          "Sweden",
          "Romania",
          "Belgium",
          "Pakistan",
          "Portugal",
          "Bangladesh",
          "Israel",
          "Hungary",
          "Japan",
          "Slovakia",
          "Jordan",
          "Serbia",
          "Malaysia",
          "Switzerland",
          "Austria",
          "Nepal",
          "United Arab Emirates",
          "Lebanon",
          "Morocco",
          "Saudi Arabia",
          "Kazakhstan",
          "Ecuador",
          "Bolivia",
          "Bulgaria",
          "Greece"
         ],
         "xaxis": "x",
         "y": [
          86328724,
          43283793,
          31611769,
          30279240,
          15085742,
          18123257,
          22664434,
          9313453,
          17809934,
          6131657,
          12563399,
          27124689,
          7234523,
          6010919,
          5852596,
          5284534,
          3596377,
          6065644,
          3984646,
          8227221,
          4190558,
          3870747,
          3927884,
          3695068,
          2331487,
          2512853,
          2912878,
          4187940,
          1531830,
          5005783,
          1955427,
          4220524,
          1923122,
          9124760,
          2545879,
          1697673,
          2021926,
          4536795,
          3701895,
          4349916,
          979333,
          924434,
          1102774,
          1182776,
          783076,
          1395123,
          896483,
          914827,
          1167914,
          3532260
         ],
         "yaxis": "y"
        },
        {
         "alignmentgroup": "True",
         "hovertemplate": "variable=6/18/22<br>Country/Region=%{x}<br>value=%{y}<extra></extra>",
         "legendgroup": "6/18/22",
         "marker": {
          "color": "#EF553B",
          "pattern": {
           "shape": ""
          }
         },
         "name": "6/18/22",
         "offsetgroup": "6/18/22",
         "orientation": "v",
         "showlegend": true,
         "textposition": "auto",
         "texttemplate": "%{y}",
         "type": "bar",
         "x": [
          "US",
          "India",
          "Brazil",
          "France",
          "Turkey",
          "Russia",
          "United Kingdom",
          "Argentina",
          "Italy",
          "Colombia",
          "Spain",
          "Germany",
          "Iran",
          "Poland",
          "Mexico",
          "Ukraine",
          "Peru",
          "Indonesia",
          "South Africa",
          "Netherlands",
          "Czechia",
          "Chile",
          "Canada",
          "Philippines",
          "Iraq",
          "Sweden",
          "Romania",
          "Belgium",
          "Pakistan",
          "Portugal",
          "Bangladesh",
          "Israel",
          "Hungary",
          "Japan",
          "Slovakia",
          "Jordan",
          "Serbia",
          "Malaysia",
          "Switzerland",
          "Austria",
          "Nepal",
          "United Arab Emirates",
          "Lebanon",
          "Morocco",
          "Saudi Arabia",
          "Kazakhstan",
          "Ecuador",
          "Bolivia",
          "Bulgaria",
          "Greece"
         ],
         "xaxis": "x",
         "y": [
          86346406,
          43296692,
          31611769,
          30279240,
          15085742,
          18126576,
          22664435,
          9313453,
          17844905,
          6131657,
          12563399,
          27124689,
          7234597,
          6011174,
          5852596,
          5284597,
          3597866,
          6066908,
          3984646,
          8227221,
          4190681,
          3882425,
          3931364,
          3695652,
          2331872,
          2512853,
          2912878,
          4187940,
          1531982,
          5005783,
          1955731,
          4226245,
          1923122,
          9139597,
          2546134,
          1697673,
          2022252,
          4538922,
          3701895,
          4349916,
          979344,
          925898,
          1103264,
          1184732,
          783907,
          1395148,
          896483,
          914827,
          1168035,
          3539423
         ],
         "yaxis": "y"
        },
        {
         "alignmentgroup": "True",
         "hovertemplate": "variable=6/19/22<br>Country/Region=%{x}<br>value=%{y}<extra></extra>",
         "legendgroup": "6/19/22",
         "marker": {
          "color": "#00cc96",
          "pattern": {
           "shape": ""
          }
         },
         "name": "6/19/22",
         "offsetgroup": "6/19/22",
         "orientation": "v",
         "showlegend": true,
         "textposition": "auto",
         "texttemplate": "%{y}",
         "type": "bar",
         "x": [
          "US",
          "India",
          "Brazil",
          "France",
          "Turkey",
          "Russia",
          "United Kingdom",
          "Argentina",
          "Italy",
          "Colombia",
          "Spain",
          "Germany",
          "Iran",
          "Poland",
          "Mexico",
          "Ukraine",
          "Peru",
          "Indonesia",
          "South Africa",
          "Netherlands",
          "Czechia",
          "Chile",
          "Canada",
          "Philippines",
          "Iraq",
          "Sweden",
          "Romania",
          "Belgium",
          "Pakistan",
          "Portugal",
          "Bangladesh",
          "Israel",
          "Hungary",
          "Japan",
          "Slovakia",
          "Jordan",
          "Serbia",
          "Malaysia",
          "Switzerland",
          "Austria",
          "Nepal",
          "United Arab Emirates",
          "Lebanon",
          "Morocco",
          "Saudi Arabia",
          "Kazakhstan",
          "Ecuador",
          "Bolivia",
          "Bulgaria",
          "Greece"
         ],
         "xaxis": "x",
         "y": [
          86364468,
          43309473,
          31611769,
          30279240,
          15085742,
          18129625,
          22664435,
          9341492,
          17879160,
          6131657,
          12563399,
          27124689,
          7234757,
          6011239,
          5875705,
          5284629,
          3599501,
          6068075,
          3986601,
          8227221,
          4190900,
          3893726,
          3931364,
          3696264,
          2332177,
          2512853,
          2912878,
          4187940,
          1532153,
          5005783,
          1956327,
          4233759,
          1923122,
          9152738,
          2546134,
          1697673,
          2022494,
          4540612,
          3701895,
          4349916,
          979362,
          927387,
          1103264,
          1185990,
          784837,
          1395167,
          896483,
          915500,
          1168127,
          3545112
         ],
         "yaxis": "y"
        },
        {
         "alignmentgroup": "True",
         "hovertemplate": "variable=6/20/22<br>Country/Region=%{x}<br>value=%{y}<extra></extra>",
         "legendgroup": "6/20/22",
         "marker": {
          "color": "#ab63fa",
          "pattern": {
           "shape": ""
          }
         },
         "name": "6/20/22",
         "offsetgroup": "6/20/22",
         "orientation": "v",
         "showlegend": true,
         "textposition": "auto",
         "texttemplate": "%{y}",
         "type": "bar",
         "x": [
          "US",
          "India",
          "Brazil",
          "France",
          "Turkey",
          "Russia",
          "United Kingdom",
          "Argentina",
          "Italy",
          "Colombia",
          "Spain",
          "Germany",
          "Iran",
          "Poland",
          "Mexico",
          "Ukraine",
          "Peru",
          "Indonesia",
          "South Africa",
          "Netherlands",
          "Czechia",
          "Chile",
          "Canada",
          "Philippines",
          "Iraq",
          "Sweden",
          "Romania",
          "Belgium",
          "Pakistan",
          "Portugal",
          "Bangladesh",
          "Israel",
          "Hungary",
          "Japan",
          "Slovakia",
          "Jordan",
          "Serbia",
          "Malaysia",
          "Switzerland",
          "Austria",
          "Nepal",
          "United Arab Emirates",
          "Lebanon",
          "Morocco",
          "Saudi Arabia",
          "Kazakhstan",
          "Ecuador",
          "Bolivia",
          "Bulgaria",
          "Greece"
         ],
         "xaxis": "x",
         "y": [
          86460474,
          43319396,
          31754465,
          30381221,
          15085742,
          18132261,
          22701557,
          9341492,
          17896065,
          6131657,
          12563399,
          27211896,
          7234988,
          6011286,
          5877837,
          5285704,
          3600993,
          6069255,
          3986892,
          8237473,
          4191530,
          3901215,
          3932637,
          3696793,
          2332692,
          2512853,
          2915487,
          4197345,
          1532266,
          5062552,
          1957200,
          4244453,
          1923122,
          9160533,
          2546346,
          1698316,
          2022902,
          4542705,
          3701895,
          4367190,
          979382,
          928919,
          1103711,
          1186597,
          786069,
          1395200,
          896483,
          916092,
          1168508,
          3549944
         ],
         "yaxis": "y"
        },
        {
         "alignmentgroup": "True",
         "hovertemplate": "variable=6/21/22<br>Country/Region=%{x}<br>value=%{y}<extra></extra>",
         "legendgroup": "6/21/22",
         "marker": {
          "color": "#FFA15A",
          "pattern": {
           "shape": ""
          }
         },
         "name": "6/21/22",
         "offsetgroup": "6/21/22",
         "orientation": "v",
         "showlegend": true,
         "textposition": "auto",
         "texttemplate": "%{y}",
         "type": "bar",
         "x": [
          "US",
          "India",
          "Brazil",
          "France",
          "Turkey",
          "Russia",
          "United Kingdom",
          "Argentina",
          "Italy",
          "Colombia",
          "Spain",
          "Germany",
          "Iran",
          "Poland",
          "Mexico",
          "Ukraine",
          "Peru",
          "Indonesia",
          "South Africa",
          "Netherlands",
          "Czechia",
          "Chile",
          "Canada",
          "Philippines",
          "Iraq",
          "Sweden",
          "Romania",
          "Belgium",
          "Pakistan",
          "Portugal",
          "Bangladesh",
          "Israel",
          "Hungary",
          "Japan",
          "Slovakia",
          "Jordan",
          "Serbia",
          "Malaysia",
          "Switzerland",
          "Austria",
          "Nepal",
          "United Arab Emirates",
          "Lebanon",
          "Morocco",
          "Saudi Arabia",
          "Kazakhstan",
          "Ecuador",
          "Bolivia",
          "Bulgaria",
          "Greece"
         ],
         "xaxis": "x",
         "y": [
          86571849,
          43331645,
          31818827,
          30476915,
          15085742,
          18134735,
          22717987,
          9341492,
          17959329,
          6131657,
          12613634,
          27334993,
          7235175,
          6011660,
          5891589,
          5285730,
          3603127,
          6070933,
          3986892,
          8242305,
          4192274,
          3906107,
          3935067,
          3697200,
          2333443,
          2512853,
          2915487,
          4197345,
          1532470,
          5080587,
          1958074,
          4255122,
          1923122,
          9175927,
          2546800,
          1698316,
          2023409,
          4544626,
          3726615,
          4372423,
          979396,
          930475,
          1104268,
          1189656,
          787212,
          1395200,
          898667,
          916092,
          1168818,
          3562524
         ],
         "yaxis": "y"
        },
        {
         "alignmentgroup": "True",
         "hovertemplate": "variable=6/22/22<br>Country/Region=%{x}<br>value=%{y}<extra></extra>",
         "legendgroup": "6/22/22",
         "marker": {
          "color": "#19d3f3",
          "pattern": {
           "shape": ""
          }
         },
         "name": "6/22/22",
         "offsetgroup": "6/22/22",
         "orientation": "v",
         "showlegend": true,
         "textposition": "auto",
         "texttemplate": "%{y}",
         "type": "bar",
         "x": [
          "US",
          "India",
          "Brazil",
          "France",
          "Turkey",
          "Russia",
          "United Kingdom",
          "Argentina",
          "Italy",
          "Colombia",
          "Spain",
          "Germany",
          "Iran",
          "Poland",
          "Mexico",
          "Ukraine",
          "Peru",
          "Indonesia",
          "South Africa",
          "Netherlands",
          "Czechia",
          "Chile",
          "Canada",
          "Philippines",
          "Iraq",
          "Sweden",
          "Romania",
          "Belgium",
          "Pakistan",
          "Portugal",
          "Bangladesh",
          "Israel",
          "Hungary",
          "Japan",
          "Slovakia",
          "Jordan",
          "Serbia",
          "Malaysia",
          "Switzerland",
          "Austria",
          "Nepal",
          "United Arab Emirates",
          "Lebanon",
          "Morocco",
          "Saudi Arabia",
          "Kazakhstan",
          "Ecuador",
          "Bolivia",
          "Bulgaria",
          "Greece"
         ],
         "xaxis": "x",
         "y": [
          86757228,
          43344958,
          31890733,
          30555038,
          15085742,
          18137759,
          22751393,
          9341492,
          18014202,
          6131657,
          12613634,
          27454225,
          7235440,
          6011984,
          5891589,
          5285764,
          3605614,
          6072918,
          3989007,
          8247488,
          4193111,
          3915653,
          3938040,
          3697793,
          2334375,
          2512853,
          2915487,
          4197345,
          1532738,
          5095959,
          1959209,
          4265869,
          1925083,
          9193205,
          2547229,
          1698316,
          2023889,
          4547051,
          3726615,
          4379778,
          979424,
          932067,
          1105129,
          1192797,
          788294,
          1395236,
          898667,
          917537,
          1169154,
          3573052
         ],
         "yaxis": "y"
        }
       ],
       "layout": {
        "barmode": "relative",
        "legend": {
         "title": {
          "text": "variable"
         },
         "tracegroupgap": 0
        },
        "template": {
         "data": {
          "bar": [
           {
            "error_x": {
             "color": "#2a3f5f"
            },
            "error_y": {
             "color": "#2a3f5f"
            },
            "marker": {
             "line": {
              "color": "#E5ECF6",
              "width": 0.5
             },
             "pattern": {
              "fillmode": "overlay",
              "size": 10,
              "solidity": 0.2
             }
            },
            "type": "bar"
           }
          ],
          "barpolar": [
           {
            "marker": {
             "line": {
              "color": "#E5ECF6",
              "width": 0.5
             },
             "pattern": {
              "fillmode": "overlay",
              "size": 10,
              "solidity": 0.2
             }
            },
            "type": "barpolar"
           }
          ],
          "carpet": [
           {
            "aaxis": {
             "endlinecolor": "#2a3f5f",
             "gridcolor": "white",
             "linecolor": "white",
             "minorgridcolor": "white",
             "startlinecolor": "#2a3f5f"
            },
            "baxis": {
             "endlinecolor": "#2a3f5f",
             "gridcolor": "white",
             "linecolor": "white",
             "minorgridcolor": "white",
             "startlinecolor": "#2a3f5f"
            },
            "type": "carpet"
           }
          ],
          "choropleth": [
           {
            "colorbar": {
             "outlinewidth": 0,
             "ticks": ""
            },
            "type": "choropleth"
           }
          ],
          "contour": [
           {
            "colorbar": {
             "outlinewidth": 0,
             "ticks": ""
            },
            "colorscale": [
             [
              0,
              "#0d0887"
             ],
             [
              0.1111111111111111,
              "#46039f"
             ],
             [
              0.2222222222222222,
              "#7201a8"
             ],
             [
              0.3333333333333333,
              "#9c179e"
             ],
             [
              0.4444444444444444,
              "#bd3786"
             ],
             [
              0.5555555555555556,
              "#d8576b"
             ],
             [
              0.6666666666666666,
              "#ed7953"
             ],
             [
              0.7777777777777778,
              "#fb9f3a"
             ],
             [
              0.8888888888888888,
              "#fdca26"
             ],
             [
              1,
              "#f0f921"
             ]
            ],
            "type": "contour"
           }
          ],
          "contourcarpet": [
           {
            "colorbar": {
             "outlinewidth": 0,
             "ticks": ""
            },
            "type": "contourcarpet"
           }
          ],
          "heatmap": [
           {
            "colorbar": {
             "outlinewidth": 0,
             "ticks": ""
            },
            "colorscale": [
             [
              0,
              "#0d0887"
             ],
             [
              0.1111111111111111,
              "#46039f"
             ],
             [
              0.2222222222222222,
              "#7201a8"
             ],
             [
              0.3333333333333333,
              "#9c179e"
             ],
             [
              0.4444444444444444,
              "#bd3786"
             ],
             [
              0.5555555555555556,
              "#d8576b"
             ],
             [
              0.6666666666666666,
              "#ed7953"
             ],
             [
              0.7777777777777778,
              "#fb9f3a"
             ],
             [
              0.8888888888888888,
              "#fdca26"
             ],
             [
              1,
              "#f0f921"
             ]
            ],
            "type": "heatmap"
           }
          ],
          "heatmapgl": [
           {
            "colorbar": {
             "outlinewidth": 0,
             "ticks": ""
            },
            "colorscale": [
             [
              0,
              "#0d0887"
             ],
             [
              0.1111111111111111,
              "#46039f"
             ],
             [
              0.2222222222222222,
              "#7201a8"
             ],
             [
              0.3333333333333333,
              "#9c179e"
             ],
             [
              0.4444444444444444,
              "#bd3786"
             ],
             [
              0.5555555555555556,
              "#d8576b"
             ],
             [
              0.6666666666666666,
              "#ed7953"
             ],
             [
              0.7777777777777778,
              "#fb9f3a"
             ],
             [
              0.8888888888888888,
              "#fdca26"
             ],
             [
              1,
              "#f0f921"
             ]
            ],
            "type": "heatmapgl"
           }
          ],
          "histogram": [
           {
            "marker": {
             "pattern": {
              "fillmode": "overlay",
              "size": 10,
              "solidity": 0.2
             }
            },
            "type": "histogram"
           }
          ],
          "histogram2d": [
           {
            "colorbar": {
             "outlinewidth": 0,
             "ticks": ""
            },
            "colorscale": [
             [
              0,
              "#0d0887"
             ],
             [
              0.1111111111111111,
              "#46039f"
             ],
             [
              0.2222222222222222,
              "#7201a8"
             ],
             [
              0.3333333333333333,
              "#9c179e"
             ],
             [
              0.4444444444444444,
              "#bd3786"
             ],
             [
              0.5555555555555556,
              "#d8576b"
             ],
             [
              0.6666666666666666,
              "#ed7953"
             ],
             [
              0.7777777777777778,
              "#fb9f3a"
             ],
             [
              0.8888888888888888,
              "#fdca26"
             ],
             [
              1,
              "#f0f921"
             ]
            ],
            "type": "histogram2d"
           }
          ],
          "histogram2dcontour": [
           {
            "colorbar": {
             "outlinewidth": 0,
             "ticks": ""
            },
            "colorscale": [
             [
              0,
              "#0d0887"
             ],
             [
              0.1111111111111111,
              "#46039f"
             ],
             [
              0.2222222222222222,
              "#7201a8"
             ],
             [
              0.3333333333333333,
              "#9c179e"
             ],
             [
              0.4444444444444444,
              "#bd3786"
             ],
             [
              0.5555555555555556,
              "#d8576b"
             ],
             [
              0.6666666666666666,
              "#ed7953"
             ],
             [
              0.7777777777777778,
              "#fb9f3a"
             ],
             [
              0.8888888888888888,
              "#fdca26"
             ],
             [
              1,
              "#f0f921"
             ]
            ],
            "type": "histogram2dcontour"
           }
          ],
          "mesh3d": [
           {
            "colorbar": {
             "outlinewidth": 0,
             "ticks": ""
            },
            "type": "mesh3d"
           }
          ],
          "parcoords": [
           {
            "line": {
             "colorbar": {
              "outlinewidth": 0,
              "ticks": ""
             }
            },
            "type": "parcoords"
           }
          ],
          "pie": [
           {
            "automargin": true,
            "type": "pie"
           }
          ],
          "scatter": [
           {
            "marker": {
             "colorbar": {
              "outlinewidth": 0,
              "ticks": ""
             }
            },
            "type": "scatter"
           }
          ],
          "scatter3d": [
           {
            "line": {
             "colorbar": {
              "outlinewidth": 0,
              "ticks": ""
             }
            },
            "marker": {
             "colorbar": {
              "outlinewidth": 0,
              "ticks": ""
             }
            },
            "type": "scatter3d"
           }
          ],
          "scattercarpet": [
           {
            "marker": {
             "colorbar": {
              "outlinewidth": 0,
              "ticks": ""
             }
            },
            "type": "scattercarpet"
           }
          ],
          "scattergeo": [
           {
            "marker": {
             "colorbar": {
              "outlinewidth": 0,
              "ticks": ""
             }
            },
            "type": "scattergeo"
           }
          ],
          "scattergl": [
           {
            "marker": {
             "colorbar": {
              "outlinewidth": 0,
              "ticks": ""
             }
            },
            "type": "scattergl"
           }
          ],
          "scattermapbox": [
           {
            "marker": {
             "colorbar": {
              "outlinewidth": 0,
              "ticks": ""
             }
            },
            "type": "scattermapbox"
           }
          ],
          "scatterpolar": [
           {
            "marker": {
             "colorbar": {
              "outlinewidth": 0,
              "ticks": ""
             }
            },
            "type": "scatterpolar"
           }
          ],
          "scatterpolargl": [
           {
            "marker": {
             "colorbar": {
              "outlinewidth": 0,
              "ticks": ""
             }
            },
            "type": "scatterpolargl"
           }
          ],
          "scatterternary": [
           {
            "marker": {
             "colorbar": {
              "outlinewidth": 0,
              "ticks": ""
             }
            },
            "type": "scatterternary"
           }
          ],
          "surface": [
           {
            "colorbar": {
             "outlinewidth": 0,
             "ticks": ""
            },
            "colorscale": [
             [
              0,
              "#0d0887"
             ],
             [
              0.1111111111111111,
              "#46039f"
             ],
             [
              0.2222222222222222,
              "#7201a8"
             ],
             [
              0.3333333333333333,
              "#9c179e"
             ],
             [
              0.4444444444444444,
              "#bd3786"
             ],
             [
              0.5555555555555556,
              "#d8576b"
             ],
             [
              0.6666666666666666,
              "#ed7953"
             ],
             [
              0.7777777777777778,
              "#fb9f3a"
             ],
             [
              0.8888888888888888,
              "#fdca26"
             ],
             [
              1,
              "#f0f921"
             ]
            ],
            "type": "surface"
           }
          ],
          "table": [
           {
            "cells": {
             "fill": {
              "color": "#EBF0F8"
             },
             "line": {
              "color": "white"
             }
            },
            "header": {
             "fill": {
              "color": "#C8D4E3"
             },
             "line": {
              "color": "white"
             }
            },
            "type": "table"
           }
          ]
         },
         "layout": {
          "annotationdefaults": {
           "arrowcolor": "#2a3f5f",
           "arrowhead": 0,
           "arrowwidth": 1
          },
          "autotypenumbers": "strict",
          "coloraxis": {
           "colorbar": {
            "outlinewidth": 0,
            "ticks": ""
           }
          },
          "colorscale": {
           "diverging": [
            [
             0,
             "#8e0152"
            ],
            [
             0.1,
             "#c51b7d"
            ],
            [
             0.2,
             "#de77ae"
            ],
            [
             0.3,
             "#f1b6da"
            ],
            [
             0.4,
             "#fde0ef"
            ],
            [
             0.5,
             "#f7f7f7"
            ],
            [
             0.6,
             "#e6f5d0"
            ],
            [
             0.7,
             "#b8e186"
            ],
            [
             0.8,
             "#7fbc41"
            ],
            [
             0.9,
             "#4d9221"
            ],
            [
             1,
             "#276419"
            ]
           ],
           "sequential": [
            [
             0,
             "#0d0887"
            ],
            [
             0.1111111111111111,
             "#46039f"
            ],
            [
             0.2222222222222222,
             "#7201a8"
            ],
            [
             0.3333333333333333,
             "#9c179e"
            ],
            [
             0.4444444444444444,
             "#bd3786"
            ],
            [
             0.5555555555555556,
             "#d8576b"
            ],
            [
             0.6666666666666666,
             "#ed7953"
            ],
            [
             0.7777777777777778,
             "#fb9f3a"
            ],
            [
             0.8888888888888888,
             "#fdca26"
            ],
            [
             1,
             "#f0f921"
            ]
           ],
           "sequentialminus": [
            [
             0,
             "#0d0887"
            ],
            [
             0.1111111111111111,
             "#46039f"
            ],
            [
             0.2222222222222222,
             "#7201a8"
            ],
            [
             0.3333333333333333,
             "#9c179e"
            ],
            [
             0.4444444444444444,
             "#bd3786"
            ],
            [
             0.5555555555555556,
             "#d8576b"
            ],
            [
             0.6666666666666666,
             "#ed7953"
            ],
            [
             0.7777777777777778,
             "#fb9f3a"
            ],
            [
             0.8888888888888888,
             "#fdca26"
            ],
            [
             1,
             "#f0f921"
            ]
           ]
          },
          "colorway": [
           "#636efa",
           "#EF553B",
           "#00cc96",
           "#ab63fa",
           "#FFA15A",
           "#19d3f3",
           "#FF6692",
           "#B6E880",
           "#FF97FF",
           "#FECB52"
          ],
          "font": {
           "color": "#2a3f5f"
          },
          "geo": {
           "bgcolor": "white",
           "lakecolor": "white",
           "landcolor": "#E5ECF6",
           "showlakes": true,
           "showland": true,
           "subunitcolor": "white"
          },
          "hoverlabel": {
           "align": "left"
          },
          "hovermode": "closest",
          "mapbox": {
           "style": "light"
          },
          "paper_bgcolor": "white",
          "plot_bgcolor": "#E5ECF6",
          "polar": {
           "angularaxis": {
            "gridcolor": "white",
            "linecolor": "white",
            "ticks": ""
           },
           "bgcolor": "#E5ECF6",
           "radialaxis": {
            "gridcolor": "white",
            "linecolor": "white",
            "ticks": ""
           }
          },
          "scene": {
           "xaxis": {
            "backgroundcolor": "#E5ECF6",
            "gridcolor": "white",
            "gridwidth": 2,
            "linecolor": "white",
            "showbackground": true,
            "ticks": "",
            "zerolinecolor": "white"
           },
           "yaxis": {
            "backgroundcolor": "#E5ECF6",
            "gridcolor": "white",
            "gridwidth": 2,
            "linecolor": "white",
            "showbackground": true,
            "ticks": "",
            "zerolinecolor": "white"
           },
           "zaxis": {
            "backgroundcolor": "#E5ECF6",
            "gridcolor": "white",
            "gridwidth": 2,
            "linecolor": "white",
            "showbackground": true,
            "ticks": "",
            "zerolinecolor": "white"
           }
          },
          "shapedefaults": {
           "line": {
            "color": "#2a3f5f"
           }
          },
          "ternary": {
           "aaxis": {
            "gridcolor": "white",
            "linecolor": "white",
            "ticks": ""
           },
           "baxis": {
            "gridcolor": "white",
            "linecolor": "white",
            "ticks": ""
           },
           "bgcolor": "#E5ECF6",
           "caxis": {
            "gridcolor": "white",
            "linecolor": "white",
            "ticks": ""
           }
          },
          "title": {
           "x": 0.05
          },
          "xaxis": {
           "automargin": true,
           "gridcolor": "white",
           "linecolor": "white",
           "ticks": "",
           "title": {
            "standoff": 15
           },
           "zerolinecolor": "white",
           "zerolinewidth": 2
          },
          "yaxis": {
           "automargin": true,
           "gridcolor": "white",
           "linecolor": "white",
           "ticks": "",
           "title": {
            "standoff": 15
           },
           "zerolinecolor": "white",
           "zerolinewidth": 2
          }
         }
        },
        "title": {
         "text": "Worldwide Confirmed Cases over time"
        },
        "xaxis": {
         "anchor": "y",
         "domain": [
          0,
          1
         ],
         "title": {
          "text": "Country/Region"
         }
        },
        "yaxis": {
         "anchor": "x",
         "domain": [
          0,
          1
         ],
         "title": {
          "text": "value"
         }
        }
       }
      },
      "text/html": [
       "<div>                            <div id=\"56e8bf7c-8d85-43cd-83d8-26c116e2382a\" class=\"plotly-graph-div\" style=\"height:525px; width:100%;\"></div>            <script type=\"text/javascript\">                require([\"plotly\"], function(Plotly) {                    window.PLOTLYENV=window.PLOTLYENV || {};                                    if (document.getElementById(\"56e8bf7c-8d85-43cd-83d8-26c116e2382a\")) {                    Plotly.newPlot(                        \"56e8bf7c-8d85-43cd-83d8-26c116e2382a\",                        [{\"alignmentgroup\":\"True\",\"hovertemplate\":\"variable=6/22/21<br>Country/Region=%{x}<br>value=%{y}<extra></extra>\",\"legendgroup\":\"6/22/21\",\"marker\":{\"color\":\"#636efa\",\"pattern\":{\"shape\":\"\"}},\"name\":\"6/22/21\",\"offsetgroup\":\"6/22/21\",\"orientation\":\"v\",\"showlegend\":true,\"textposition\":\"auto\",\"texttemplate\":\"%{y}\",\"x\":[\"US\",\"India\",\"Brazil\",\"France\",\"Turkey\",\"Russia\",\"United Kingdom\",\"Argentina\",\"Italy\",\"Colombia\",\"Spain\",\"Germany\",\"Iran\",\"Poland\",\"Mexico\",\"Ukraine\",\"Peru\",\"Indonesia\",\"South Africa\",\"Netherlands\",\"Czechia\",\"Chile\",\"Canada\",\"Philippines\",\"Iraq\",\"Sweden\",\"Romania\",\"Belgium\",\"Pakistan\",\"Portugal\",\"Bangladesh\",\"Israel\",\"Hungary\",\"Japan\",\"Slovakia\",\"Jordan\",\"Serbia\",\"Malaysia\",\"Switzerland\",\"Austria\",\"Nepal\",\"United Arab Emirates\",\"Lebanon\",\"Morocco\",\"Saudi Arabia\",\"Kazakhstan\",\"Ecuador\",\"Bolivia\",\"Bulgaria\",\"Greece\"],\"xaxis\":\"x\",\"y\":[33678349,30028709,18103412,5822022,5381736,5288766,4668030,4298782,4254294,3997021,3768691,3722782,3117336,2879030,2482784,2292295,2030611,2018113,1843572,1708533,1666192,1525933,1414880,1367894,1298703,1088014,1080323,1080035,950768,866826,861150,840079,807684,787305,774510,747504,715913,705762,702124,645162,626343,616160,543698,527174,476882,468398,447176,424478,421246,418943],\"yaxis\":\"y\",\"type\":\"bar\"},{\"alignmentgroup\":\"True\",\"hovertemplate\":\"variable=6/23/21<br>Country/Region=%{x}<br>value=%{y}<extra></extra>\",\"legendgroup\":\"6/23/21\",\"marker\":{\"color\":\"#EF553B\",\"pattern\":{\"shape\":\"\"}},\"name\":\"6/23/21\",\"offsetgroup\":\"6/23/21\",\"orientation\":\"v\",\"showlegend\":true,\"textposition\":\"auto\",\"texttemplate\":\"%{y}\",\"x\":[\"US\",\"India\",\"Brazil\",\"France\",\"Turkey\",\"Russia\",\"United Kingdom\",\"Argentina\",\"Italy\",\"Colombia\",\"Spain\",\"Germany\",\"Iran\",\"Poland\",\"Mexico\",\"Ukraine\",\"Peru\",\"Indonesia\",\"South Africa\",\"Netherlands\",\"Czechia\",\"Chile\",\"Canada\",\"Philippines\",\"Iraq\",\"Sweden\",\"Romania\",\"Belgium\",\"Pakistan\",\"Portugal\",\"Bangladesh\",\"Israel\",\"Hungary\",\"Japan\",\"Slovakia\",\"Jordan\",\"Serbia\",\"Malaysia\",\"Switzerland\",\"Austria\",\"Nepal\",\"United Arab Emirates\",\"Lebanon\",\"Morocco\",\"Saudi Arabia\",\"Kazakhstan\",\"Ecuador\",\"Bolivia\",\"Bulgaria\",\"Greece\"],\"xaxis\":\"x\",\"y\":[33690843,30082778,18180808,5824352,5387545,5306069,4683984,4326101,4255434,4027016,3773032,3723798,3128395,2879192,2487747,2293421,2033606,2033421,1861065,1709239,1666325,1528409,1415589,1372232,1305000,1088518,1080389,1081061,951865,868323,866877,840225,807775,789085,774575,748103,716016,711006,702278,645264,627854,618148,543865,527696,478135,469975,449107,426748,421339,419455],\"yaxis\":\"y\",\"type\":\"bar\"},{\"alignmentgroup\":\"True\",\"hovertemplate\":\"variable=6/24/21<br>Country/Region=%{x}<br>value=%{y}<extra></extra>\",\"legendgroup\":\"6/24/21\",\"marker\":{\"color\":\"#00cc96\",\"pattern\":{\"shape\":\"\"}},\"name\":\"6/24/21\",\"offsetgroup\":\"6/24/21\",\"orientation\":\"v\",\"showlegend\":true,\"textposition\":\"auto\",\"texttemplate\":\"%{y}\",\"x\":[\"US\",\"India\",\"Brazil\",\"France\",\"Turkey\",\"Russia\",\"United Kingdom\",\"Argentina\",\"Italy\",\"Colombia\",\"Spain\",\"Germany\",\"Iran\",\"Poland\",\"Mexico\",\"Ukraine\",\"Peru\",\"Indonesia\",\"South Africa\",\"Netherlands\",\"Czechia\",\"Chile\",\"Canada\",\"Philippines\",\"Iraq\",\"Sweden\",\"Romania\",\"Belgium\",\"Pakistan\",\"Portugal\",\"Bangladesh\",\"Israel\",\"Hungary\",\"Japan\",\"Slovakia\",\"Jordan\",\"Serbia\",\"Malaysia\",\"Switzerland\",\"Austria\",\"Nepal\",\"United Arab Emirates\",\"Lebanon\",\"Morocco\",\"Saudi Arabia\",\"Kazakhstan\",\"Ecuador\",\"Bolivia\",\"Bulgaria\",\"Greece\"],\"xaxis\":\"x\",\"y\":[33705042,30134445,18257432,5826360,5393248,5325940,4700708,4350564,4255700,4060013,3777539,3724806,3140129,2879336,2493087,2294669,2036449,2053995,1877143,1709902,1666521,1531872,1416297,1378260,1311093,1088896,1080457,1081908,952907,869879,872935,840444,807844,790759,774642,748685,716096,716847,702398,645380,629431,620309,544002,528180,479390,471498,449483,429178,421401,419909],\"yaxis\":\"y\",\"type\":\"bar\"},{\"alignmentgroup\":\"True\",\"hovertemplate\":\"variable=6/25/21<br>Country/Region=%{x}<br>value=%{y}<extra></extra>\",\"legendgroup\":\"6/25/21\",\"marker\":{\"color\":\"#ab63fa\",\"pattern\":{\"shape\":\"\"}},\"name\":\"6/25/21\",\"offsetgroup\":\"6/25/21\",\"orientation\":\"v\",\"showlegend\":true,\"textposition\":\"auto\",\"texttemplate\":\"%{y}\",\"x\":[\"US\",\"India\",\"Brazil\",\"France\",\"Turkey\",\"Russia\",\"United Kingdom\",\"Argentina\",\"Italy\",\"Colombia\",\"Spain\",\"Germany\",\"Iran\",\"Poland\",\"Mexico\",\"Ukraine\",\"Peru\",\"Indonesia\",\"South Africa\",\"Netherlands\",\"Czechia\",\"Chile\",\"Canada\",\"Philippines\",\"Iraq\",\"Sweden\",\"Romania\",\"Belgium\",\"Pakistan\",\"Portugal\",\"Bangladesh\",\"Israel\",\"Hungary\",\"Japan\",\"Slovakia\",\"Jordan\",\"Serbia\",\"Malaysia\",\"Switzerland\",\"Austria\",\"Nepal\",\"United Arab Emirates\",\"Lebanon\",\"Morocco\",\"Saudi Arabia\",\"Kazakhstan\",\"Ecuador\",\"Bolivia\",\"Bulgaria\",\"Greece\"],\"xaxis\":\"x\",\"y\":[33729561,30183143,18332493,5828348,5398878,5346005,4716039,4374587,4256451,4092746,3782463,3725580,3150949,2879470,2498357,2295873,2043262,2072867,1895905,1710463,1666686,1537471,1416935,1385053,1316418,1088896,1080522,1082476,953842,871483,878804,840638,807910,792469,774712,749046,716172,722659,702507,645479,631152,622532,544165,528731,480702,473228,452234,431360,421487,420295],\"yaxis\":\"y\",\"type\":\"bar\"},{\"alignmentgroup\":\"True\",\"hovertemplate\":\"variable=6/26/21<br>Country/Region=%{x}<br>value=%{y}<extra></extra>\",\"legendgroup\":\"6/26/21\",\"marker\":{\"color\":\"#FFA15A\",\"pattern\":{\"shape\":\"\"}},\"name\":\"6/26/21\",\"offsetgroup\":\"6/26/21\",\"orientation\":\"v\",\"showlegend\":true,\"textposition\":\"auto\",\"texttemplate\":\"%{y}\",\"x\":[\"US\",\"India\",\"Brazil\",\"France\",\"Turkey\",\"Russia\",\"United Kingdom\",\"Argentina\",\"Italy\",\"Colombia\",\"Spain\",\"Germany\",\"Iran\",\"Poland\",\"Mexico\",\"Ukraine\",\"Peru\",\"Indonesia\",\"South Africa\",\"Netherlands\",\"Czechia\",\"Chile\",\"Canada\",\"Philippines\",\"Iraq\",\"Sweden\",\"Romania\",\"Belgium\",\"Pakistan\",\"Portugal\",\"Bangladesh\",\"Israel\",\"Hungary\",\"Japan\",\"Slovakia\",\"Jordan\",\"Serbia\",\"Malaysia\",\"Switzerland\",\"Austria\",\"Nepal\",\"United Arab Emirates\",\"Lebanon\",\"Morocco\",\"Saudi Arabia\",\"Kazakhstan\",\"Ecuador\",\"Bolivia\",\"Bulgaria\",\"Greece\"],\"xaxis\":\"x\",\"y\":[33738623,30233183,18393158,5830476,5404144,5367317,4734015,4393142,4257289,4126340,3782463,3726172,3157983,2879569,2503408,2296982,2043262,2093962,1913861,1710972,1666821,1542642,1417455,1391911,1321232,1088896,1080584,1082476,954743,873051,883138,840823,807910,794100,774786,749319,716238,728462,702507,645587,632326,624814,544291,529224,482003,473282,453362,433013,421515,420670],\"yaxis\":\"y\",\"type\":\"bar\"},{\"alignmentgroup\":\"True\",\"hovertemplate\":\"variable=6/27/21<br>Country/Region=%{x}<br>value=%{y}<extra></extra>\",\"legendgroup\":\"6/27/21\",\"marker\":{\"color\":\"#19d3f3\",\"pattern\":{\"shape\":\"\"}},\"name\":\"6/27/21\",\"offsetgroup\":\"6/27/21\",\"orientation\":\"v\",\"showlegend\":true,\"textposition\":\"auto\",\"texttemplate\":\"%{y}\",\"x\":[\"US\",\"India\",\"Brazil\",\"France\",\"Turkey\",\"Russia\",\"United Kingdom\",\"Argentina\",\"Italy\",\"Colombia\",\"Spain\",\"Germany\",\"Iran\",\"Poland\",\"Mexico\",\"Ukraine\",\"Peru\",\"Indonesia\",\"South Africa\",\"Netherlands\",\"Czechia\",\"Chile\",\"Canada\",\"Philippines\",\"Iraq\",\"Sweden\",\"Romania\",\"Belgium\",\"Pakistan\",\"Portugal\",\"Bangladesh\",\"Israel\",\"Hungary\",\"Japan\",\"Slovakia\",\"Jordan\",\"Serbia\",\"Malaysia\",\"Switzerland\",\"Austria\",\"Nepal\",\"United Arab Emirates\",\"Lebanon\",\"Morocco\",\"Saudi Arabia\",\"Kazakhstan\",\"Ecuador\",\"Bolivia\",\"Bulgaria\",\"Greece\"],\"xaxis\":\"x\",\"y\":[33743282,30279331,18425138,5832110,5409027,5387486,4748673,4405247,4258069,4158716,3782463,3726710,3167741,2879638,2505792,2297801,2046057,2115304,1928897,1711530,1666890,1547103,1417858,1397992,1325700,1088896,1080630,1082476,955657,874547,888406,840888,807910,795382,774838,749784,716301,734048,702507,645704,633679,626936,544454,529676,483221,476740,454336,433935,421531,420905],\"yaxis\":\"y\",\"type\":\"bar\"},{\"alignmentgroup\":\"True\",\"hovertemplate\":\"variable=6/13/22<br>Country/Region=%{x}<br>value=%{y}<extra></extra>\",\"legendgroup\":\"6/13/22\",\"marker\":{\"color\":\"#FF6692\",\"pattern\":{\"shape\":\"\"}},\"name\":\"6/13/22\",\"offsetgroup\":\"6/13/22\",\"orientation\":\"v\",\"showlegend\":true,\"textposition\":\"auto\",\"texttemplate\":\"%{y}\",\"x\":[\"US\",\"India\",\"Brazil\",\"France\",\"Turkey\",\"Russia\",\"United Kingdom\",\"Argentina\",\"Italy\",\"Colombia\",\"Spain\",\"Germany\",\"Iran\",\"Poland\",\"Mexico\",\"Ukraine\",\"Peru\",\"Indonesia\",\"South Africa\",\"Netherlands\",\"Czechia\",\"Chile\",\"Canada\",\"Philippines\",\"Iraq\",\"Sweden\",\"Romania\",\"Belgium\",\"Pakistan\",\"Portugal\",\"Bangladesh\",\"Israel\",\"Hungary\",\"Japan\",\"Slovakia\",\"Jordan\",\"Serbia\",\"Malaysia\",\"Switzerland\",\"Austria\",\"Nepal\",\"United Arab Emirates\",\"Lebanon\",\"Morocco\",\"Saudi Arabia\",\"Kazakhstan\",\"Ecuador\",\"Bolivia\",\"Bulgaria\",\"Greece\"],\"xaxis\":\"x\",\"y\":[85784778,43236695,31497038,29946647,15078186,18111240,22600145,9276618,17664043,6117847,12478994,26809245,7233880,6010090,5823844,5284337,3591816,6061079,3979126,8211768,4188457,3829119,3918616,3693608,2330049,2510930,2912878,4177440,1531274,4917127,1954243,4189850,1921486,9062661,2544823,1697271,2020596,4528390,3685281,4327840,979271,918815,1101247,1176165,778983,1395061,890852,912869,1167147,3500489],\"yaxis\":\"y\",\"type\":\"bar\"},{\"alignmentgroup\":\"True\",\"hovertemplate\":\"variable=6/14/22<br>Country/Region=%{x}<br>value=%{y}<extra></extra>\",\"legendgroup\":\"6/14/22\",\"marker\":{\"color\":\"#B6E880\",\"pattern\":{\"shape\":\"\"}},\"name\":\"6/14/22\",\"offsetgroup\":\"6/14/22\",\"orientation\":\"v\",\"showlegend\":true,\"textposition\":\"auto\",\"texttemplate\":\"%{y}\",\"x\":[\"US\",\"India\",\"Brazil\",\"France\",\"Turkey\",\"Russia\",\"United Kingdom\",\"Argentina\",\"Italy\",\"Colombia\",\"Spain\",\"Germany\",\"Iran\",\"Poland\",\"Mexico\",\"Ukraine\",\"Peru\",\"Indonesia\",\"South Africa\",\"Netherlands\",\"Czechia\",\"Chile\",\"Canada\",\"Philippines\",\"Iraq\",\"Sweden\",\"Romania\",\"Belgium\",\"Pakistan\",\"Portugal\",\"Bangladesh\",\"Israel\",\"Hungary\",\"Japan\",\"Slovakia\",\"Jordan\",\"Serbia\",\"Malaysia\",\"Switzerland\",\"Austria\",\"Nepal\",\"United Arab Emirates\",\"Lebanon\",\"Morocco\",\"Saudi Arabia\",\"Kazakhstan\",\"Ecuador\",\"Bolivia\",\"Bulgaria\",\"Greece\"],\"xaxis\":\"x\",\"y\":[85874966,43245517,31541479,30123426,15085742,18113989,22612173,9313453,17703887,6117847,12515127,26915085,7234042,6010411,5833738,5284385,3592765,6062009,3979836,8214642,4189007,3834020,3921033,3693865,2330393,2510930,2912878,4177440,1531437,4985742,1954405,4198194,1921486,9077975,2545137,1697673,2020952,4530312,3701895,4330667,979278,920171,1101508,1177842,780135,1395068,890852,913362,1167314,3508610],\"yaxis\":\"y\",\"type\":\"bar\"},{\"alignmentgroup\":\"True\",\"hovertemplate\":\"variable=6/15/22<br>Country/Region=%{x}<br>value=%{y}<extra></extra>\",\"legendgroup\":\"6/15/22\",\"marker\":{\"color\":\"#FF97FF\",\"pattern\":{\"shape\":\"\"}},\"name\":\"6/15/22\",\"offsetgroup\":\"6/15/22\",\"orientation\":\"v\",\"showlegend\":true,\"textposition\":\"auto\",\"texttemplate\":\"%{y}\",\"x\":[\"US\",\"India\",\"Brazil\",\"France\",\"Turkey\",\"Russia\",\"United Kingdom\",\"Argentina\",\"Italy\",\"Colombia\",\"Spain\",\"Germany\",\"Iran\",\"Poland\",\"Mexico\",\"Ukraine\",\"Peru\",\"Indonesia\",\"South Africa\",\"Netherlands\",\"Czechia\",\"Chile\",\"Canada\",\"Philippines\",\"Iraq\",\"Sweden\",\"Romania\",\"Belgium\",\"Pakistan\",\"Portugal\",\"Bangladesh\",\"Israel\",\"Hungary\",\"Japan\",\"Slovakia\",\"Jordan\",\"Serbia\",\"Malaysia\",\"Switzerland\",\"Austria\",\"Nepal\",\"United Arab Emirates\",\"Lebanon\",\"Morocco\",\"Saudi Arabia\",\"Kazakhstan\",\"Ecuador\",\"Bolivia\",\"Bulgaria\",\"Greece\"],\"xaxis\":\"x\",\"y\":[86059878,43257730,31611769,30175534,15085742,18116672,22638832,9313453,17736696,6117847,12515127,27007429,7234221,6010643,5843190,5284420,3593625,6063251,3981739,8218556,4189550,3844668,3923353,3694121,2330735,2510930,2912878,4177440,1531581,5005783,1954637,4205416,1923122,9094519,2545409,1697673,2021264,4532632,3701895,4335007,979297,921566,1101508,1179474,781168,1395085,892176,913874,1167466,3517898],\"yaxis\":\"y\",\"type\":\"bar\"},{\"alignmentgroup\":\"True\",\"hovertemplate\":\"variable=6/16/22<br>Country/Region=%{x}<br>value=%{y}<extra></extra>\",\"legendgroup\":\"6/16/22\",\"marker\":{\"color\":\"#FECB52\",\"pattern\":{\"shape\":\"\"}},\"name\":\"6/16/22\",\"offsetgroup\":\"6/16/22\",\"orientation\":\"v\",\"showlegend\":true,\"textposition\":\"auto\",\"texttemplate\":\"%{y}\",\"x\":[\"US\",\"India\",\"Brazil\",\"France\",\"Turkey\",\"Russia\",\"United Kingdom\",\"Argentina\",\"Italy\",\"Colombia\",\"Spain\",\"Germany\",\"Iran\",\"Poland\",\"Mexico\",\"Ukraine\",\"Peru\",\"Indonesia\",\"South Africa\",\"Netherlands\",\"Czechia\",\"Chile\",\"Canada\",\"Philippines\",\"Iraq\",\"Sweden\",\"Romania\",\"Belgium\",\"Pakistan\",\"Portugal\",\"Bangladesh\",\"Israel\",\"Hungary\",\"Japan\",\"Slovakia\",\"Jordan\",\"Serbia\",\"Malaysia\",\"Switzerland\",\"Austria\",\"Nepal\",\"United Arab Emirates\",\"Lebanon\",\"Morocco\",\"Saudi Arabia\",\"Kazakhstan\",\"Ecuador\",\"Bolivia\",\"Bulgaria\",\"Greece\"],\"xaxis\":\"x\",\"y\":[86189884,43270577,31611769,30228615,15085742,18119934,22651908,9313453,17773764,6131657,12515127,27096571,7234367,6010871,5852596,5284484,3594977,6064424,3983675,8222722,4190033,3857643,3926127,3694529,2331148,2512853,2912878,4187940,1531679,5005783,1954994,4209564,1923122,9110063,2545651,1697673,2021601,4534665,3701895,4342311,979309,923001,1101508,1181042,782131,1395102,892176,914252,1167706,3525056],\"yaxis\":\"y\",\"type\":\"bar\"},{\"alignmentgroup\":\"True\",\"hovertemplate\":\"variable=6/17/22<br>Country/Region=%{x}<br>value=%{y}<extra></extra>\",\"legendgroup\":\"6/17/22\",\"marker\":{\"color\":\"#636efa\",\"pattern\":{\"shape\":\"\"}},\"name\":\"6/17/22\",\"offsetgroup\":\"6/17/22\",\"orientation\":\"v\",\"showlegend\":true,\"textposition\":\"auto\",\"texttemplate\":\"%{y}\",\"x\":[\"US\",\"India\",\"Brazil\",\"France\",\"Turkey\",\"Russia\",\"United Kingdom\",\"Argentina\",\"Italy\",\"Colombia\",\"Spain\",\"Germany\",\"Iran\",\"Poland\",\"Mexico\",\"Ukraine\",\"Peru\",\"Indonesia\",\"South Africa\",\"Netherlands\",\"Czechia\",\"Chile\",\"Canada\",\"Philippines\",\"Iraq\",\"Sweden\",\"Romania\",\"Belgium\",\"Pakistan\",\"Portugal\",\"Bangladesh\",\"Israel\",\"Hungary\",\"Japan\",\"Slovakia\",\"Jordan\",\"Serbia\",\"Malaysia\",\"Switzerland\",\"Austria\",\"Nepal\",\"United Arab Emirates\",\"Lebanon\",\"Morocco\",\"Saudi Arabia\",\"Kazakhstan\",\"Ecuador\",\"Bolivia\",\"Bulgaria\",\"Greece\"],\"xaxis\":\"x\",\"y\":[86328724,43283793,31611769,30279240,15085742,18123257,22664434,9313453,17809934,6131657,12563399,27124689,7234523,6010919,5852596,5284534,3596377,6065644,3984646,8227221,4190558,3870747,3927884,3695068,2331487,2512853,2912878,4187940,1531830,5005783,1955427,4220524,1923122,9124760,2545879,1697673,2021926,4536795,3701895,4349916,979333,924434,1102774,1182776,783076,1395123,896483,914827,1167914,3532260],\"yaxis\":\"y\",\"type\":\"bar\"},{\"alignmentgroup\":\"True\",\"hovertemplate\":\"variable=6/18/22<br>Country/Region=%{x}<br>value=%{y}<extra></extra>\",\"legendgroup\":\"6/18/22\",\"marker\":{\"color\":\"#EF553B\",\"pattern\":{\"shape\":\"\"}},\"name\":\"6/18/22\",\"offsetgroup\":\"6/18/22\",\"orientation\":\"v\",\"showlegend\":true,\"textposition\":\"auto\",\"texttemplate\":\"%{y}\",\"x\":[\"US\",\"India\",\"Brazil\",\"France\",\"Turkey\",\"Russia\",\"United Kingdom\",\"Argentina\",\"Italy\",\"Colombia\",\"Spain\",\"Germany\",\"Iran\",\"Poland\",\"Mexico\",\"Ukraine\",\"Peru\",\"Indonesia\",\"South Africa\",\"Netherlands\",\"Czechia\",\"Chile\",\"Canada\",\"Philippines\",\"Iraq\",\"Sweden\",\"Romania\",\"Belgium\",\"Pakistan\",\"Portugal\",\"Bangladesh\",\"Israel\",\"Hungary\",\"Japan\",\"Slovakia\",\"Jordan\",\"Serbia\",\"Malaysia\",\"Switzerland\",\"Austria\",\"Nepal\",\"United Arab Emirates\",\"Lebanon\",\"Morocco\",\"Saudi Arabia\",\"Kazakhstan\",\"Ecuador\",\"Bolivia\",\"Bulgaria\",\"Greece\"],\"xaxis\":\"x\",\"y\":[86346406,43296692,31611769,30279240,15085742,18126576,22664435,9313453,17844905,6131657,12563399,27124689,7234597,6011174,5852596,5284597,3597866,6066908,3984646,8227221,4190681,3882425,3931364,3695652,2331872,2512853,2912878,4187940,1531982,5005783,1955731,4226245,1923122,9139597,2546134,1697673,2022252,4538922,3701895,4349916,979344,925898,1103264,1184732,783907,1395148,896483,914827,1168035,3539423],\"yaxis\":\"y\",\"type\":\"bar\"},{\"alignmentgroup\":\"True\",\"hovertemplate\":\"variable=6/19/22<br>Country/Region=%{x}<br>value=%{y}<extra></extra>\",\"legendgroup\":\"6/19/22\",\"marker\":{\"color\":\"#00cc96\",\"pattern\":{\"shape\":\"\"}},\"name\":\"6/19/22\",\"offsetgroup\":\"6/19/22\",\"orientation\":\"v\",\"showlegend\":true,\"textposition\":\"auto\",\"texttemplate\":\"%{y}\",\"x\":[\"US\",\"India\",\"Brazil\",\"France\",\"Turkey\",\"Russia\",\"United Kingdom\",\"Argentina\",\"Italy\",\"Colombia\",\"Spain\",\"Germany\",\"Iran\",\"Poland\",\"Mexico\",\"Ukraine\",\"Peru\",\"Indonesia\",\"South Africa\",\"Netherlands\",\"Czechia\",\"Chile\",\"Canada\",\"Philippines\",\"Iraq\",\"Sweden\",\"Romania\",\"Belgium\",\"Pakistan\",\"Portugal\",\"Bangladesh\",\"Israel\",\"Hungary\",\"Japan\",\"Slovakia\",\"Jordan\",\"Serbia\",\"Malaysia\",\"Switzerland\",\"Austria\",\"Nepal\",\"United Arab Emirates\",\"Lebanon\",\"Morocco\",\"Saudi Arabia\",\"Kazakhstan\",\"Ecuador\",\"Bolivia\",\"Bulgaria\",\"Greece\"],\"xaxis\":\"x\",\"y\":[86364468,43309473,31611769,30279240,15085742,18129625,22664435,9341492,17879160,6131657,12563399,27124689,7234757,6011239,5875705,5284629,3599501,6068075,3986601,8227221,4190900,3893726,3931364,3696264,2332177,2512853,2912878,4187940,1532153,5005783,1956327,4233759,1923122,9152738,2546134,1697673,2022494,4540612,3701895,4349916,979362,927387,1103264,1185990,784837,1395167,896483,915500,1168127,3545112],\"yaxis\":\"y\",\"type\":\"bar\"},{\"alignmentgroup\":\"True\",\"hovertemplate\":\"variable=6/20/22<br>Country/Region=%{x}<br>value=%{y}<extra></extra>\",\"legendgroup\":\"6/20/22\",\"marker\":{\"color\":\"#ab63fa\",\"pattern\":{\"shape\":\"\"}},\"name\":\"6/20/22\",\"offsetgroup\":\"6/20/22\",\"orientation\":\"v\",\"showlegend\":true,\"textposition\":\"auto\",\"texttemplate\":\"%{y}\",\"x\":[\"US\",\"India\",\"Brazil\",\"France\",\"Turkey\",\"Russia\",\"United Kingdom\",\"Argentina\",\"Italy\",\"Colombia\",\"Spain\",\"Germany\",\"Iran\",\"Poland\",\"Mexico\",\"Ukraine\",\"Peru\",\"Indonesia\",\"South Africa\",\"Netherlands\",\"Czechia\",\"Chile\",\"Canada\",\"Philippines\",\"Iraq\",\"Sweden\",\"Romania\",\"Belgium\",\"Pakistan\",\"Portugal\",\"Bangladesh\",\"Israel\",\"Hungary\",\"Japan\",\"Slovakia\",\"Jordan\",\"Serbia\",\"Malaysia\",\"Switzerland\",\"Austria\",\"Nepal\",\"United Arab Emirates\",\"Lebanon\",\"Morocco\",\"Saudi Arabia\",\"Kazakhstan\",\"Ecuador\",\"Bolivia\",\"Bulgaria\",\"Greece\"],\"xaxis\":\"x\",\"y\":[86460474,43319396,31754465,30381221,15085742,18132261,22701557,9341492,17896065,6131657,12563399,27211896,7234988,6011286,5877837,5285704,3600993,6069255,3986892,8237473,4191530,3901215,3932637,3696793,2332692,2512853,2915487,4197345,1532266,5062552,1957200,4244453,1923122,9160533,2546346,1698316,2022902,4542705,3701895,4367190,979382,928919,1103711,1186597,786069,1395200,896483,916092,1168508,3549944],\"yaxis\":\"y\",\"type\":\"bar\"},{\"alignmentgroup\":\"True\",\"hovertemplate\":\"variable=6/21/22<br>Country/Region=%{x}<br>value=%{y}<extra></extra>\",\"legendgroup\":\"6/21/22\",\"marker\":{\"color\":\"#FFA15A\",\"pattern\":{\"shape\":\"\"}},\"name\":\"6/21/22\",\"offsetgroup\":\"6/21/22\",\"orientation\":\"v\",\"showlegend\":true,\"textposition\":\"auto\",\"texttemplate\":\"%{y}\",\"x\":[\"US\",\"India\",\"Brazil\",\"France\",\"Turkey\",\"Russia\",\"United Kingdom\",\"Argentina\",\"Italy\",\"Colombia\",\"Spain\",\"Germany\",\"Iran\",\"Poland\",\"Mexico\",\"Ukraine\",\"Peru\",\"Indonesia\",\"South Africa\",\"Netherlands\",\"Czechia\",\"Chile\",\"Canada\",\"Philippines\",\"Iraq\",\"Sweden\",\"Romania\",\"Belgium\",\"Pakistan\",\"Portugal\",\"Bangladesh\",\"Israel\",\"Hungary\",\"Japan\",\"Slovakia\",\"Jordan\",\"Serbia\",\"Malaysia\",\"Switzerland\",\"Austria\",\"Nepal\",\"United Arab Emirates\",\"Lebanon\",\"Morocco\",\"Saudi Arabia\",\"Kazakhstan\",\"Ecuador\",\"Bolivia\",\"Bulgaria\",\"Greece\"],\"xaxis\":\"x\",\"y\":[86571849,43331645,31818827,30476915,15085742,18134735,22717987,9341492,17959329,6131657,12613634,27334993,7235175,6011660,5891589,5285730,3603127,6070933,3986892,8242305,4192274,3906107,3935067,3697200,2333443,2512853,2915487,4197345,1532470,5080587,1958074,4255122,1923122,9175927,2546800,1698316,2023409,4544626,3726615,4372423,979396,930475,1104268,1189656,787212,1395200,898667,916092,1168818,3562524],\"yaxis\":\"y\",\"type\":\"bar\"},{\"alignmentgroup\":\"True\",\"hovertemplate\":\"variable=6/22/22<br>Country/Region=%{x}<br>value=%{y}<extra></extra>\",\"legendgroup\":\"6/22/22\",\"marker\":{\"color\":\"#19d3f3\",\"pattern\":{\"shape\":\"\"}},\"name\":\"6/22/22\",\"offsetgroup\":\"6/22/22\",\"orientation\":\"v\",\"showlegend\":true,\"textposition\":\"auto\",\"texttemplate\":\"%{y}\",\"x\":[\"US\",\"India\",\"Brazil\",\"France\",\"Turkey\",\"Russia\",\"United Kingdom\",\"Argentina\",\"Italy\",\"Colombia\",\"Spain\",\"Germany\",\"Iran\",\"Poland\",\"Mexico\",\"Ukraine\",\"Peru\",\"Indonesia\",\"South Africa\",\"Netherlands\",\"Czechia\",\"Chile\",\"Canada\",\"Philippines\",\"Iraq\",\"Sweden\",\"Romania\",\"Belgium\",\"Pakistan\",\"Portugal\",\"Bangladesh\",\"Israel\",\"Hungary\",\"Japan\",\"Slovakia\",\"Jordan\",\"Serbia\",\"Malaysia\",\"Switzerland\",\"Austria\",\"Nepal\",\"United Arab Emirates\",\"Lebanon\",\"Morocco\",\"Saudi Arabia\",\"Kazakhstan\",\"Ecuador\",\"Bolivia\",\"Bulgaria\",\"Greece\"],\"xaxis\":\"x\",\"y\":[86757228,43344958,31890733,30555038,15085742,18137759,22751393,9341492,18014202,6131657,12613634,27454225,7235440,6011984,5891589,5285764,3605614,6072918,3989007,8247488,4193111,3915653,3938040,3697793,2334375,2512853,2915487,4197345,1532738,5095959,1959209,4265869,1925083,9193205,2547229,1698316,2023889,4547051,3726615,4379778,979424,932067,1105129,1192797,788294,1395236,898667,917537,1169154,3573052],\"yaxis\":\"y\",\"type\":\"bar\"}],                        {\"template\":{\"data\":{\"bar\":[{\"error_x\":{\"color\":\"#2a3f5f\"},\"error_y\":{\"color\":\"#2a3f5f\"},\"marker\":{\"line\":{\"color\":\"#E5ECF6\",\"width\":0.5},\"pattern\":{\"fillmode\":\"overlay\",\"size\":10,\"solidity\":0.2}},\"type\":\"bar\"}],\"barpolar\":[{\"marker\":{\"line\":{\"color\":\"#E5ECF6\",\"width\":0.5},\"pattern\":{\"fillmode\":\"overlay\",\"size\":10,\"solidity\":0.2}},\"type\":\"barpolar\"}],\"carpet\":[{\"aaxis\":{\"endlinecolor\":\"#2a3f5f\",\"gridcolor\":\"white\",\"linecolor\":\"white\",\"minorgridcolor\":\"white\",\"startlinecolor\":\"#2a3f5f\"},\"baxis\":{\"endlinecolor\":\"#2a3f5f\",\"gridcolor\":\"white\",\"linecolor\":\"white\",\"minorgridcolor\":\"white\",\"startlinecolor\":\"#2a3f5f\"},\"type\":\"carpet\"}],\"choropleth\":[{\"colorbar\":{\"outlinewidth\":0,\"ticks\":\"\"},\"type\":\"choropleth\"}],\"contour\":[{\"colorbar\":{\"outlinewidth\":0,\"ticks\":\"\"},\"colorscale\":[[0.0,\"#0d0887\"],[0.1111111111111111,\"#46039f\"],[0.2222222222222222,\"#7201a8\"],[0.3333333333333333,\"#9c179e\"],[0.4444444444444444,\"#bd3786\"],[0.5555555555555556,\"#d8576b\"],[0.6666666666666666,\"#ed7953\"],[0.7777777777777778,\"#fb9f3a\"],[0.8888888888888888,\"#fdca26\"],[1.0,\"#f0f921\"]],\"type\":\"contour\"}],\"contourcarpet\":[{\"colorbar\":{\"outlinewidth\":0,\"ticks\":\"\"},\"type\":\"contourcarpet\"}],\"heatmap\":[{\"colorbar\":{\"outlinewidth\":0,\"ticks\":\"\"},\"colorscale\":[[0.0,\"#0d0887\"],[0.1111111111111111,\"#46039f\"],[0.2222222222222222,\"#7201a8\"],[0.3333333333333333,\"#9c179e\"],[0.4444444444444444,\"#bd3786\"],[0.5555555555555556,\"#d8576b\"],[0.6666666666666666,\"#ed7953\"],[0.7777777777777778,\"#fb9f3a\"],[0.8888888888888888,\"#fdca26\"],[1.0,\"#f0f921\"]],\"type\":\"heatmap\"}],\"heatmapgl\":[{\"colorbar\":{\"outlinewidth\":0,\"ticks\":\"\"},\"colorscale\":[[0.0,\"#0d0887\"],[0.1111111111111111,\"#46039f\"],[0.2222222222222222,\"#7201a8\"],[0.3333333333333333,\"#9c179e\"],[0.4444444444444444,\"#bd3786\"],[0.5555555555555556,\"#d8576b\"],[0.6666666666666666,\"#ed7953\"],[0.7777777777777778,\"#fb9f3a\"],[0.8888888888888888,\"#fdca26\"],[1.0,\"#f0f921\"]],\"type\":\"heatmapgl\"}],\"histogram\":[{\"marker\":{\"pattern\":{\"fillmode\":\"overlay\",\"size\":10,\"solidity\":0.2}},\"type\":\"histogram\"}],\"histogram2d\":[{\"colorbar\":{\"outlinewidth\":0,\"ticks\":\"\"},\"colorscale\":[[0.0,\"#0d0887\"],[0.1111111111111111,\"#46039f\"],[0.2222222222222222,\"#7201a8\"],[0.3333333333333333,\"#9c179e\"],[0.4444444444444444,\"#bd3786\"],[0.5555555555555556,\"#d8576b\"],[0.6666666666666666,\"#ed7953\"],[0.7777777777777778,\"#fb9f3a\"],[0.8888888888888888,\"#fdca26\"],[1.0,\"#f0f921\"]],\"type\":\"histogram2d\"}],\"histogram2dcontour\":[{\"colorbar\":{\"outlinewidth\":0,\"ticks\":\"\"},\"colorscale\":[[0.0,\"#0d0887\"],[0.1111111111111111,\"#46039f\"],[0.2222222222222222,\"#7201a8\"],[0.3333333333333333,\"#9c179e\"],[0.4444444444444444,\"#bd3786\"],[0.5555555555555556,\"#d8576b\"],[0.6666666666666666,\"#ed7953\"],[0.7777777777777778,\"#fb9f3a\"],[0.8888888888888888,\"#fdca26\"],[1.0,\"#f0f921\"]],\"type\":\"histogram2dcontour\"}],\"mesh3d\":[{\"colorbar\":{\"outlinewidth\":0,\"ticks\":\"\"},\"type\":\"mesh3d\"}],\"parcoords\":[{\"line\":{\"colorbar\":{\"outlinewidth\":0,\"ticks\":\"\"}},\"type\":\"parcoords\"}],\"pie\":[{\"automargin\":true,\"type\":\"pie\"}],\"scatter\":[{\"marker\":{\"colorbar\":{\"outlinewidth\":0,\"ticks\":\"\"}},\"type\":\"scatter\"}],\"scatter3d\":[{\"line\":{\"colorbar\":{\"outlinewidth\":0,\"ticks\":\"\"}},\"marker\":{\"colorbar\":{\"outlinewidth\":0,\"ticks\":\"\"}},\"type\":\"scatter3d\"}],\"scattercarpet\":[{\"marker\":{\"colorbar\":{\"outlinewidth\":0,\"ticks\":\"\"}},\"type\":\"scattercarpet\"}],\"scattergeo\":[{\"marker\":{\"colorbar\":{\"outlinewidth\":0,\"ticks\":\"\"}},\"type\":\"scattergeo\"}],\"scattergl\":[{\"marker\":{\"colorbar\":{\"outlinewidth\":0,\"ticks\":\"\"}},\"type\":\"scattergl\"}],\"scattermapbox\":[{\"marker\":{\"colorbar\":{\"outlinewidth\":0,\"ticks\":\"\"}},\"type\":\"scattermapbox\"}],\"scatterpolar\":[{\"marker\":{\"colorbar\":{\"outlinewidth\":0,\"ticks\":\"\"}},\"type\":\"scatterpolar\"}],\"scatterpolargl\":[{\"marker\":{\"colorbar\":{\"outlinewidth\":0,\"ticks\":\"\"}},\"type\":\"scatterpolargl\"}],\"scatterternary\":[{\"marker\":{\"colorbar\":{\"outlinewidth\":0,\"ticks\":\"\"}},\"type\":\"scatterternary\"}],\"surface\":[{\"colorbar\":{\"outlinewidth\":0,\"ticks\":\"\"},\"colorscale\":[[0.0,\"#0d0887\"],[0.1111111111111111,\"#46039f\"],[0.2222222222222222,\"#7201a8\"],[0.3333333333333333,\"#9c179e\"],[0.4444444444444444,\"#bd3786\"],[0.5555555555555556,\"#d8576b\"],[0.6666666666666666,\"#ed7953\"],[0.7777777777777778,\"#fb9f3a\"],[0.8888888888888888,\"#fdca26\"],[1.0,\"#f0f921\"]],\"type\":\"surface\"}],\"table\":[{\"cells\":{\"fill\":{\"color\":\"#EBF0F8\"},\"line\":{\"color\":\"white\"}},\"header\":{\"fill\":{\"color\":\"#C8D4E3\"},\"line\":{\"color\":\"white\"}},\"type\":\"table\"}]},\"layout\":{\"annotationdefaults\":{\"arrowcolor\":\"#2a3f5f\",\"arrowhead\":0,\"arrowwidth\":1},\"autotypenumbers\":\"strict\",\"coloraxis\":{\"colorbar\":{\"outlinewidth\":0,\"ticks\":\"\"}},\"colorscale\":{\"diverging\":[[0,\"#8e0152\"],[0.1,\"#c51b7d\"],[0.2,\"#de77ae\"],[0.3,\"#f1b6da\"],[0.4,\"#fde0ef\"],[0.5,\"#f7f7f7\"],[0.6,\"#e6f5d0\"],[0.7,\"#b8e186\"],[0.8,\"#7fbc41\"],[0.9,\"#4d9221\"],[1,\"#276419\"]],\"sequential\":[[0.0,\"#0d0887\"],[0.1111111111111111,\"#46039f\"],[0.2222222222222222,\"#7201a8\"],[0.3333333333333333,\"#9c179e\"],[0.4444444444444444,\"#bd3786\"],[0.5555555555555556,\"#d8576b\"],[0.6666666666666666,\"#ed7953\"],[0.7777777777777778,\"#fb9f3a\"],[0.8888888888888888,\"#fdca26\"],[1.0,\"#f0f921\"]],\"sequentialminus\":[[0.0,\"#0d0887\"],[0.1111111111111111,\"#46039f\"],[0.2222222222222222,\"#7201a8\"],[0.3333333333333333,\"#9c179e\"],[0.4444444444444444,\"#bd3786\"],[0.5555555555555556,\"#d8576b\"],[0.6666666666666666,\"#ed7953\"],[0.7777777777777778,\"#fb9f3a\"],[0.8888888888888888,\"#fdca26\"],[1.0,\"#f0f921\"]]},\"colorway\":[\"#636efa\",\"#EF553B\",\"#00cc96\",\"#ab63fa\",\"#FFA15A\",\"#19d3f3\",\"#FF6692\",\"#B6E880\",\"#FF97FF\",\"#FECB52\"],\"font\":{\"color\":\"#2a3f5f\"},\"geo\":{\"bgcolor\":\"white\",\"lakecolor\":\"white\",\"landcolor\":\"#E5ECF6\",\"showlakes\":true,\"showland\":true,\"subunitcolor\":\"white\"},\"hoverlabel\":{\"align\":\"left\"},\"hovermode\":\"closest\",\"mapbox\":{\"style\":\"light\"},\"paper_bgcolor\":\"white\",\"plot_bgcolor\":\"#E5ECF6\",\"polar\":{\"angularaxis\":{\"gridcolor\":\"white\",\"linecolor\":\"white\",\"ticks\":\"\"},\"bgcolor\":\"#E5ECF6\",\"radialaxis\":{\"gridcolor\":\"white\",\"linecolor\":\"white\",\"ticks\":\"\"}},\"scene\":{\"xaxis\":{\"backgroundcolor\":\"#E5ECF6\",\"gridcolor\":\"white\",\"gridwidth\":2,\"linecolor\":\"white\",\"showbackground\":true,\"ticks\":\"\",\"zerolinecolor\":\"white\"},\"yaxis\":{\"backgroundcolor\":\"#E5ECF6\",\"gridcolor\":\"white\",\"gridwidth\":2,\"linecolor\":\"white\",\"showbackground\":true,\"ticks\":\"\",\"zerolinecolor\":\"white\"},\"zaxis\":{\"backgroundcolor\":\"#E5ECF6\",\"gridcolor\":\"white\",\"gridwidth\":2,\"linecolor\":\"white\",\"showbackground\":true,\"ticks\":\"\",\"zerolinecolor\":\"white\"}},\"shapedefaults\":{\"line\":{\"color\":\"#2a3f5f\"}},\"ternary\":{\"aaxis\":{\"gridcolor\":\"white\",\"linecolor\":\"white\",\"ticks\":\"\"},\"baxis\":{\"gridcolor\":\"white\",\"linecolor\":\"white\",\"ticks\":\"\"},\"bgcolor\":\"#E5ECF6\",\"caxis\":{\"gridcolor\":\"white\",\"linecolor\":\"white\",\"ticks\":\"\"}},\"title\":{\"x\":0.05},\"xaxis\":{\"automargin\":true,\"gridcolor\":\"white\",\"linecolor\":\"white\",\"ticks\":\"\",\"title\":{\"standoff\":15},\"zerolinecolor\":\"white\",\"zerolinewidth\":2},\"yaxis\":{\"automargin\":true,\"gridcolor\":\"white\",\"linecolor\":\"white\",\"ticks\":\"\",\"title\":{\"standoff\":15},\"zerolinecolor\":\"white\",\"zerolinewidth\":2}}},\"xaxis\":{\"anchor\":\"y\",\"domain\":[0.0,1.0],\"title\":{\"text\":\"Country/Region\"}},\"yaxis\":{\"anchor\":\"x\",\"domain\":[0.0,1.0],\"title\":{\"text\":\"value\"}},\"legend\":{\"title\":{\"text\":\"variable\"},\"tracegroupgap\":0},\"title\":{\"text\":\"Worldwide Confirmed Cases over time\"},\"barmode\":\"relative\"},                        {\"responsive\": true}                    ).then(function(){\n",
       "                            \n",
       "var gd = document.getElementById('56e8bf7c-8d85-43cd-83d8-26c116e2382a');\n",
       "var x = new MutationObserver(function (mutations, observer) {{\n",
       "        var display = window.getComputedStyle(gd).display;\n",
       "        if (!display || display === 'none') {{\n",
       "            console.log([gd, 'removed!']);\n",
       "            Plotly.purge(gd);\n",
       "            observer.disconnect();\n",
       "        }}\n",
       "}});\n",
       "\n",
       "// Listen for the removal of the full notebook cells\n",
       "var notebookContainer = gd.closest('#notebook-container');\n",
       "if (notebookContainer) {{\n",
       "    x.observe(notebookContainer, {childList: true});\n",
       "}}\n",
       "\n",
       "// Listen for the clearing of the current output cell\n",
       "var outputEl = gd.closest('.output');\n",
       "if (outputEl) {{\n",
       "    x.observe(outputEl, {childList: true});\n",
       "}}\n",
       "\n",
       "                        })                };                });            </script>        </div>"
      ]
     },
     "metadata": {},
     "output_type": "display_data"
    }
   ],
   "source": [
    "covid_data_world= pd.read_csv('https://raw.githubusercontent.com/CSSEGISandData/COVID-19/master/csse_covid_19_data/csse_covid_19_time_series/time_series_covid19_confirmed_global.csv')\n",
    "covid_data_world.columns\n",
    "covid_data_world=covid_data_world.groupby('Country/Region').sum()\n",
    "covid_data_world= covid_data_world.reset_index()\n",
    "covid_data_world=covid_data_world.sort_values(by='6/22/21',ascending= False)\n",
    "covid_data_world=covid_data_world.head(50)\n",
    "figure =px.bar(covid_data_world , x='Country/Region',y=['6/22/21', '6/23/21',\n",
    "       '6/24/21', '6/25/21', '6/26/21', '6/27/21',\n",
    "       '6/13/22', '6/14/22', '6/15/22', '6/16/22', '6/17/22', '6/18/22',\n",
    "       '6/19/22', '6/20/22', '6/21/22', '6/22/22'],title='Worldwide Confirmed Cases over time',text_auto = True)\n",
    "figure.show()"
   ]
  },
  {
   "cell_type": "code",
   "execution_count": null,
   "metadata": {},
   "outputs": [],
   "source": []
  }
 ],
 "metadata": {
  "kernelspec": {
   "display_name": "Python 3 (ipykernel)",
   "language": "python",
   "name": "python3"
  },
  "language_info": {
   "codemirror_mode": {
    "name": "ipython",
    "version": 3
   },
   "file_extension": ".py",
   "mimetype": "text/x-python",
   "name": "python",
   "nbconvert_exporter": "python",
   "pygments_lexer": "ipython3",
   "version": "3.9.7"
  }
 },
 "nbformat": 4,
 "nbformat_minor": 4
}
